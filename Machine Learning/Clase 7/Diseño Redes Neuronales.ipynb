{
 "cells": [
  {
   "cell_type": "code",
   "execution_count": 1,
   "metadata": {},
   "outputs": [],
   "source": [
    "import warnings\n",
    "warnings.simplefilter('ignore')\n",
    "import numpy as np\n",
    "import pandas as pd\n",
    "import matplotlib.pyplot as plt\n",
    "import seaborn as sns\n",
    "\n",
    "plt.style.use('ggplot')\n",
    "plt.rcParams['figure.figsize'] = (10,6)"
   ]
  },
  {
   "cell_type": "code",
   "execution_count": 2,
   "metadata": {},
   "outputs": [],
   "source": [
    "df = pd.read_csv('bank/bank-full.csv', sep=';')"
   ]
  },
  {
   "cell_type": "code",
   "execution_count": 4,
   "metadata": {},
   "outputs": [],
   "source": [
    "df = pd.get_dummies(df,columns=['job','marital','education','default','housing','loan','contact','month','poutcome'])"
   ]
  },
  {
   "cell_type": "code",
   "execution_count": 5,
   "metadata": {},
   "outputs": [],
   "source": [
    "df['y'] = df['y'].map({'yes': 1 , 'no':0})"
   ]
  },
  {
   "cell_type": "code",
   "execution_count": 6,
   "metadata": {},
   "outputs": [
    {
     "data": {
      "text/html": [
       "<div>\n",
       "<style scoped>\n",
       "    .dataframe tbody tr th:only-of-type {\n",
       "        vertical-align: middle;\n",
       "    }\n",
       "\n",
       "    .dataframe tbody tr th {\n",
       "        vertical-align: top;\n",
       "    }\n",
       "\n",
       "    .dataframe thead th {\n",
       "        text-align: right;\n",
       "    }\n",
       "</style>\n",
       "<table border=\"1\" class=\"dataframe\">\n",
       "  <thead>\n",
       "    <tr style=\"text-align: right;\">\n",
       "      <th></th>\n",
       "      <th>age</th>\n",
       "      <th>balance</th>\n",
       "      <th>day</th>\n",
       "      <th>duration</th>\n",
       "      <th>campaign</th>\n",
       "      <th>pdays</th>\n",
       "      <th>previous</th>\n",
       "      <th>y</th>\n",
       "      <th>job_admin.</th>\n",
       "      <th>job_blue-collar</th>\n",
       "      <th>...</th>\n",
       "      <th>month_jun</th>\n",
       "      <th>month_mar</th>\n",
       "      <th>month_may</th>\n",
       "      <th>month_nov</th>\n",
       "      <th>month_oct</th>\n",
       "      <th>month_sep</th>\n",
       "      <th>poutcome_failure</th>\n",
       "      <th>poutcome_other</th>\n",
       "      <th>poutcome_success</th>\n",
       "      <th>poutcome_unknown</th>\n",
       "    </tr>\n",
       "  </thead>\n",
       "  <tbody>\n",
       "    <tr>\n",
       "      <td>count</td>\n",
       "      <td>45211.000000</td>\n",
       "      <td>45211.000000</td>\n",
       "      <td>45211.000000</td>\n",
       "      <td>45211.000000</td>\n",
       "      <td>45211.000000</td>\n",
       "      <td>45211.000000</td>\n",
       "      <td>45211.000000</td>\n",
       "      <td>45211.000000</td>\n",
       "      <td>45211.000000</td>\n",
       "      <td>45211.000000</td>\n",
       "      <td>...</td>\n",
       "      <td>45211.000000</td>\n",
       "      <td>45211.000000</td>\n",
       "      <td>45211.000000</td>\n",
       "      <td>45211.000000</td>\n",
       "      <td>45211.000000</td>\n",
       "      <td>45211.000000</td>\n",
       "      <td>45211.000000</td>\n",
       "      <td>45211.000000</td>\n",
       "      <td>45211.000000</td>\n",
       "      <td>45211.000000</td>\n",
       "    </tr>\n",
       "    <tr>\n",
       "      <td>mean</td>\n",
       "      <td>40.936210</td>\n",
       "      <td>1362.272058</td>\n",
       "      <td>15.806419</td>\n",
       "      <td>258.163080</td>\n",
       "      <td>2.763841</td>\n",
       "      <td>40.197828</td>\n",
       "      <td>0.580323</td>\n",
       "      <td>0.116985</td>\n",
       "      <td>0.114375</td>\n",
       "      <td>0.215257</td>\n",
       "      <td>...</td>\n",
       "      <td>0.118135</td>\n",
       "      <td>0.010551</td>\n",
       "      <td>0.304483</td>\n",
       "      <td>0.087810</td>\n",
       "      <td>0.016323</td>\n",
       "      <td>0.012807</td>\n",
       "      <td>0.108403</td>\n",
       "      <td>0.040698</td>\n",
       "      <td>0.033421</td>\n",
       "      <td>0.817478</td>\n",
       "    </tr>\n",
       "    <tr>\n",
       "      <td>std</td>\n",
       "      <td>10.618762</td>\n",
       "      <td>3044.765829</td>\n",
       "      <td>8.322476</td>\n",
       "      <td>257.527812</td>\n",
       "      <td>3.098021</td>\n",
       "      <td>100.128746</td>\n",
       "      <td>2.303441</td>\n",
       "      <td>0.321406</td>\n",
       "      <td>0.318269</td>\n",
       "      <td>0.411005</td>\n",
       "      <td>...</td>\n",
       "      <td>0.322771</td>\n",
       "      <td>0.102174</td>\n",
       "      <td>0.460193</td>\n",
       "      <td>0.283022</td>\n",
       "      <td>0.126718</td>\n",
       "      <td>0.112441</td>\n",
       "      <td>0.310892</td>\n",
       "      <td>0.197592</td>\n",
       "      <td>0.179735</td>\n",
       "      <td>0.386278</td>\n",
       "    </tr>\n",
       "    <tr>\n",
       "      <td>min</td>\n",
       "      <td>18.000000</td>\n",
       "      <td>-8019.000000</td>\n",
       "      <td>1.000000</td>\n",
       "      <td>0.000000</td>\n",
       "      <td>1.000000</td>\n",
       "      <td>-1.000000</td>\n",
       "      <td>0.000000</td>\n",
       "      <td>0.000000</td>\n",
       "      <td>0.000000</td>\n",
       "      <td>0.000000</td>\n",
       "      <td>...</td>\n",
       "      <td>0.000000</td>\n",
       "      <td>0.000000</td>\n",
       "      <td>0.000000</td>\n",
       "      <td>0.000000</td>\n",
       "      <td>0.000000</td>\n",
       "      <td>0.000000</td>\n",
       "      <td>0.000000</td>\n",
       "      <td>0.000000</td>\n",
       "      <td>0.000000</td>\n",
       "      <td>0.000000</td>\n",
       "    </tr>\n",
       "    <tr>\n",
       "      <td>25%</td>\n",
       "      <td>33.000000</td>\n",
       "      <td>72.000000</td>\n",
       "      <td>8.000000</td>\n",
       "      <td>103.000000</td>\n",
       "      <td>1.000000</td>\n",
       "      <td>-1.000000</td>\n",
       "      <td>0.000000</td>\n",
       "      <td>0.000000</td>\n",
       "      <td>0.000000</td>\n",
       "      <td>0.000000</td>\n",
       "      <td>...</td>\n",
       "      <td>0.000000</td>\n",
       "      <td>0.000000</td>\n",
       "      <td>0.000000</td>\n",
       "      <td>0.000000</td>\n",
       "      <td>0.000000</td>\n",
       "      <td>0.000000</td>\n",
       "      <td>0.000000</td>\n",
       "      <td>0.000000</td>\n",
       "      <td>0.000000</td>\n",
       "      <td>1.000000</td>\n",
       "    </tr>\n",
       "    <tr>\n",
       "      <td>50%</td>\n",
       "      <td>39.000000</td>\n",
       "      <td>448.000000</td>\n",
       "      <td>16.000000</td>\n",
       "      <td>180.000000</td>\n",
       "      <td>2.000000</td>\n",
       "      <td>-1.000000</td>\n",
       "      <td>0.000000</td>\n",
       "      <td>0.000000</td>\n",
       "      <td>0.000000</td>\n",
       "      <td>0.000000</td>\n",
       "      <td>...</td>\n",
       "      <td>0.000000</td>\n",
       "      <td>0.000000</td>\n",
       "      <td>0.000000</td>\n",
       "      <td>0.000000</td>\n",
       "      <td>0.000000</td>\n",
       "      <td>0.000000</td>\n",
       "      <td>0.000000</td>\n",
       "      <td>0.000000</td>\n",
       "      <td>0.000000</td>\n",
       "      <td>1.000000</td>\n",
       "    </tr>\n",
       "    <tr>\n",
       "      <td>75%</td>\n",
       "      <td>48.000000</td>\n",
       "      <td>1428.000000</td>\n",
       "      <td>21.000000</td>\n",
       "      <td>319.000000</td>\n",
       "      <td>3.000000</td>\n",
       "      <td>-1.000000</td>\n",
       "      <td>0.000000</td>\n",
       "      <td>0.000000</td>\n",
       "      <td>0.000000</td>\n",
       "      <td>0.000000</td>\n",
       "      <td>...</td>\n",
       "      <td>0.000000</td>\n",
       "      <td>0.000000</td>\n",
       "      <td>1.000000</td>\n",
       "      <td>0.000000</td>\n",
       "      <td>0.000000</td>\n",
       "      <td>0.000000</td>\n",
       "      <td>0.000000</td>\n",
       "      <td>0.000000</td>\n",
       "      <td>0.000000</td>\n",
       "      <td>1.000000</td>\n",
       "    </tr>\n",
       "    <tr>\n",
       "      <td>max</td>\n",
       "      <td>95.000000</td>\n",
       "      <td>102127.000000</td>\n",
       "      <td>31.000000</td>\n",
       "      <td>4918.000000</td>\n",
       "      <td>63.000000</td>\n",
       "      <td>871.000000</td>\n",
       "      <td>275.000000</td>\n",
       "      <td>1.000000</td>\n",
       "      <td>1.000000</td>\n",
       "      <td>1.000000</td>\n",
       "      <td>...</td>\n",
       "      <td>1.000000</td>\n",
       "      <td>1.000000</td>\n",
       "      <td>1.000000</td>\n",
       "      <td>1.000000</td>\n",
       "      <td>1.000000</td>\n",
       "      <td>1.000000</td>\n",
       "      <td>1.000000</td>\n",
       "      <td>1.000000</td>\n",
       "      <td>1.000000</td>\n",
       "      <td>1.000000</td>\n",
       "    </tr>\n",
       "  </tbody>\n",
       "</table>\n",
       "<p>8 rows × 52 columns</p>\n",
       "</div>"
      ],
      "text/plain": [
       "                age        balance           day      duration      campaign  \\\n",
       "count  45211.000000   45211.000000  45211.000000  45211.000000  45211.000000   \n",
       "mean      40.936210    1362.272058     15.806419    258.163080      2.763841   \n",
       "std       10.618762    3044.765829      8.322476    257.527812      3.098021   \n",
       "min       18.000000   -8019.000000      1.000000      0.000000      1.000000   \n",
       "25%       33.000000      72.000000      8.000000    103.000000      1.000000   \n",
       "50%       39.000000     448.000000     16.000000    180.000000      2.000000   \n",
       "75%       48.000000    1428.000000     21.000000    319.000000      3.000000   \n",
       "max       95.000000  102127.000000     31.000000   4918.000000     63.000000   \n",
       "\n",
       "              pdays      previous             y    job_admin.  \\\n",
       "count  45211.000000  45211.000000  45211.000000  45211.000000   \n",
       "mean      40.197828      0.580323      0.116985      0.114375   \n",
       "std      100.128746      2.303441      0.321406      0.318269   \n",
       "min       -1.000000      0.000000      0.000000      0.000000   \n",
       "25%       -1.000000      0.000000      0.000000      0.000000   \n",
       "50%       -1.000000      0.000000      0.000000      0.000000   \n",
       "75%       -1.000000      0.000000      0.000000      0.000000   \n",
       "max      871.000000    275.000000      1.000000      1.000000   \n",
       "\n",
       "       job_blue-collar  ...     month_jun     month_mar     month_may  \\\n",
       "count     45211.000000  ...  45211.000000  45211.000000  45211.000000   \n",
       "mean          0.215257  ...      0.118135      0.010551      0.304483   \n",
       "std           0.411005  ...      0.322771      0.102174      0.460193   \n",
       "min           0.000000  ...      0.000000      0.000000      0.000000   \n",
       "25%           0.000000  ...      0.000000      0.000000      0.000000   \n",
       "50%           0.000000  ...      0.000000      0.000000      0.000000   \n",
       "75%           0.000000  ...      0.000000      0.000000      1.000000   \n",
       "max           1.000000  ...      1.000000      1.000000      1.000000   \n",
       "\n",
       "          month_nov     month_oct     month_sep  poutcome_failure  \\\n",
       "count  45211.000000  45211.000000  45211.000000      45211.000000   \n",
       "mean       0.087810      0.016323      0.012807          0.108403   \n",
       "std        0.283022      0.126718      0.112441          0.310892   \n",
       "min        0.000000      0.000000      0.000000          0.000000   \n",
       "25%        0.000000      0.000000      0.000000          0.000000   \n",
       "50%        0.000000      0.000000      0.000000          0.000000   \n",
       "75%        0.000000      0.000000      0.000000          0.000000   \n",
       "max        1.000000      1.000000      1.000000          1.000000   \n",
       "\n",
       "       poutcome_other  poutcome_success  poutcome_unknown  \n",
       "count    45211.000000      45211.000000      45211.000000  \n",
       "mean         0.040698          0.033421          0.817478  \n",
       "std          0.197592          0.179735          0.386278  \n",
       "min          0.000000          0.000000          0.000000  \n",
       "25%          0.000000          0.000000          1.000000  \n",
       "50%          0.000000          0.000000          1.000000  \n",
       "75%          0.000000          0.000000          1.000000  \n",
       "max          1.000000          1.000000          1.000000  \n",
       "\n",
       "[8 rows x 52 columns]"
      ]
     },
     "execution_count": 6,
     "metadata": {},
     "output_type": "execute_result"
    }
   ],
   "source": [
    "df.describe()"
   ]
  },
  {
   "cell_type": "code",
   "execution_count": 8,
   "metadata": {},
   "outputs": [
    {
     "data": {
      "text/plain": [
       "(45211, 52)"
      ]
     },
     "execution_count": 8,
     "metadata": {},
     "output_type": "execute_result"
    }
   ],
   "source": [
    "df.shape"
   ]
  },
  {
   "cell_type": "code",
   "execution_count": 10,
   "metadata": {},
   "outputs": [],
   "source": [
    "from sklearn.model_selection import train_test_split"
   ]
  },
  {
   "cell_type": "code",
   "execution_count": 11,
   "metadata": {},
   "outputs": [],
   "source": [
    "y = df.pop('y')"
   ]
  },
  {
   "cell_type": "code",
   "execution_count": 12,
   "metadata": {},
   "outputs": [],
   "source": [
    "X_eval, X_holdout, y_eval, y_holdout = train_test_split(df, y, test_size=.5, random_state=11238)\n",
    "X_train , X_test, y_train , y_test = train_test_split(X_eval,y_eval, test_size=.33, random_state=11238)"
   ]
  },
  {
   "cell_type": "code",
   "execution_count": 17,
   "metadata": {},
   "outputs": [],
   "source": [
    "from keras.models import Sequential\n",
    "from keras.layers import Dense\n",
    "from keras.optimizers import Adadelta\n",
    "from keras.callbacks import History"
   ]
  },
  {
   "cell_type": "code",
   "execution_count": 18,
   "metadata": {},
   "outputs": [],
   "source": [
    "n_neurons = X_train.shape[1]//2\n",
    "input_dim = (X_train.shape[1], )"
   ]
  },
  {
   "cell_type": "code",
   "execution_count": 19,
   "metadata": {},
   "outputs": [
    {
     "name": "stdout",
     "output_type": "stream",
     "text": [
      "WARNING:tensorflow:From //anaconda3/envs/ml/lib/python3.6/site-packages/tensorflow/python/framework/op_def_library.py:263: colocate_with (from tensorflow.python.framework.ops) is deprecated and will be removed in a future version.\n",
      "Instructions for updating:\n",
      "Colocations handled automatically by placer.\n",
      "Model: \"sequential_1\"\n",
      "_________________________________________________________________\n",
      "Layer (type)                 Output Shape              Param #   \n",
      "=================================================================\n",
      "1st_layer (Dense)            (None, 25)                1300      \n",
      "_________________________________________________________________\n",
      "output_layer (Dense)         (None, 1)                 26        \n",
      "=================================================================\n",
      "Total params: 1,326\n",
      "Trainable params: 1,326\n",
      "Non-trainable params: 0\n",
      "_________________________________________________________________\n"
     ]
    }
   ],
   "source": [
    "model_1 = Sequential()\n",
    "\n",
    "model_1.add(\n",
    "    Dense(n_neurons,\n",
    "         input_shape= input_dim,\n",
    "         activation= 'relu',\n",
    "         use_bias=True,\n",
    "         name='1st_layer')\n",
    ")\n",
    "\n",
    "model_1.add(\n",
    "    Dense(1,\n",
    "         activation='sigmoid',\n",
    "         name='output_layer')\n",
    ")\n",
    "\n",
    "model_1.compile(\n",
    "    optimizer = Adadelta(),\n",
    "    loss= 'binary_crossentropy',\n",
    "    metrics= ['accuracy']\n",
    ")\n",
    "\n",
    "model_1.summary()"
   ]
  },
  {
   "cell_type": "code",
   "execution_count": 20,
   "metadata": {},
   "outputs": [
    {
     "name": "stdout",
     "output_type": "stream",
     "text": [
      "WARNING:tensorflow:From //anaconda3/envs/ml/lib/python3.6/site-packages/tensorflow/python/ops/math_ops.py:3066: to_int32 (from tensorflow.python.ops.math_ops) is deprecated and will be removed in a future version.\n",
      "Instructions for updating:\n",
      "Use tf.cast instead.\n"
     ]
    },
    {
     "data": {
      "text/plain": [
       "<keras.callbacks.History at 0x1a1ea67048>"
      ]
     },
     "execution_count": 20,
     "metadata": {},
     "output_type": "execute_result"
    }
   ],
   "source": [
    "history_1 = History()\n",
    "\n",
    "model_1.fit(X_train,y_train, epochs=50, batch_size=512, verbose=0, callbacks=[history_1], validation_data=(X_test,y_test))"
   ]
  },
  {
   "cell_type": "code",
   "execution_count": 21,
   "metadata": {},
   "outputs": [
    {
     "name": "stdout",
     "output_type": "stream",
     "text": [
      "22606/22606 [==============================] - 0s 8us/step\n"
     ]
    },
    {
     "data": {
      "text/plain": [
       "[0.5553563279271558, 0.8392904538459866]"
      ]
     },
     "execution_count": 21,
     "metadata": {},
     "output_type": "execute_result"
    }
   ],
   "source": [
    "model_1.evaluate(X_holdout,y_holdout)"
   ]
  },
  {
   "cell_type": "code",
   "execution_count": 22,
   "metadata": {},
   "outputs": [],
   "source": [
    "## 2 capas ocultas"
   ]
  },
  {
   "cell_type": "code",
   "execution_count": 25,
   "metadata": {},
   "outputs": [
    {
     "name": "stdout",
     "output_type": "stream",
     "text": [
      "Model: \"sequential_4\"\n",
      "_________________________________________________________________\n",
      "Layer (type)                 Output Shape              Param #   \n",
      "=================================================================\n",
      "1st_layer (Dense)            (None, 25)                1300      \n",
      "_________________________________________________________________\n",
      "2nd_layer (Dense)            (None, 25)                650       \n",
      "_________________________________________________________________\n",
      "output_layer (Dense)         (None, 1)                 26        \n",
      "=================================================================\n",
      "Total params: 1,976\n",
      "Trainable params: 1,976\n",
      "Non-trainable params: 0\n",
      "_________________________________________________________________\n"
     ]
    }
   ],
   "source": [
    "model_2 = Sequential()\n",
    "\n",
    "model_2.add(\n",
    "    Dense(n_neurons,\n",
    "         input_shape= input_dim,\n",
    "         activation= 'relu',\n",
    "         use_bias=True,\n",
    "         name='1st_layer')\n",
    ")\n",
    "\n",
    "model_2.add(\n",
    "    Dense(n_neurons,\n",
    "         activation= 'relu',\n",
    "         use_bias=True,\n",
    "         name='2nd_layer')\n",
    ")\n",
    "\n",
    "model_2.add(\n",
    "    Dense(1,\n",
    "         activation='sigmoid',\n",
    "         name='output_layer')\n",
    ")\n",
    "\n",
    "model_2.compile(\n",
    "    optimizer = Adadelta(),\n",
    "    loss= 'binary_crossentropy',\n",
    "    metrics= ['accuracy']\n",
    ")\n",
    "\n",
    "model_2.summary()"
   ]
  },
  {
   "cell_type": "code",
   "execution_count": 26,
   "metadata": {},
   "outputs": [
    {
     "data": {
      "text/plain": [
       "<keras.callbacks.History at 0x1a32bcacf8>"
      ]
     },
     "execution_count": 26,
     "metadata": {},
     "output_type": "execute_result"
    }
   ],
   "source": [
    "history_2 = History()\n",
    "\n",
    "model_2.fit(X_train,y_train, epochs=50, \n",
    "            batch_size=512, verbose=0,\n",
    "            callbacks=[history_2], validation_data=(X_test,y_test))"
   ]
  },
  {
   "cell_type": "code",
   "execution_count": 27,
   "metadata": {},
   "outputs": [
    {
     "name": "stdout",
     "output_type": "stream",
     "text": [
      "22606/22606 [==============================] - 0s 8us/step\n"
     ]
    },
    {
     "data": {
      "text/plain": [
       "[0.4803406542922969, 0.8849862868317796]"
      ]
     },
     "execution_count": 27,
     "metadata": {},
     "output_type": "execute_result"
    }
   ],
   "source": [
    "model_2.evaluate(X_holdout,y_holdout)"
   ]
  },
  {
   "cell_type": "code",
   "execution_count": 28,
   "metadata": {},
   "outputs": [],
   "source": [
    "#error perdida / % acertividad"
   ]
  },
  {
   "cell_type": "code",
   "execution_count": 33,
   "metadata": {},
   "outputs": [
    {
     "name": "stdout",
     "output_type": "stream",
     "text": [
      "Model: \"sequential_6\"\n",
      "_________________________________________________________________\n",
      "Layer (type)                 Output Shape              Param #   \n",
      "=================================================================\n",
      "1st_layer (Dense)            (None, 25)                1300      \n",
      "_________________________________________________________________\n",
      "2nd_layer (Dense)            (None, 25)                650       \n",
      "_________________________________________________________________\n",
      "3rd_layer (Dense)            (None, 25)                650       \n",
      "_________________________________________________________________\n",
      "output_layer (Dense)         (None, 1)                 26        \n",
      "=================================================================\n",
      "Total params: 2,626\n",
      "Trainable params: 2,626\n",
      "Non-trainable params: 0\n",
      "_________________________________________________________________\n"
     ]
    }
   ],
   "source": [
    "model_3 = Sequential()\n",
    "model_3.add(Dense(n_neurons,\n",
    "                input_shape = input_dim,\n",
    "                activation = 'relu',\n",
    "                use_bias = True,\n",
    "                name = '1st_layer'))\n",
    "model_3.add(Dense(n_neurons,\n",
    "                activation = 'relu',\n",
    "                use_bias = True,\n",
    "                name = '2nd_layer'))\n",
    "model_3.add(Dense(n_neurons,\n",
    "                activation = 'relu',\n",
    "                use_bias = True,\n",
    "                name = '3rd_layer'))\n",
    "model_3.add(Dense(1,\n",
    "                activation='sigmoid',\n",
    "                name = 'output_layer'))\n",
    "model_3.compile(optimizer=Adadelta(),\n",
    "              loss='binary_crossentropy',\n",
    "              metrics=['accuracy'])\n",
    " \n",
    "model_3.summary()"
   ]
  },
  {
   "cell_type": "code",
   "execution_count": 34,
   "metadata": {},
   "outputs": [
    {
     "data": {
      "text/plain": [
       "<keras.callbacks.History at 0x1a3563e320>"
      ]
     },
     "execution_count": 34,
     "metadata": {},
     "output_type": "execute_result"
    }
   ],
   "source": [
    "history_3 = History()\n",
    "model_3.fit(X_train,y_train, epochs=50, \n",
    "            batch_size=512, verbose=0,\n",
    "            callbacks=[history_3], validation_data=(X_test,y_test))"
   ]
  },
  {
   "cell_type": "code",
   "execution_count": 35,
   "metadata": {},
   "outputs": [
    {
     "name": "stdout",
     "output_type": "stream",
     "text": [
      "22606/22606 [==============================] - 0s 9us/step\n"
     ]
    },
    {
     "data": {
      "text/plain": [
       "[0.3728219551525105, 0.8854728832894971]"
      ]
     },
     "execution_count": 35,
     "metadata": {},
     "output_type": "execute_result"
    }
   ],
   "source": [
    "model_3.evaluate(X_holdout,y_holdout)"
   ]
  },
  {
   "cell_type": "code",
   "execution_count": 36,
   "metadata": {},
   "outputs": [
    {
     "name": "stdout",
     "output_type": "stream",
     "text": [
      "Model: \"sequential_7\"\n",
      "_________________________________________________________________\n",
      "Layer (type)                 Output Shape              Param #   \n",
      "=================================================================\n",
      "1st_layer (Dense)            (None, 25)                1300      \n",
      "_________________________________________________________________\n",
      "2nd_layer (Dense)            (None, 25)                650       \n",
      "_________________________________________________________________\n",
      "3rd_layer (Dense)            (None, 25)                650       \n",
      "_________________________________________________________________\n",
      "4th_layer (Dense)            (None, 25)                650       \n",
      "_________________________________________________________________\n",
      "output_layer (Dense)         (None, 1)                 26        \n",
      "=================================================================\n",
      "Total params: 3,276\n",
      "Trainable params: 3,276\n",
      "Non-trainable params: 0\n",
      "_________________________________________________________________\n"
     ]
    }
   ],
   "source": [
    "model_4 = Sequential()\n",
    "model_4.add(Dense(n_neurons,\n",
    "                input_shape = input_dim,\n",
    "                activation = 'relu',\n",
    "                use_bias = True,\n",
    "                name = '1st_layer'))\n",
    "model_4.add(Dense(n_neurons,\n",
    "                activation = 'relu',\n",
    "                use_bias = True,\n",
    "                name = '2nd_layer'))\n",
    "model_4.add(Dense(n_neurons,\n",
    "                activation = 'relu',\n",
    "                use_bias = True,\n",
    "                name = '3rd_layer'))\n",
    "model_4.add(Dense(n_neurons,\n",
    "                activation = 'relu',\n",
    "                use_bias = True,\n",
    "                name = '4th_layer'))\n",
    "model_4.add(Dense(1,\n",
    "                activation='sigmoid',\n",
    "                name = 'output_layer'))\n",
    "model_4.compile(optimizer=Adadelta(),\n",
    "              loss='binary_crossentropy',\n",
    "              metrics=['accuracy'])\n",
    " \n",
    "model_4.summary()"
   ]
  },
  {
   "cell_type": "code",
   "execution_count": 66,
   "metadata": {},
   "outputs": [
    {
     "data": {
      "text/plain": [
       "<keras.callbacks.History at 0x1a33b70c18>"
      ]
     },
     "execution_count": 66,
     "metadata": {},
     "output_type": "execute_result"
    }
   ],
   "source": [
    "history_4 = History()\n",
    "\n",
    "model_4.fit(X_train,y_train, epochs=50, \n",
    "            batch_size=512, verbose=0,\n",
    "            callbacks=[history_4], validation_data=(X_test,y_test))"
   ]
  },
  {
   "cell_type": "code",
   "execution_count": 67,
   "metadata": {},
   "outputs": [
    {
     "name": "stdout",
     "output_type": "stream",
     "text": [
      "22606/22606 [==============================] - 0s 10us/step\n"
     ]
    },
    {
     "data": {
      "text/plain": [
       "[0.25266177834562104, 0.8888348225976455]"
      ]
     },
     "execution_count": 67,
     "metadata": {},
     "output_type": "execute_result"
    }
   ],
   "source": [
    "model_4.evaluate(X_holdout,y_holdout)"
   ]
  },
  {
   "cell_type": "code",
   "execution_count": null,
   "metadata": {},
   "outputs": [],
   "source": []
  },
  {
   "cell_type": "code",
   "execution_count": null,
   "metadata": {},
   "outputs": [],
   "source": []
  },
  {
   "cell_type": "code",
   "execution_count": 68,
   "metadata": {},
   "outputs": [
    {
     "data": {
      "text/html": [
       "<div>\n",
       "<style scoped>\n",
       "    .dataframe tbody tr th:only-of-type {\n",
       "        vertical-align: middle;\n",
       "    }\n",
       "\n",
       "    .dataframe tbody tr th {\n",
       "        vertical-align: top;\n",
       "    }\n",
       "\n",
       "    .dataframe thead th {\n",
       "        text-align: right;\n",
       "    }\n",
       "</style>\n",
       "<table border=\"1\" class=\"dataframe\">\n",
       "  <thead>\n",
       "    <tr style=\"text-align: right;\">\n",
       "      <th></th>\n",
       "      <th>1 Capa</th>\n",
       "      <th>2 Capas</th>\n",
       "      <th>3 Capas</th>\n",
       "      <th>4 Capas</th>\n",
       "    </tr>\n",
       "    <tr>\n",
       "      <th>metric</th>\n",
       "      <th></th>\n",
       "      <th></th>\n",
       "      <th></th>\n",
       "      <th></th>\n",
       "    </tr>\n",
       "  </thead>\n",
       "  <tbody>\n",
       "    <tr>\n",
       "      <td>val_loss</td>\n",
       "      <td>1.008</td>\n",
       "      <td>0.283</td>\n",
       "      <td>0.826</td>\n",
       "      <td>0.259</td>\n",
       "    </tr>\n",
       "    <tr>\n",
       "      <td>val_acc</td>\n",
       "      <td>0.854</td>\n",
       "      <td>0.885</td>\n",
       "      <td>0.864</td>\n",
       "      <td>0.888</td>\n",
       "    </tr>\n",
       "    <tr>\n",
       "      <td>loss</td>\n",
       "      <td>1.031</td>\n",
       "      <td>0.273</td>\n",
       "      <td>0.850</td>\n",
       "      <td>0.250</td>\n",
       "    </tr>\n",
       "    <tr>\n",
       "      <td>acc</td>\n",
       "      <td>0.862</td>\n",
       "      <td>0.885</td>\n",
       "      <td>0.857</td>\n",
       "      <td>0.890</td>\n",
       "    </tr>\n",
       "  </tbody>\n",
       "</table>\n",
       "</div>"
      ],
      "text/plain": [
       "          1 Capa  2 Capas  3 Capas  4 Capas\n",
       "metric                                     \n",
       "val_loss   1.008    0.283    0.826    0.259\n",
       "val_acc    0.854    0.885    0.864    0.888\n",
       "loss       1.031    0.273    0.850    0.250\n",
       "acc        0.862    0.885    0.857    0.890"
      ]
     },
     "execution_count": 68,
     "metadata": {},
     "output_type": "execute_result"
    }
   ],
   "source": [
    "preserve_history_values = lambda x: [np.mean(x.history[i]).round(3) for i in x.history.keys()]\n",
    "\n",
    "values = pd.DataFrame(\n",
    "    {'1 Capa': preserve_history_values(history_1),\n",
    "     '2 Capas': preserve_history_values(history_2),\n",
    "     '3 Capas': preserve_history_values(history_3),\n",
    "     '4 Capas': preserve_history_values(history_4),\n",
    "    'metric': list(history_1.history.keys())}\n",
    ").set_index('metric')\n",
    "\n",
    "values"
   ]
  },
  {
   "cell_type": "code",
   "execution_count": 73,
   "metadata": {},
   "outputs": [],
   "source": [
    "def plot_cross_entropy(history, ax=None):\n",
    "    layers = len(history.model.layers)\n",
    "    extract_val_loss = history.history['val_loss']\n",
    "    extract_loss = history.history['loss']\n",
    "    plt.plot(range(1, len(extract_val_loss) + 1),\n",
    "            extract_val_loss,label = 'CV Error',\n",
    "            color='tomato', lw=2)\n",
    "    plt.plot(range(1, len(extract_loss) + 1),\n",
    "            extract_loss, label = 'Training Error',\n",
    "            color='dodgerblue', lw=2)\n",
    "    plt.legend()"
   ]
  },
  {
   "cell_type": "code",
   "execution_count": 77,
   "metadata": {},
   "outputs": [
    {
     "data": {
      "image/png": "[encoded data removed]",
      "text/plain": [
       "<Figure size 432x288 with 1 Axes>"
      ]
     },
     "metadata": {
      "needs_background": "light"
     },
     "output_type": "display_data"
    }
   ],
   "source": [
    "plot_cross_entropy(history_4)"
   ]
  },
  {
   "cell_type": "code",
   "execution_count": 79,
   "metadata": {},
   "outputs": [
    {
     "data": {
      "image/png": "[encoded data removed]",
      "text/plain": [
       "<Figure size 720x720 with 4 Axes>"
      ]
     },
     "metadata": {
      "needs_background": "light"
     },
     "output_type": "display_data"
    }
   ],
   "source": [
    "plt.figure(figsize=(10, 10))\n",
    "for index, value in enumerate([history_1, history_2, history_3, history_4]):\n",
    "    plt.subplot(2, 2, index + 1)\n",
    "    plot_cross_entropy(value)\n",
    "    #if index == 0:\n",
    "    #    y_lim_min, y_lim_max = plt.ylim()\n",
    "    #plt.ylim(y_lim_min, y_lim_max)\n",
    "    plt.title(\"Binary Cross-Entropy - Capas: {} \".format(index + 1))\n",
    "    plt.tight_layout()\n",
    "    plt.xlabel('Epochs')\n",
    "    plt.ylabel('BCE')"
   ]
  },
  {
   "cell_type": "code",
   "execution_count": 80,
   "metadata": {},
   "outputs": [],
   "source": [
    "from keras.regularizers import l2"
   ]
  },
  {
   "cell_type": "code",
   "execution_count": null,
   "metadata": {},
   "outputs": [],
   "source": []
  },
  {
   "cell_type": "code",
   "execution_count": 81,
   "metadata": {},
   "outputs": [
    {
     "name": "stdout",
     "output_type": "stream",
     "text": [
      "Model: \"sequential_8\"\n",
      "_________________________________________________________________\n",
      "Layer (type)                 Output Shape              Param #   \n",
      "=================================================================\n",
      "1st_layer (Dense)            (None, 25)                1300      \n",
      "_________________________________________________________________\n",
      "2nd_layer (Dense)            (None, 25)                650       \n",
      "_________________________________________________________________\n",
      "3rd_layer (Dense)            (None, 25)                650       \n",
      "_________________________________________________________________\n",
      "4th_layer (Dense)            (None, 25)                650       \n",
      "_________________________________________________________________\n",
      "output_layer (Dense)         (None, 1)                 26        \n",
      "=================================================================\n",
      "Total params: 3,276\n",
      "Trainable params: 3,276\n",
      "Non-trainable params: 0\n",
      "_________________________________________________________________\n"
     ]
    }
   ],
   "source": [
    "model_4_reg = Sequential()\n",
    "\n",
    "model_4_reg.add(Dense(n_neurons,\n",
    "                input_shape = input_dim,\n",
    "                activation = 'relu',\n",
    "                use_bias = True,\n",
    "                kernel_regularizer=l2(0.01),\n",
    "                name = '1st_layer'))\n",
    "\n",
    "model_4_reg.add(Dense(n_neurons,\n",
    "                activation = 'relu',\n",
    "                use_bias = True,\n",
    "                kernel_regularizer=l2(0.01),\n",
    "                name = '2nd_layer'))\n",
    "\n",
    "model_4_reg.add(Dense(n_neurons,\n",
    "                activation = 'relu',\n",
    "                use_bias = True,\n",
    "                kernel_regularizer=l2(0.01),\n",
    "                name = '3rd_layer'))\n",
    "\n",
    "model_4_reg.add(Dense(n_neurons,\n",
    "                activation = 'relu',\n",
    "                use_bias = True,\n",
    "                kernel_regularizer=l2(0.01),\n",
    "                name = '4th_layer'))\n",
    "\n",
    "model_4_reg.add(Dense(1,\n",
    "                activation='sigmoid',\n",
    "                name = 'output_layer'))\n",
    "\n",
    "model_4_reg.compile(optimizer=Adadelta(),\n",
    "              loss='binary_crossentropy',\n",
    "              metrics=['accuracy'])\n",
    " \n",
    "model_4_reg.summary()"
   ]
  },
  {
   "cell_type": "code",
   "execution_count": 82,
   "metadata": {},
   "outputs": [
    {
     "name": "stdout",
     "output_type": "stream",
     "text": [
      "22606/22606 [==============================] - 0s 10us/step\n"
     ]
    },
    {
     "data": {
      "text/plain": [
       "[0.44894228551721693, 0.8849862868159596]"
      ]
     },
     "execution_count": 82,
     "metadata": {},
     "output_type": "execute_result"
    }
   ],
   "source": [
    "history_4_reg = History()\n",
    "\n",
    "model_4_reg.fit(X_train,y_train, epochs=50, \n",
    "            batch_size=512, verbose=0,\n",
    "            callbacks=[history_4_reg], validation_data=(X_test,y_test))\n",
    "model_4_reg.evaluate(X_holdout,y_holdout)"
   ]
  },
  {
   "cell_type": "code",
   "execution_count": 86,
   "metadata": {},
   "outputs": [
    {
     "data": {
      "text/plain": [
       "(0, 2)"
      ]
     },
     "execution_count": 86,
     "metadata": {},
     "output_type": "execute_result"
    },
    {
     "data": {
      "image/png": "[encoded data removed]",
      "text/plain": [
       "<Figure size 432x288 with 2 Axes>"
      ]
     },
     "metadata": {
      "needs_background": "light"
     },
     "output_type": "display_data"
    }
   ],
   "source": [
    "plt.subplot(1,2,1)\n",
    "plot_cross_entropy(history_4)\n",
    "plt.ylim(0,2)\n",
    "plt.title('BCE - 4 Capas, sin regular')\n",
    "plt.subplot(1,2,2)\n",
    "plot_cross_entropy(history_4_reg)\n",
    "plt.title('BCE - 4 Capas, con regular')\n",
    "plt.ylim(0,2)"
   ]
  },
  {
   "cell_type": "code",
   "execution_count": 87,
   "metadata": {},
   "outputs": [],
   "source": [
    "from keras.layers import Dropout\n",
    "from keras.regularizers import l2\n",
    "from keras.constraints import maxnorm"
   ]
  },
  {
   "cell_type": "code",
   "execution_count": 90,
   "metadata": {},
   "outputs": [],
   "source": [
    "constraint = maxnorm(3)"
   ]
  },
  {
   "cell_type": "code",
   "execution_count": 92,
   "metadata": {},
   "outputs": [
    {
     "name": "stdout",
     "output_type": "stream",
     "text": [
      "Model: \"sequential_11\"\n",
      "_________________________________________________________________\n",
      "Layer (type)                 Output Shape              Param #   \n",
      "=================================================================\n",
      "1st_layer (Dense)            (None, 25)                1300      \n",
      "_________________________________________________________________\n",
      "1stdrop (Dropout)            (None, 25)                0         \n",
      "_________________________________________________________________\n",
      "2nd_layer (Dense)            (None, 25)                650       \n",
      "_________________________________________________________________\n",
      "2nddrop (Dropout)            (None, 25)                0         \n",
      "_________________________________________________________________\n",
      "3rd_layer (Dense)            (None, 25)                650       \n",
      "_________________________________________________________________\n",
      "3rddrop (Dropout)            (None, 25)                0         \n",
      "_________________________________________________________________\n",
      "4th_layer (Dense)            (None, 25)                650       \n",
      "_________________________________________________________________\n",
      "4thdrop (Dropout)            (None, 25)                0         \n",
      "_________________________________________________________________\n",
      "output_layer (Dense)         (None, 1)                 26        \n",
      "=================================================================\n",
      "Total params: 3,276\n",
      "Trainable params: 3,276\n",
      "Non-trainable params: 0\n",
      "_________________________________________________________________\n"
     ]
    }
   ],
   "source": [
    "model_4_drop = Sequential()\n",
    "\n",
    "model_4_drop.add(Dense(n_neurons,\n",
    "                input_shape = input_dim,\n",
    "                activation = 'relu',\n",
    "                use_bias = True,\n",
    "                kernel_regularizer=l2(0.01),\n",
    "                kernel_constraint = constraint,\n",
    "                name = '1st_layer'))\n",
    "\n",
    "model_4_drop.add(\n",
    "    Dropout(.2,name='1stdrop'))\n",
    "\n",
    "model_4_drop.add(Dense(n_neurons,\n",
    "                activation = 'relu',\n",
    "                use_bias = True,\n",
    "                kernel_regularizer=l2(0.01),\n",
    "                kernel_constraint = constraint,\n",
    "                name = '2nd_layer'))\n",
    "\n",
    "model_4_drop.add(\n",
    "    Dropout(.2,name='2nddrop'))\n",
    "\n",
    "model_4_drop.add(Dense(n_neurons,\n",
    "                activation = 'relu',\n",
    "                use_bias = True,\n",
    "                kernel_regularizer=l2(0.01),\n",
    "                kernel_constraint = constraint,\n",
    "                name = '3rd_layer'))\n",
    "\n",
    "model_4_drop.add(\n",
    "    Dropout(.2,name='3rddrop'))\n",
    "\n",
    "model_4_drop.add(Dense(n_neurons,\n",
    "                activation = 'relu',\n",
    "                use_bias = True,\n",
    "                kernel_regularizer=l2(0.01),\n",
    "                kernel_constraint = constraint,\n",
    "                name = '4th_layer'))\n",
    "\n",
    "model_4_drop.add(\n",
    "    Dropout(.2,name='4thdrop'))\n",
    "\n",
    "model_4_drop.add(Dense(1,\n",
    "                activation='sigmoid',\n",
    "                name = 'output_layer'))\n",
    "\n",
    "model_4_drop.compile(optimizer=Adadelta(),\n",
    "              loss='binary_crossentropy',\n",
    "              metrics=['accuracy'])\n",
    " \n",
    "model_4_drop.summary()"
   ]
  },
  {
   "cell_type": "code",
   "execution_count": 89,
   "metadata": {},
   "outputs": [
    {
     "name": "stdout",
     "output_type": "stream",
     "text": [
      "22606/22606 [==============================] - 0s 11us/step\n"
     ]
    },
    {
     "data": {
      "text/plain": [
       "[0.5047693709446288, 0.8830399009007158]"
      ]
     },
     "execution_count": 89,
     "metadata": {},
     "output_type": "execute_result"
    }
   ],
   "source": [
    "history_4_drop = History()\n",
    "\n",
    "model_4_drop.fit(X_train,y_train, epochs=50, \n",
    "            batch_size=512, verbose=0,\n",
    "            callbacks=[history_4_drop], validation_data=(X_test,y_test))\n",
    "model_4_drop.evaluate(X_holdout,y_holdout)"
   ]
  },
  {
   "cell_type": "code",
   "execution_count": 93,
   "metadata": {},
   "outputs": [
    {
     "name": "stdout",
     "output_type": "stream",
     "text": [
      "22606/22606 [==============================] - 0s 12us/step\n"
     ]
    },
    {
     "data": {
      "text/plain": [
       "[0.2952503657236591, 0.8889232947057953]"
      ]
     },
     "execution_count": 93,
     "metadata": {},
     "output_type": "execute_result"
    }
   ],
   "source": [
    "history_4_drop = History()\n",
    "\n",
    "model_4_drop.fit(X_train,y_train, epochs=100, \n",
    "            batch_size=512, verbose=0,\n",
    "            callbacks=[history_4_drop], validation_data=(X_test,y_test))\n",
    "model_4_drop.evaluate(X_holdout,y_holdout)"
   ]
  },
  {
   "cell_type": "code",
   "execution_count": 94,
   "metadata": {},
   "outputs": [
    {
     "data": {
      "image/png": "[encoded data removed]",
      "text/plain": [
       "<Figure size 432x288 with 1 Axes>"
      ]
     },
     "metadata": {
      "needs_background": "light"
     },
     "output_type": "display_data"
    }
   ],
   "source": [
    "plot_cross_entropy(history_4_drop)"
   ]
  },
  {
   "cell_type": "code",
   "execution_count": 96,
   "metadata": {},
   "outputs": [],
   "source": [
    "from sklearn.preprocessing import StandardScaler\n",
    "\n",
    "X_mat = StandardScaler().fit_transform(df)\n",
    "X_evaluate_std, X_holdout_std, y_evaluate_std, y_holdout_std = train_test_split(X_mat, y, test_size=0.5, random_state=11238)\n",
    "X_train_std, X_test_std, y_train_std, y_test_std = train_test_split(X_evaluate_std, y_evaluate_std, test_size=0.5,\n",
    "random_state=11238)\n",
    "model_std = Sequential(name = 'two_layer_model_std')\n",
    "model_std.add(Dense(20,\n",
    "                input_shape = (X_mat.shape[1], ),\n",
    "                activation='relu',\n",
    "                use_bias=True,\n",
    "                name = 'first_hidden_layer'))\n",
    "model_std.add(Dense(20,\n",
    "                activation='relu',\n",
    "                use_bias=True,\n",
    "                name = 'second_hidden_layer'))\n",
    "model_std.add(Dense(1,\n",
    "                activation='sigmoid',\n",
    "                name='output_layer'))\n",
    "model_std.compile(optimizer=Adadelta(),\n",
    "             loss = 'binary_crossentropy',\n",
    "metrics = ['accuracy'])"
   ]
  },
  {
   "cell_type": "code",
   "execution_count": 97,
   "metadata": {},
   "outputs": [
    {
     "name": "stdout",
     "output_type": "stream",
     "text": [
      "22606/22606 [==============================] - 0s 18us/step\n"
     ]
    }
   ],
   "source": [
    "history_2_std = History()\n",
    "model_std.fit(X_train_std, y_train_std,\n",
    "              epochs=50, batch_size=512,\n",
    "              verbose=0, callbacks=[history_2_std],\n",
    "         validation_data = (X_test_std, y_test_std))\n",
    "store_results_4_std = model.evaluate(X_holdout_std, y_holdout_std)"
   ]
  },
  {
   "cell_type": "code",
   "execution_count": 98,
   "metadata": {},
   "outputs": [
    {
     "data": {
      "image/png": "[encoded data removed]",
      "text/plain": [
       "<Figure size 720x432 with 2 Axes>"
      ]
     },
     "metadata": {
      "needs_background": "light"
     },
     "output_type": "display_data"
    }
   ],
   "source": [
    "plt.figure(figsize=(10, 6))\n",
    "plt.subplot(1, 2, 1)\n",
    "plt.title(\"BCE - Capas: 2. Sin estandarizar\")\n",
    "plot_cross_entropy(history_2)\n",
    "plt.subplot(1, 2, 2)\n",
    "plt.title(\"BCE - Capas: 2. Con estandarizar\")\n",
    "plot_cross_entropy(history_2_std)"
   ]
  },
  {
   "cell_type": "code",
   "execution_count": null,
   "metadata": {},
   "outputs": [],
   "source": []
  }
 ],
 "metadata": {
  "kernelspec": {
   "display_name": "Python 3",
   "language": "python",
   "name": "python3"
  },
  "language_info": {
   "codemirror_mode": {
    "name": "ipython",
    "version": 3
   },
   "file_extension": ".py",
   "mimetype": "text/x-python",
   "name": "python",
   "nbconvert_exporter": "python",
   "pygments_lexer": "ipython3",
   "version": "3.6.9"
  }
 },
 "nbformat": 4,
 "nbformat_minor": 2
}
