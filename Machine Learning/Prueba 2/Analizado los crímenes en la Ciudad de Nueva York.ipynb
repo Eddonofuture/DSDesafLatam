{
 "cells": [
  {
   "cell_type": "markdown",
   "metadata": {},
   "source": [
    "- Una sección llamada __Preliminares__ donde se realiza la descripción del problema y objetivos, así como explicar cómo implementarán su solución. Debe considerar qué criterios de optimización y métricas de desempeño.\n",
    "- Una sección llamada __Aspectos computacionales__ donde se describirán las librerías y módulos a implementar, así como las funciones generadas y su objetivo."
   ]
  },
  {
   "cell_type": "markdown",
   "metadata": {},
   "source": [
    "# __Aspectos computacionales__\n",
    "\n",
    "Seran añadidos a medida que sean requeridos los diversos import de librerias, no se generaran librerias externas, serin explicitas dentro de este notebook"
   ]
  },
  {
   "cell_type": "code",
   "execution_count": 1,
   "metadata": {},
   "outputs": [],
   "source": [
    "import pandas as pd\n",
    "import numpy as np\n",
    "import matplotlib.pyplot as plt\n",
    "import seaborn as sns\n",
    "import warnings\n",
    "import glob\n",
    "import os\n",
    "import preproc_nyc_sqf as preproc\n",
    "import helpers\n",
    "import pickle\n",
    "\n",
    "warnings.simplefilter('ignore')\n",
    "plt.rcParams['figure.figsize'] = (15,12)\n",
    "plt.style.use('seaborn')"
   ]
  },
  {
   "cell_type": "code",
   "execution_count": 2,
   "metadata": {},
   "outputs": [],
   "source": [
    "df = pd.read_csv('2009_1perc.csv').drop(columns='Unnamed: 0')"
   ]
  },
  {
   "cell_type": "code",
   "execution_count": 3,
   "metadata": {},
   "outputs": [
    {
     "data": {
      "text/html": [
       "<div>\n",
       "<style scoped>\n",
       "    .dataframe tbody tr th:only-of-type {\n",
       "        vertical-align: middle;\n",
       "    }\n",
       "\n",
       "    .dataframe tbody tr th {\n",
       "        vertical-align: top;\n",
       "    }\n",
       "\n",
       "    .dataframe thead th {\n",
       "        text-align: right;\n",
       "    }\n",
       "</style>\n",
       "<table border=\"1\" class=\"dataframe\">\n",
       "  <thead>\n",
       "    <tr style=\"text-align: right;\">\n",
       "      <th></th>\n",
       "      <th>year</th>\n",
       "      <th>pct</th>\n",
       "      <th>ser_num</th>\n",
       "      <th>datestop</th>\n",
       "      <th>timestop</th>\n",
       "      <th>recstat</th>\n",
       "      <th>inout</th>\n",
       "      <th>trhsloc</th>\n",
       "      <th>perobs</th>\n",
       "      <th>crimsusp</th>\n",
       "      <th>...</th>\n",
       "      <th>zip</th>\n",
       "      <th>addrpct</th>\n",
       "      <th>sector</th>\n",
       "      <th>beat</th>\n",
       "      <th>post</th>\n",
       "      <th>xcoord</th>\n",
       "      <th>ycoord</th>\n",
       "      <th>dettypcm</th>\n",
       "      <th>linecm</th>\n",
       "      <th>detailcm</th>\n",
       "    </tr>\n",
       "  </thead>\n",
       "  <tbody>\n",
       "    <tr>\n",
       "      <td>0</td>\n",
       "      <td>2009</td>\n",
       "      <td>41</td>\n",
       "      <td>1779</td>\n",
       "      <td>4032009</td>\n",
       "      <td>130</td>\n",
       "      <td>A</td>\n",
       "      <td>O</td>\n",
       "      <td>P</td>\n",
       "      <td>1.0</td>\n",
       "      <td>CPW</td>\n",
       "      <td>...</td>\n",
       "      <td></td>\n",
       "      <td>41</td>\n",
       "      <td>G</td>\n",
       "      <td>7</td>\n",
       "      <td></td>\n",
       "      <td>1013067</td>\n",
       "      <td>0238633</td>\n",
       "      <td>CM</td>\n",
       "      <td>1</td>\n",
       "      <td>20</td>\n",
       "    </tr>\n",
       "    <tr>\n",
       "      <td>1</td>\n",
       "      <td>2009</td>\n",
       "      <td>108</td>\n",
       "      <td>5805</td>\n",
       "      <td>10292009</td>\n",
       "      <td>1050</td>\n",
       "      <td>A</td>\n",
       "      <td>O</td>\n",
       "      <td>P</td>\n",
       "      <td>3.0</td>\n",
       "      <td>BURG</td>\n",
       "      <td>...</td>\n",
       "      <td></td>\n",
       "      <td>108</td>\n",
       "      <td>J</td>\n",
       "      <td></td>\n",
       "      <td></td>\n",
       "      <td>1012043</td>\n",
       "      <td>0212157</td>\n",
       "      <td>CM</td>\n",
       "      <td>1</td>\n",
       "      <td>14</td>\n",
       "    </tr>\n",
       "    <tr>\n",
       "      <td>2</td>\n",
       "      <td>2009</td>\n",
       "      <td>43</td>\n",
       "      <td>8340</td>\n",
       "      <td>10062009</td>\n",
       "      <td>1450</td>\n",
       "      <td>1</td>\n",
       "      <td>O</td>\n",
       "      <td>P</td>\n",
       "      <td>1.0</td>\n",
       "      <td>MISD</td>\n",
       "      <td>...</td>\n",
       "      <td></td>\n",
       "      <td>43</td>\n",
       "      <td>E</td>\n",
       "      <td></td>\n",
       "      <td></td>\n",
       "      <td>1017599</td>\n",
       "      <td>0240200</td>\n",
       "      <td>CM</td>\n",
       "      <td>1</td>\n",
       "      <td>20</td>\n",
       "    </tr>\n",
       "    <tr>\n",
       "      <td>3</td>\n",
       "      <td>2009</td>\n",
       "      <td>77</td>\n",
       "      <td>932</td>\n",
       "      <td>1232009</td>\n",
       "      <td>1843</td>\n",
       "      <td>A</td>\n",
       "      <td>O</td>\n",
       "      <td>P</td>\n",
       "      <td>5.0</td>\n",
       "      <td>MIS</td>\n",
       "      <td>...</td>\n",
       "      <td></td>\n",
       "      <td>77</td>\n",
       "      <td>J</td>\n",
       "      <td>4</td>\n",
       "      <td>35</td>\n",
       "      <td>1002625</td>\n",
       "      <td>0183442</td>\n",
       "      <td>CM</td>\n",
       "      <td>1</td>\n",
       "      <td>24</td>\n",
       "    </tr>\n",
       "    <tr>\n",
       "      <td>4</td>\n",
       "      <td>2009</td>\n",
       "      <td>110</td>\n",
       "      <td>11224</td>\n",
       "      <td>12132009</td>\n",
       "      <td>1655</td>\n",
       "      <td>A</td>\n",
       "      <td>O</td>\n",
       "      <td>P</td>\n",
       "      <td>3.0</td>\n",
       "      <td>CPW</td>\n",
       "      <td>...</td>\n",
       "      <td></td>\n",
       "      <td>110</td>\n",
       "      <td>H</td>\n",
       "      <td></td>\n",
       "      <td></td>\n",
       "      <td>1024535</td>\n",
       "      <td>0209890</td>\n",
       "      <td>CM</td>\n",
       "      <td>1</td>\n",
       "      <td>20</td>\n",
       "    </tr>\n",
       "  </tbody>\n",
       "</table>\n",
       "<p>5 rows × 111 columns</p>\n",
       "</div>"
      ],
      "text/plain": [
       "   year  pct  ser_num  datestop  timestop recstat inout trhsloc  perobs  \\\n",
       "0  2009   41     1779   4032009       130       A     O       P     1.0   \n",
       "1  2009  108     5805  10292009      1050       A     O       P     3.0   \n",
       "2  2009   43     8340  10062009      1450       1     O       P     1.0   \n",
       "3  2009   77      932   1232009      1843       A     O       P     5.0   \n",
       "4  2009  110    11224  12132009      1655       A     O       P     3.0   \n",
       "\n",
       "  crimsusp  ...  zip addrpct sector beat post   xcoord   ycoord dettypcm  \\\n",
       "0      CPW  ...           41      G    7       1013067  0238633       CM   \n",
       "1     BURG  ...          108      J            1012043  0212157       CM   \n",
       "2     MISD  ...           43      E            1017599  0240200       CM   \n",
       "3      MIS  ...           77      J    4   35  1002625  0183442       CM   \n",
       "4      CPW  ...          110      H            1024535  0209890       CM   \n",
       "\n",
       "   linecm  detailcm  \n",
       "0       1        20  \n",
       "1       1        14  \n",
       "2       1        20  \n",
       "3       1        24  \n",
       "4       1        20  \n",
       "\n",
       "[5 rows x 111 columns]"
      ]
     },
     "execution_count": 3,
     "metadata": {},
     "output_type": "execute_result"
    }
   ],
   "source": [
    "df.head()"
   ]
  },
  {
   "cell_type": "code",
   "execution_count": 4,
   "metadata": {},
   "outputs": [
    {
     "name": "stdout",
     "output_type": "stream",
     "text": [
      "['year', 'pct', 'ser_num', 'datestop', 'timestop', 'perstop', 'compyear', 'comppct', 'repcmd', 'revcmd', 'dob', 'age', 'ht_feet', 'ht_inch', 'weight', 'addrpct', 'linecm', 'detailcm', 'perobs']\n"
     ]
    }
   ],
   "source": [
    "proc_df, suitable_categorical_attributes, suitable_numerical_attributes = preproc.create_suitable_dataframe(df)"
   ]
  },
  {
   "cell_type": "code",
   "execution_count": 5,
   "metadata": {
    "scrolled": true
   },
   "outputs": [
    {
     "data": {
      "text/html": [
       "<div>\n",
       "<style scoped>\n",
       "    .dataframe tbody tr th:only-of-type {\n",
       "        vertical-align: middle;\n",
       "    }\n",
       "\n",
       "    .dataframe tbody tr th {\n",
       "        vertical-align: top;\n",
       "    }\n",
       "\n",
       "    .dataframe thead th {\n",
       "        text-align: right;\n",
       "    }\n",
       "</style>\n",
       "<table border=\"1\" class=\"dataframe\">\n",
       "  <thead>\n",
       "    <tr style=\"text-align: right;\">\n",
       "      <th></th>\n",
       "      <th>recstat</th>\n",
       "      <th>inout</th>\n",
       "      <th>trhsloc</th>\n",
       "      <th>typeofid</th>\n",
       "      <th>explnstp</th>\n",
       "      <th>othpers</th>\n",
       "      <th>arstmade</th>\n",
       "      <th>sumissue</th>\n",
       "      <th>offunif</th>\n",
       "      <th>officrid</th>\n",
       "      <th>...</th>\n",
       "      <th>race</th>\n",
       "      <th>haircolr</th>\n",
       "      <th>eyecolor</th>\n",
       "      <th>build</th>\n",
       "      <th>city</th>\n",
       "      <th>sector</th>\n",
       "      <th>beat</th>\n",
       "      <th>post</th>\n",
       "      <th>month</th>\n",
       "      <th>meters</th>\n",
       "    </tr>\n",
       "  </thead>\n",
       "  <tbody>\n",
       "    <tr>\n",
       "      <td>0</td>\n",
       "      <td>A</td>\n",
       "      <td>O</td>\n",
       "      <td>P</td>\n",
       "      <td>P</td>\n",
       "      <td>Y</td>\n",
       "      <td>N</td>\n",
       "      <td>N</td>\n",
       "      <td>N</td>\n",
       "      <td>Y</td>\n",
       "      <td>N</td>\n",
       "      <td>...</td>\n",
       "      <td>B</td>\n",
       "      <td>BK</td>\n",
       "      <td>BR</td>\n",
       "      <td>M</td>\n",
       "      <td>BRONX</td>\n",
       "      <td>G</td>\n",
       "      <td>7</td>\n",
       "      <td></td>\n",
       "      <td>4</td>\n",
       "      <td>1.798320</td>\n",
       "    </tr>\n",
       "    <tr>\n",
       "      <td>2</td>\n",
       "      <td>1</td>\n",
       "      <td>O</td>\n",
       "      <td>P</td>\n",
       "      <td>V</td>\n",
       "      <td>Y</td>\n",
       "      <td>N</td>\n",
       "      <td>N</td>\n",
       "      <td>N</td>\n",
       "      <td>N</td>\n",
       "      <td>N</td>\n",
       "      <td>...</td>\n",
       "      <td>Q</td>\n",
       "      <td>BR</td>\n",
       "      <td>BR</td>\n",
       "      <td>M</td>\n",
       "      <td>BRONX</td>\n",
       "      <td>E</td>\n",
       "      <td>U</td>\n",
       "      <td></td>\n",
       "      <td>10</td>\n",
       "      <td>1.920240</td>\n",
       "    </tr>\n",
       "    <tr>\n",
       "      <td>3</td>\n",
       "      <td>A</td>\n",
       "      <td>O</td>\n",
       "      <td>P</td>\n",
       "      <td>P</td>\n",
       "      <td>Y</td>\n",
       "      <td>N</td>\n",
       "      <td>N</td>\n",
       "      <td>N</td>\n",
       "      <td>Y</td>\n",
       "      <td>N</td>\n",
       "      <td>...</td>\n",
       "      <td>B</td>\n",
       "      <td>BK</td>\n",
       "      <td>BR</td>\n",
       "      <td>T</td>\n",
       "      <td>BROOKLYN</td>\n",
       "      <td>J</td>\n",
       "      <td>4</td>\n",
       "      <td>35</td>\n",
       "      <td>12</td>\n",
       "      <td>1.676400</td>\n",
       "    </tr>\n",
       "    <tr>\n",
       "      <td>5</td>\n",
       "      <td>1</td>\n",
       "      <td>I</td>\n",
       "      <td>T</td>\n",
       "      <td>V</td>\n",
       "      <td>Y</td>\n",
       "      <td>N</td>\n",
       "      <td>N</td>\n",
       "      <td>N</td>\n",
       "      <td>N</td>\n",
       "      <td>Y</td>\n",
       "      <td>...</td>\n",
       "      <td>B</td>\n",
       "      <td>BK</td>\n",
       "      <td>BR</td>\n",
       "      <td>M</td>\n",
       "      <td>MANHATTAN</td>\n",
       "      <td>F</td>\n",
       "      <td>16</td>\n",
       "      <td></td>\n",
       "      <td>5</td>\n",
       "      <td>1.767840</td>\n",
       "    </tr>\n",
       "    <tr>\n",
       "      <td>6</td>\n",
       "      <td>1</td>\n",
       "      <td>O</td>\n",
       "      <td>P</td>\n",
       "      <td>P</td>\n",
       "      <td>Y</td>\n",
       "      <td>N</td>\n",
       "      <td>N</td>\n",
       "      <td>N</td>\n",
       "      <td>Y</td>\n",
       "      <td>N</td>\n",
       "      <td>...</td>\n",
       "      <td>B</td>\n",
       "      <td>BK</td>\n",
       "      <td>BR</td>\n",
       "      <td>T</td>\n",
       "      <td>BROOKLYN</td>\n",
       "      <td>N</td>\n",
       "      <td>U</td>\n",
       "      <td></td>\n",
       "      <td>11</td>\n",
       "      <td>1.557528</td>\n",
       "    </tr>\n",
       "  </tbody>\n",
       "</table>\n",
       "<p>5 rows × 74 columns</p>\n",
       "</div>"
      ],
      "text/plain": [
       "  recstat inout trhsloc typeofid explnstp othpers arstmade sumissue offunif  \\\n",
       "0       A     O       P        P        Y       N        N        N       Y   \n",
       "2       1     O       P        V        Y       N        N        N       N   \n",
       "3       A     O       P        P        Y       N        N        N       Y   \n",
       "5       1     I       T        V        Y       N        N        N       N   \n",
       "6       1     O       P        P        Y       N        N        N       Y   \n",
       "\n",
       "  officrid  ... race haircolr eyecolor build       city sector beat post  \\\n",
       "0        N  ...    B       BK       BR     M      BRONX      G    7        \n",
       "2        N  ...    Q       BR       BR     M      BRONX      E    U        \n",
       "3        N  ...    B       BK       BR     T   BROOKLYN      J    4   35   \n",
       "5        Y  ...    B       BK       BR     M  MANHATTAN      F   16        \n",
       "6        N  ...    B       BK       BR     T   BROOKLYN      N    U        \n",
       "\n",
       "  month    meters  \n",
       "0     4  1.798320  \n",
       "2    10  1.920240  \n",
       "3    12  1.676400  \n",
       "5     5  1.767840  \n",
       "6    11  1.557528  \n",
       "\n",
       "[5 rows x 74 columns]"
      ]
     },
     "execution_count": 5,
     "metadata": {},
     "output_type": "execute_result"
    }
   ],
   "source": [
    "proc_df.head()"
   ]
  },
  {
   "cell_type": "markdown",
   "metadata": {},
   "source": [
    "Al utilizar la funcion auxiliar, nos permitio para igualar la cantidad de atributos en el benchmark, eliminar nulos, entre otros, lo cual nos permite tener un dataset ajustado para iniciar el preprocesamiento"
   ]
  },
  {
   "cell_type": "code",
   "execution_count": 6,
   "metadata": {
    "scrolled": true
   },
   "outputs": [],
   "source": [
    "from sklearn.model_selection import train_test_split\n",
    "from sklearn.pipeline import Pipeline\n",
    "from sklearn.metrics import classification_report\n",
    "from sklearn.metrics import accuracy_score\n",
    "from sklearn.metrics import confusion_matrix\n",
    "from sklearn.model_selection import GridSearchCV\n",
    "from sklearn.preprocessing import StandardScaler\n",
    "\n",
    "import factor_analyzer as factor\n",
    "import missingno as msngo\n",
    "\n",
    "from sklearn.naive_bayes import MultinomialNB\n",
    "from sklearn.tree import DecisionTreeClassifier\n",
    "from sklearn.ensemble import RandomForestClassifier\n",
    "from sklearn.svm import SVC\n",
    "from sklearn.discriminant_analysis import LinearDiscriminantAnalysis"
   ]
  },
  {
   "cell_type": "markdown",
   "metadata": {},
   "source": [
    "Dado este problema busca analizar la posibilidad de generar un arresto, se intenta resolver este problema con como un modelo de clasificacion, intentamos obtener una respuesta binaria de si o no."
   ]
  },
  {
   "cell_type": "code",
   "execution_count": 7,
   "metadata": {},
   "outputs": [
    {
     "data": {
      "text/plain": [
       "<Figure size 288x288 with 0 Axes>"
      ]
     },
     "metadata": {},
     "output_type": "display_data"
    },
    {
     "data": {
      "image/png": "[encoded data removed]",
      "text/plain": [
       "<Figure size 1800x720 with 2 Axes>"
      ]
     },
     "metadata": {
      "needs_background": "light"
     },
     "output_type": "display_data"
    }
   ],
   "source": [
    "plt.figure(figsize=(4,4))\n",
    "msngo.matrix(proc_df);"
   ]
  },
  {
   "cell_type": "code",
   "execution_count": 8,
   "metadata": {},
   "outputs": [
    {
     "data": {
      "text/plain": [
       "N    0.939387\n",
       "Y    0.060613\n",
       "Name: arstmade, dtype: float64"
      ]
     },
     "execution_count": 8,
     "metadata": {},
     "output_type": "execute_result"
    }
   ],
   "source": [
    "proc_df['arstmade'].value_counts('%')"
   ]
  },
  {
   "cell_type": "code",
   "execution_count": 9,
   "metadata": {},
   "outputs": [
    {
     "data": {
      "text/plain": [
       "array(['recstat', 'inout', 'trhsloc', 'typeofid', 'explnstp', 'othpers',\n",
       "       'arstmade', 'sumissue', 'offunif', 'officrid', 'frisked',\n",
       "       'searched', 'contrabn', 'pistol', 'riflshot', 'asltweap',\n",
       "       'knifcuti', 'othrweap', 'pf_hands', 'pf_wall', 'pf_grnd',\n",
       "       'pf_drwep', 'pf_ptwep', 'pf_baton', 'pf_hcuff', 'pf_pepsp',\n",
       "       'pf_other', 'radio', 'ac_rept', 'ac_inves', 'rf_vcrim', 'rf_othsw',\n",
       "       'ac_proxm', 'rf_attir', 'cs_objcs', 'cs_descr', 'cs_casng',\n",
       "       'cs_lkout', 'rf_vcact', 'cs_cloth', 'cs_drgtr', 'ac_evasv',\n",
       "       'ac_assoc', 'cs_furtv', 'rf_rfcmp', 'ac_cgdir', 'rf_verbl',\n",
       "       'cs_vcrim', 'cs_bulge', 'cs_other', 'ac_incid', 'ac_time',\n",
       "       'rf_knowl', 'ac_stsnd', 'ac_other', 'sb_hdobj', 'sb_outln',\n",
       "       'sb_admis', 'sb_other', 'rf_furt', 'rf_bulg', 'offverb', 'offshld',\n",
       "       'sex', 'race', 'haircolr', 'eyecolor', 'build', 'city', 'sector',\n",
       "       'beat', 'post', 'month', 'meters'], dtype=object)"
      ]
     },
     "execution_count": 9,
     "metadata": {},
     "output_type": "execute_result"
    }
   ],
   "source": [
    "proc_df.columns.values"
   ]
  },
  {
   "cell_type": "markdown",
   "metadata": {},
   "source": [
    "Las metricas han sido declaras en sus import, se utilizaran curvas roc, classification report y confussion matrix, entre otros"
   ]
  },
  {
   "cell_type": "markdown",
   "metadata": {},
   "source": [
    "Para procesar la data utilizaremos labelencoder como primera estrategia debido a su gran poder de transformar la data."
   ]
  },
  {
   "cell_type": "markdown",
   "metadata": {},
   "source": [
    "Para separar las muestras trabajaremos con el 20% de test y el 80 de entrenamiento"
   ]
  },
  {
   "cell_type": "code",
   "execution_count": 10,
   "metadata": {},
   "outputs": [],
   "source": [
    "from sklearn.preprocessing import LabelEncoder"
   ]
  },
  {
   "cell_type": "code",
   "execution_count": 11,
   "metadata": {},
   "outputs": [],
   "source": [
    "lbl = LabelEncoder()\n",
    "labels = ['recstat','sector','beat','post','inout','trhsloc','typeofid','explnstp','othpers','arstmade','sumissue','offunif','officrid','frisked','searched','contrabn','pistol','riflshot','asltweap','knifcuti','othrweap','pf_hands','pf_wall','pf_grnd','pf_drwep','pf_ptwep','pf_baton','pf_hcuff','pf_pepsp','pf_other','radio','ac_rept','ac_inves','rf_vcrim','rf_othsw','ac_proxm','rf_attir','cs_objcs','cs_descr','cs_casng','cs_lkout','rf_vcact','cs_cloth','cs_drgtr','ac_evasv','ac_assoc','cs_furtv','rf_rfcmp','ac_cgdir','rf_verbl','cs_vcrim','cs_bulge','cs_other','ac_incid','ac_time','rf_knowl','ac_stsnd','ac_other','sb_hdobj','sb_outln','sb_admis','sb_other','rf_furt','rf_bulg','offverb','offshld','sex','race','haircolr','eyecolor','build','city']\n",
    "labStandar = ['inout', 'trhsloc', 'typeofid', 'explnstp', 'othpers', 'sumissue', 'offunif', 'officrid', 'frisked', 'searched', 'contrabn', 'pistol', 'riflshot', 'asltweap', 'knifcuti', 'othrweap', 'pf_hands', 'pf_wall', 'pf_grnd', 'pf_drwep', 'pf_ptwep', 'pf_baton', 'pf_hcuff', 'pf_pepsp', 'pf_other', 'radio', 'ac_rept', 'ac_inves', 'rf_vcrim', 'rf_othsw', 'ac_proxm', 'rf_attir', 'cs_objcs', 'cs_descr', 'cs_casng', 'cs_lkout', 'rf_vcact', 'cs_cloth', 'cs_drgtr', 'ac_evasv', 'ac_assoc', 'cs_furtv', 'rf_rfcmp', 'ac_cgdir', 'rf_verbl', 'cs_vcrim', 'cs_bulge', 'cs_other', 'ac_incid', 'ac_time', 'rf_knowl', 'ac_stsnd', 'ac_other', 'sb_hdobj', 'sb_outln', 'sb_admis', 'sb_other', 'rf_furt', 'rf_bulg', 'offverb', 'offshld', 'sex', 'race', 'haircolr', 'eyecolor', 'build', 'month', 'meters']"
   ]
  },
  {
   "cell_type": "code",
   "execution_count": 12,
   "metadata": {
    "scrolled": true
   },
   "outputs": [
    {
     "name": "stdout",
     "output_type": "stream",
     "text": [
      "<class 'pandas.core.frame.DataFrame'>\n",
      "Int64Index: 4636 entries, 0 to 5811\n",
      "Data columns (total 73 columns):\n",
      "recstat     4636 non-null object\n",
      "inout       4636 non-null object\n",
      "trhsloc     4636 non-null object\n",
      "typeofid    4636 non-null object\n",
      "explnstp    4636 non-null object\n",
      "othpers     4636 non-null object\n",
      "sumissue    4636 non-null object\n",
      "offunif     4636 non-null object\n",
      "officrid    4636 non-null object\n",
      "frisked     4636 non-null object\n",
      "searched    4636 non-null object\n",
      "contrabn    4636 non-null object\n",
      "pistol      4636 non-null object\n",
      "riflshot    4636 non-null object\n",
      "asltweap    4636 non-null object\n",
      "knifcuti    4636 non-null object\n",
      "othrweap    4636 non-null object\n",
      "pf_hands    4636 non-null object\n",
      "pf_wall     4636 non-null object\n",
      "pf_grnd     4636 non-null object\n",
      "pf_drwep    4636 non-null object\n",
      "pf_ptwep    4636 non-null object\n",
      "pf_baton    4636 non-null object\n",
      "pf_hcuff    4636 non-null object\n",
      "pf_pepsp    4636 non-null object\n",
      "pf_other    4636 non-null object\n",
      "radio       4636 non-null object\n",
      "ac_rept     4636 non-null object\n",
      "ac_inves    4636 non-null object\n",
      "rf_vcrim    4636 non-null object\n",
      "rf_othsw    4636 non-null object\n",
      "ac_proxm    4636 non-null object\n",
      "rf_attir    4636 non-null object\n",
      "cs_objcs    4636 non-null object\n",
      "cs_descr    4636 non-null object\n",
      "cs_casng    4636 non-null object\n",
      "cs_lkout    4636 non-null object\n",
      "rf_vcact    4636 non-null object\n",
      "cs_cloth    4636 non-null object\n",
      "cs_drgtr    4636 non-null object\n",
      "ac_evasv    4636 non-null object\n",
      "ac_assoc    4636 non-null object\n",
      "cs_furtv    4636 non-null object\n",
      "rf_rfcmp    4636 non-null object\n",
      "ac_cgdir    4636 non-null object\n",
      "rf_verbl    4636 non-null object\n",
      "cs_vcrim    4636 non-null object\n",
      "cs_bulge    4636 non-null object\n",
      "cs_other    4636 non-null object\n",
      "ac_incid    4636 non-null object\n",
      "ac_time     4636 non-null object\n",
      "rf_knowl    4636 non-null object\n",
      "ac_stsnd    4636 non-null object\n",
      "ac_other    4636 non-null object\n",
      "sb_hdobj    4636 non-null object\n",
      "sb_outln    4636 non-null object\n",
      "sb_admis    4636 non-null object\n",
      "sb_other    4636 non-null object\n",
      "rf_furt     4636 non-null object\n",
      "rf_bulg     4636 non-null object\n",
      "offverb     4636 non-null object\n",
      "offshld     4636 non-null object\n",
      "sex         4636 non-null object\n",
      "race        4636 non-null object\n",
      "haircolr    4636 non-null object\n",
      "eyecolor    4636 non-null object\n",
      "build       4636 non-null object\n",
      "city        4636 non-null object\n",
      "sector      4636 non-null object\n",
      "beat        4636 non-null object\n",
      "post        4636 non-null object\n",
      "month       4636 non-null int64\n",
      "meters      4636 non-null float64\n",
      "dtypes: float64(1), int64(1), object(71)\n",
      "memory usage: 2.6+ MB\n"
     ]
    }
   ],
   "source": [
    "proc_df.drop('arstmade',axis=1).info()"
   ]
  },
  {
   "cell_type": "code",
   "execution_count": 13,
   "metadata": {},
   "outputs": [],
   "source": [
    "for col in labels:\n",
    "    proc_df[col] = lbl.fit_transform(proc_df[col])"
   ]
  },
  {
   "cell_type": "code",
   "execution_count": 14,
   "metadata": {},
   "outputs": [],
   "source": [
    "X = proc_df.drop('arstmade',axis=1)\n",
    "y = pd.DataFrame(proc_df.arstmade)\n",
    "\n",
    "X_std = StandardScaler().fit_transform(X.loc[:,labStandar])"
   ]
  },
  {
   "cell_type": "code",
   "execution_count": 15,
   "metadata": {},
   "outputs": [],
   "source": [
    "X_train , X_test, y_train, y_test = train_test_split(X, y, test_size=.20, random_state=3367)"
   ]
  },
  {
   "cell_type": "code",
   "execution_count": 16,
   "metadata": {},
   "outputs": [],
   "source": [
    "def roc_graphic(y_test, y_hat):\n",
    "    from sklearn.metrics import roc_curve\n",
    "    false_positive , true_positive , threshold = roc_curve(y_test,y_hat[:,1])\n",
    "    plt.plot(false_positive,true_positive,lw = 1)\n",
    "    plt.plot([0,1], linestyle='--', lw=1, color='tomato')\n",
    "    plt.ylabel('Verdaderos Positivos')\n",
    "    plt.xlabel('Falsos Positivos')"
   ]
  },
  {
   "cell_type": "code",
   "execution_count": 17,
   "metadata": {},
   "outputs": [],
   "source": [
    "gs_naives = GridSearchCV(MultinomialNB(),\n",
    "                         {'alpha':np.linspace(0.1,1.0,10), \n",
    "                          'fit_prior':[True,False], \n",
    "                          'class_prior':[None]},cv=5).fit(X_train,y_train)"
   ]
  },
  {
   "cell_type": "code",
   "execution_count": 18,
   "metadata": {},
   "outputs": [],
   "source": [
    "pickle.dump(gs_naives, open('naives_bayes.sav','wb'))"
   ]
  },
  {
   "cell_type": "code",
   "execution_count": 19,
   "metadata": {},
   "outputs": [],
   "source": [
    "gs_pred = gs_naives.predict(X_test)\n",
    "gs_pred_proba = gs_naives.predict_proba(X_test)"
   ]
  },
  {
   "cell_type": "code",
   "execution_count": 20,
   "metadata": {},
   "outputs": [
    {
     "name": "stdout",
     "output_type": "stream",
     "text": [
      "              precision    recall  f1-score   support\n",
      "\n",
      "           0       0.98      0.96      0.97       876\n",
      "           1       0.49      0.62      0.55        52\n",
      "\n",
      "    accuracy                           0.94       928\n",
      "   macro avg       0.73      0.79      0.76       928\n",
      "weighted avg       0.95      0.94      0.95       928\n",
      "\n"
     ]
    }
   ],
   "source": [
    "print(classification_report(y_test, gs_pred))"
   ]
  },
  {
   "cell_type": "code",
   "execution_count": 21,
   "metadata": {},
   "outputs": [
    {
     "data": {
      "image/png": "[encoded data removed]",
      "text/plain": [
       "<Figure size 432x288 with 1 Axes>"
      ]
     },
     "metadata": {
      "needs_background": "light"
     },
     "output_type": "display_data"
    }
   ],
   "source": [
    "roc_graphic(y_test,gs_pred_proba)"
   ]
  },
  {
   "cell_type": "code",
   "execution_count": 22,
   "metadata": {
    "scrolled": true
   },
   "outputs": [],
   "source": [
    "dec_tree_grid_cv = GridSearchCV(DecisionTreeClassifier(),\n",
    "                               {'min_samples_split': np.linspace(0.1,1.0,10),\n",
    "                               'criterion':['gini','entropy'],\n",
    "                               'max_depth': np.linspace(1,32,32),\n",
    "                               'min_samples_leaf': np.linspace(0.1,0.5,10),\n",
    "                               },cv=5).fit(X_train,y_train)"
   ]
  },
  {
   "cell_type": "code",
   "execution_count": 23,
   "metadata": {},
   "outputs": [],
   "source": [
    "pickle.dump(dec_tree_grid_cv, open('decision_tree_model.sav','wb'))"
   ]
  },
  {
   "cell_type": "code",
   "execution_count": 24,
   "metadata": {},
   "outputs": [],
   "source": [
    "dt_pred = dec_tree_grid_cv.predict(X_test)\n",
    "dt_pred_proba = dec_tree_grid_cv.predict_proba(X_test)"
   ]
  },
  {
   "cell_type": "code",
   "execution_count": 25,
   "metadata": {},
   "outputs": [
    {
     "name": "stdout",
     "output_type": "stream",
     "text": [
      "              precision    recall  f1-score   support\n",
      "\n",
      "           0       0.94      1.00      0.97       876\n",
      "           1       0.00      0.00      0.00        52\n",
      "\n",
      "    accuracy                           0.94       928\n",
      "   macro avg       0.47      0.50      0.49       928\n",
      "weighted avg       0.89      0.94      0.92       928\n",
      "\n"
     ]
    }
   ],
   "source": [
    "print(classification_report(y_test, dt_pred))"
   ]
  },
  {
   "cell_type": "code",
   "execution_count": 26,
   "metadata": {},
   "outputs": [
    {
     "data": {
      "image/png": "[encoded data removed]",
      "text/plain": [
       "<Figure size 432x288 with 1 Axes>"
      ]
     },
     "metadata": {
      "needs_background": "light"
     },
     "output_type": "display_data"
    }
   ],
   "source": [
    "roc_graphic(y_test,dt_pred_proba)"
   ]
  },
  {
   "cell_type": "code",
   "execution_count": 27,
   "metadata": {},
   "outputs": [],
   "source": [
    "rf_cv = GridSearchCV(RandomForestClassifier(),{\n",
    "                                    'n_estimators': [4, 6, 9], \n",
    "                                    'max_features': ['log2', 'sqrt','auto'], \n",
    "                                    'criterion': ['entropy', 'gini'],\n",
    "                                    'max_depth': [2, 3, 5, 10], \n",
    "                                    'min_samples_split': [2, 3, 5],\n",
    "                                    'min_samples_leaf': [1,5,8]\n",
    "                                     },cv=5).fit(X_train,y_train)"
   ]
  },
  {
   "cell_type": "code",
   "execution_count": 28,
   "metadata": {},
   "outputs": [],
   "source": [
    "pickle.dump(rf_cv, open('random_forest.sav','wb'))"
   ]
  },
  {
   "cell_type": "code",
   "execution_count": 29,
   "metadata": {},
   "outputs": [],
   "source": [
    "rf = rf_cv.predict(X_test)\n",
    "rf_pred_proba = rf_cv.predict_proba(X_test)"
   ]
  },
  {
   "cell_type": "code",
   "execution_count": 30,
   "metadata": {},
   "outputs": [
    {
     "name": "stdout",
     "output_type": "stream",
     "text": [
      "              precision    recall  f1-score   support\n",
      "\n",
      "           0       0.97      0.99      0.98       876\n",
      "           1       0.79      0.52      0.63        52\n",
      "\n",
      "    accuracy                           0.97       928\n",
      "   macro avg       0.88      0.76      0.80       928\n",
      "weighted avg       0.96      0.97      0.96       928\n",
      "\n"
     ]
    }
   ],
   "source": [
    "print(classification_report(y_test, rf))"
   ]
  },
  {
   "cell_type": "code",
   "execution_count": 31,
   "metadata": {},
   "outputs": [
    {
     "data": {
      "image/png": "[encoded data removed]",
      "text/plain": [
       "<Figure size 432x288 with 1 Axes>"
      ]
     },
     "metadata": {
      "needs_background": "light"
     },
     "output_type": "display_data"
    }
   ],
   "source": [
    "roc_graphic(y_test,rf_pred_proba)"
   ]
  },
  {
   "cell_type": "code",
   "execution_count": 32,
   "metadata": {},
   "outputs": [],
   "source": [
    "ld_cv = GridSearchCV(LinearDiscriminantAnalysis(),{\n",
    "                        'n_components':np.linspace(1,70,60,dtype=int), \n",
    "                        #'solver':['svd','lsqr','eigen'], \n",
    "                        }, cv=5).fit(X_train,y_train)"
   ]
  },
  {
   "cell_type": "code",
   "execution_count": 33,
   "metadata": {},
   "outputs": [],
   "source": [
    "pickle.dump(ld_cv, open('linear_discriminant.sav','wb'))"
   ]
  },
  {
   "cell_type": "code",
   "execution_count": 34,
   "metadata": {},
   "outputs": [],
   "source": [
    "ld = ld_cv.predict(X_test)\n",
    "ld_pred_proba = ld_cv.predict_proba(X_test)"
   ]
  },
  {
   "cell_type": "code",
   "execution_count": 35,
   "metadata": {},
   "outputs": [
    {
     "name": "stdout",
     "output_type": "stream",
     "text": [
      "              precision    recall  f1-score   support\n",
      "\n",
      "           0       0.98      0.99      0.98       876\n",
      "           1       0.78      0.62      0.69        52\n",
      "\n",
      "    accuracy                           0.97       928\n",
      "   macro avg       0.88      0.80      0.84       928\n",
      "weighted avg       0.97      0.97      0.97       928\n",
      "\n"
     ]
    }
   ],
   "source": [
    "print(classification_report(y_test, ld))"
   ]
  },
  {
   "cell_type": "code",
   "execution_count": 36,
   "metadata": {},
   "outputs": [
    {
     "data": {
      "image/png": "[encoded data removed]",
      "text/plain": [
       "<Figure size 432x288 with 1 Axes>"
      ]
     },
     "metadata": {
      "needs_background": "light"
     },
     "output_type": "display_data"
    }
   ],
   "source": [
    "roc_graphic(y_test,ld_pred_proba)"
   ]
  },
  {
   "cell_type": "code",
   "execution_count": 37,
   "metadata": {},
   "outputs": [],
   "source": [
    "c_param_range= [0.0001, 0.001, 0.01, 0.1, 1, 10, 100, 1000]\n",
    "gamma_param_range = [0.0000001, 0.0001, 0.001, 0.01, 0.1, 1, 10]\n",
    "param_grid = {'C': c_param_range, 'gamma' : gamma_param_range}"
   ]
  },
  {
   "cell_type": "code",
   "execution_count": 38,
   "metadata": {},
   "outputs": [],
   "source": [
    "svc_cv = GridSearchCV(SVC(kernel='rbf',probability=True),param_grid,cv = 10).fit(X_train,y_train)"
   ]
  },
  {
   "cell_type": "code",
   "execution_count": 39,
   "metadata": {},
   "outputs": [],
   "source": [
    "pickle.dump(svc_cv, open('svc.sav','wb'))"
   ]
  },
  {
   "cell_type": "code",
   "execution_count": 40,
   "metadata": {},
   "outputs": [],
   "source": [
    "svc = svc_cv.predict(X_test)\n",
    "svc_pred_proba = svc_cv.predict_proba(X_test)"
   ]
  },
  {
   "cell_type": "code",
   "execution_count": 41,
   "metadata": {},
   "outputs": [
    {
     "name": "stdout",
     "output_type": "stream",
     "text": [
      "              precision    recall  f1-score   support\n",
      "\n",
      "           0       0.98      0.99      0.99       876\n",
      "           1       0.86      0.62      0.72        52\n",
      "\n",
      "    accuracy                           0.97       928\n",
      "   macro avg       0.92      0.80      0.85       928\n",
      "weighted avg       0.97      0.97      0.97       928\n",
      "\n"
     ]
    }
   ],
   "source": [
    "print(classification_report(y_test, svc))"
   ]
  },
  {
   "cell_type": "code",
   "execution_count": 42,
   "metadata": {},
   "outputs": [
    {
     "data": {
      "image/png": "[encoded data removed]",
      "text/plain": [
       "<Figure size 432x288 with 1 Axes>"
      ]
     },
     "metadata": {
      "needs_background": "light"
     },
     "output_type": "display_data"
    }
   ],
   "source": [
    "roc_graphic(y_test,svc_pred_proba)"
   ]
  },
  {
   "cell_type": "markdown",
   "metadata": {},
   "source": [
    "Se adjuntan las grillas propuestas para los diversos modelos de evaluacion para el problema establecido, estas son para resolver problemas del tipo clasificacion"
   ]
  },
  {
   "cell_type": "code",
   "execution_count": null,
   "metadata": {},
   "outputs": [],
   "source": []
  },
  {
   "cell_type": "code",
   "execution_count": null,
   "metadata": {},
   "outputs": [],
   "source": []
  },
  {
   "cell_type": "code",
   "execution_count": 45,
   "metadata": {},
   "outputs": [],
   "source": [
    "plt.rcParams['figure.figsize'] = (20,100)\n",
    "def plot_importance(fit_model, feat_names):\n",
    "    \"\"\"TODO: Docstring for plot_importance.\n",
    "\n",
    "    :fit_model: TODO\n",
    "    :: TODO\n",
    "    :returns: TODO\n",
    "\n",
    "    \"\"\"\n",
    "    tmp_importance = fit_model.feature_importances_\n",
    "    sort_importance = np.argsort(tmp_importance)[::-1]\n",
    "    names = [feat_names[i] for i in sort_importance]\n",
    "    plt.title(\"Feature importance\")\n",
    "    plt.barh(range(len(feat_names)), tmp_importance[sort_importance])\n",
    "    plt.yticks(range(len(feat_names)), names, rotation=0)\n",
    "    return names"
   ]
  },
  {
   "cell_type": "code",
   "execution_count": 58,
   "metadata": {},
   "outputs": [
    {
     "data": {
      "image/png": "[encoded data removed]",
      "text/plain": [
       "<Figure size 1440x7200 with 1 Axes>"
      ]
     },
     "metadata": {
      "needs_background": "light"
     },
     "output_type": "display_data"
    }
   ],
   "source": [
    "dec_tree = DecisionTreeClassifier().fit(X_train,y_train)\n",
    "some = plot_importance(dec_tree, X.columns)"
   ]
  },
  {
   "cell_type": "code",
   "execution_count": 59,
   "metadata": {},
   "outputs": [
    {
     "data": {
      "text/plain": [
       "['sb_other',\n",
       " 'pf_hcuff',\n",
       " 'month',\n",
       " 'meters',\n",
       " 'sumissue',\n",
       " 'contrabn',\n",
       " 'post',\n",
       " 'beat',\n",
       " 'trhsloc',\n",
       " 'sb_hdobj',\n",
       " 'cs_furtv',\n",
       " 'race',\n",
       " 'rf_attir',\n",
       " 'typeofid',\n",
       " 'haircolr',\n",
       " 'build',\n",
       " 'searched',\n",
       " 'city',\n",
       " 'ac_proxm',\n",
       " 'rf_furt',\n",
       " 'ac_inves',\n",
       " 'offverb',\n",
       " 'eyecolor',\n",
       " 'sector',\n",
       " 'offunif',\n",
       " 'cs_drgtr',\n",
       " 'cs_objcs',\n",
       " 'ac_cgdir',\n",
       " 'ac_evasv',\n",
       " 'offshld']"
      ]
     },
     "execution_count": 59,
     "metadata": {},
     "output_type": "execute_result"
    }
   ],
   "source": [
    "some[:30]"
   ]
  },
  {
   "cell_type": "code",
   "execution_count": null,
   "metadata": {},
   "outputs": [],
   "source": []
  }
 ],
 "metadata": {
  "kernelspec": {
   "display_name": "Python 3",
   "language": "python",
   "name": "python3"
  },
  "language_info": {
   "codemirror_mode": {
    "name": "ipython",
    "version": 3
   },
   "file_extension": ".py",
   "mimetype": "text/x-python",
   "name": "python",
   "nbconvert_exporter": "python",
   "pygments_lexer": "ipython3",
   "version": "3.6.9"
  }
 },
 "nbformat": 4,
 "nbformat_minor": 2
}
