{
 "cells": [
  {
   "cell_type": "code",
   "execution_count": null,
   "metadata": {},
   "outputs": [
    {
     "name": "stderr",
     "output_type": "stream",
     "text": [
      "Using TensorFlow backend.\n"
     ]
    },
    {
     "ename": "ModuleNotFoundError",
     "evalue": "No module named 'numpy.core._multiarray_umath'",
     "output_type": "error",
     "traceback": [
      "\u001b[1;31m---------------------------------------------------------------------------\u001b[0m",
      "\u001b[1;31mModuleNotFoundError\u001b[0m                       Traceback (most recent call last)",
      "\u001b[1;31mModuleNotFoundError\u001b[0m: No module named 'numpy.core._multiarray_umath'"
     ]
    },
    {
     "ename": "SystemError",
     "evalue": "<class '_frozen_importlib._ModuleLockManager'> returned a result with an error set",
     "output_type": "error",
     "traceback": [
      "\u001b[1;31m---------------------------------------------------------------------------\u001b[0m",
      "\u001b[1;31mImportError\u001b[0m                               Traceback (most recent call last)",
      "\u001b[1;31mImportError\u001b[0m: numpy.core.multiarray failed to import",
      "\nThe above exception was the direct cause of the following exception:\n",
      "\u001b[1;31mSystemError\u001b[0m                               Traceback (most recent call last)",
      "\u001b[1;32m~\\AppData\\Local\\Continuum\\anaconda3\\lib\\importlib\\_bootstrap.py\u001b[0m in \u001b[0;36m_find_and_load\u001b[1;34m(name, import_)\u001b[0m\n",
      "\u001b[1;31mSystemError\u001b[0m: <class '_frozen_importlib._ModuleLockManager'> returned a result with an error set"
     ]
    },
    {
     "ename": "ImportError",
     "evalue": "numpy.core._multiarray_umath failed to import",
     "output_type": "error",
     "traceback": [
      "\u001b[1;31m---------------------------------------------------------------------------\u001b[0m",
      "\u001b[1;31mImportError\u001b[0m                               Traceback (most recent call last)",
      "\u001b[1;31mImportError\u001b[0m: numpy.core._multiarray_umath failed to import"
     ]
    },
    {
     "ename": "ImportError",
     "evalue": "numpy.core.umath failed to import",
     "output_type": "error",
     "traceback": [
      "\u001b[1;31m---------------------------------------------------------------------------\u001b[0m",
      "\u001b[1;31mImportError\u001b[0m                               Traceback (most recent call last)",
      "\u001b[1;31mImportError\u001b[0m: numpy.core.umath failed to import"
     ]
    }
   ],
   "source": [
    "%matplotlib inline\n",
    "import warnings\n",
    "warnings.filterwarnings('ignore')\n",
    "import pandas as pd\n",
    "import numpy as np\n",
    "import matplotlib.pyplot as plt\n",
    "import seaborn as sns\n",
    "from opti_graphs import *\n",
    "from ipywidgets import interactive\n",
    "\n",
    "plt.rcParams['figure.figsize'] = (10,6)\n",
    "plt.style.use('ggplot')"
   ]
  },
  {
   "cell_type": "code",
   "execution_count": 1,
   "metadata": {},
   "outputs": [
    {
     "ename": "NameError",
     "evalue": "name 'artificial_points' is not defined",
     "output_type": "error",
     "traceback": [
      "\u001b[1;31m---------------------------------------------------------------------------\u001b[0m",
      "\u001b[1;31mNameError\u001b[0m                                 Traceback (most recent call last)",
      "\u001b[1;32m<ipython-input-1-16d62b33686d>\u001b[0m in \u001b[0;36m<module>\u001b[1;34m\u001b[0m\n\u001b[1;32m----> 1\u001b[1;33m \u001b[0mX\u001b[0m\u001b[1;33m,\u001b[0m \u001b[0my\u001b[0m \u001b[1;33m=\u001b[0m \u001b[0martificial_points\u001b[0m\u001b[1;33m(\u001b[0m\u001b[1;33m)\u001b[0m\u001b[1;33m\u001b[0m\u001b[1;33m\u001b[0m\u001b[0m\n\u001b[0m",
      "\u001b[1;31mNameError\u001b[0m: name 'artificial_points' is not defined"
     ]
    }
   ],
   "source": [
    "X, y = artificial_points()"
   ]
  },
  {
   "cell_type": "code",
   "execution_count": null,
   "metadata": {},
   "outputs": [],
   "source": [
    "y.shape"
   ]
  },
  {
   "cell_type": "code",
   "execution_count": null,
   "metadata": {},
   "outputs": [],
   "source": [
    "for i, n in enumerate([0.01,0.1, 0.5]):\n",
    "    plt.subplot(1, 3, i + 1)\n",
    "    batch_gd_plot(X, y, theta=1, alpha=n)\n",
    "    plt.tight_layout()"
   ]
  },
  {
   "cell_type": "code",
   "execution_count": null,
   "metadata": {},
   "outputs": [],
   "source": [
    "plt.style.use('default')\n",
    "global_surface()"
   ]
  },
  {
   "cell_type": "code",
   "execution_count": null,
   "metadata": {},
   "outputs": [],
   "source": [
    "plt.style.use('default')\n",
    "max_min_surface()"
   ]
  },
  {
   "cell_type": "code",
   "execution_count": null,
   "metadata": {},
   "outputs": [],
   "source": [
    "plt.style.use('default')\n",
    "saddle_surface()"
   ]
  },
  {
   "cell_type": "code",
   "execution_count": null,
   "metadata": {},
   "outputs": [],
   "source": [
    "interactive(gradient_1d, alpha = (1,6))"
   ]
  },
  {
   "cell_type": "code",
   "execution_count": null,
   "metadata": {},
   "outputs": [],
   "source": [
    " interactive(gradient_2d, alpha = (0.01,3))"
   ]
  },
  {
   "cell_type": "code",
   "execution_count": null,
   "metadata": {},
   "outputs": [],
   "source": [
    "# generamos los imports básicos de Keras\n",
    "from keras import Sequential\n",
    "from keras.layers import Dense, Activation\n",
    "from keras.callbacks import LambdaCallback\n",
    "from keras.optimizers import SGD\n",
    "from sklearn.datasets import make_classification\n",
    "from sklearn.model_selection import train_test_split\n",
    "# Realizamos un dataset con 500 muestras,\n",
    "# 20 atributos y un vector objetivo con 2 clases\n",
    "X, y = make_classification(n_samples = 500)\n",
    "# generamos la división en conjuntos de entrenamiento/validación\n",
    "X_train, X_test, y_train, y_test = train_test_split(X,y, test_size=.33, random_state=11238)"
   ]
  },
  {
   "cell_type": "code",
   "execution_count": null,
   "metadata": {},
   "outputs": [],
   "source": [
    "sgd = SGD(lr=0.01, # Tasa de aprendizaje\n",
    "          momentum=0, #Obviamos momento\n",
    "          decay=0, # obviamos decaimiento de los pesos\n",
    "          nesterov=False) #Obviamos momento de nesterov"
   ]
  },
  {
   "cell_type": "code",
   "execution_count": null,
   "metadata": {},
   "outputs": [],
   "source": [
    "# generamos un objeto que nos permita acoplar capas\n",
    "model = Sequential()\n",
    "model.add(Dense(20, # agregamos una capa densa con 20 neuronas\n",
    "                input_dim=20, # 20 atributos de entrada\n",
    "                activation='softmax')) # y una activación softmax\n",
    "# compilamos el modelo\n",
    "model.compile(loss='sparse_categorical_crossentropy',\n",
    "              optimizer=sgd)"
   ]
  },
  {
   "cell_type": "code",
   "execution_count": null,
   "metadata": {},
   "outputs": [],
   "source": [
    "# vamos a preservar los parámetros\n",
    "weights = []\n",
    "# Preservaremos todos los parámetros al finalizar una época de entrenamiento\n",
    "print_weights = LambdaCallback(on_epoch_end=lambda epoch, logs: weights.append(model.layers[0].get_weights()))"
   ]
  },
  {
   "cell_type": "code",
   "execution_count": null,
   "metadata": {},
   "outputs": [],
   "source": [
    "# entrenamos el modelo\n",
    "model.fit(X_train, y_train, # conjunto de entrenamiento\n",
    "          batch_size=X_train.shape[0], # definimos la cantidad de datos a ingresar\n",
    "         epochs=100, # la cantidad de iteraciones de entrenamiento.\n",
    "          verbose=0, # no deseamos implementar un reporte insitu\n",
    "         validation_data=(X_test, y_test),\n",
    "          # incluimos nuestro callback\n",
    "         callbacks=[print_weights])"
   ]
  },
  {
   "cell_type": "code",
   "execution_count": null,
   "metadata": {},
   "outputs": [],
   "source": [
    "# extraemos los coeficientes\n",
    "w_all_data = [item[0] for item in [item[0] for item in [item[0] for item in weights]]]"
   ]
  },
  {
   "cell_type": "code",
   "execution_count": null,
   "metadata": {},
   "outputs": [],
   "source": [
    "plt.style.use('ggplot')\n",
    "plt.figure(figsize=(10, 6))\n",
    "plt.plot(np.linspace(1, 100, 100), w_all_data)\n",
    "plt.xlabel('Ciclos de entrenamiento');\n",
    "plt.ylabel('Valor del Parámetro');\n",
    "plt.title('batch_size = Todo el conjunto de entrenamiento (Batch mode)');"
   ]
  },
  {
   "cell_type": "code",
   "execution_count": null,
   "metadata": {},
   "outputs": [],
   "source": [
    "weights = []\n",
    "print_weights = LambdaCallback(on_epoch_end=lambda epoch, logs: weights.append(model.layers[0].get_weights()))\n",
    "\n",
    "model.fit(X_train, y_train,\n",
    "          batch_size=64, # fijamos la cantidad de datos en cada batch\n",
    "          epochs=100, #aumentamos la cantidad de ciclos de entrenamiento.\n",
    "          verbose=0,\n",
    "          validation_data=(X_test, y_test),\n",
    "         callbacks=[print_weights])\n",
    "w_all_data = [item[0] for item in [item[0] for item in [item[0] for item in weights]]]"
   ]
  },
  {
   "cell_type": "code",
   "execution_count": null,
   "metadata": {},
   "outputs": [],
   "source": [
    "plt.figure(figsize=(10, 6))\n",
    "plt.plot(np.linspace(1, 100, 100), w_all_data)\n",
    "plt.xlabel('Ciclos de entrenamiento')\n",
    "plt.ylabel('Valor del Parámetro')\n",
    "plt.title('Mini Batch');"
   ]
  },
  {
   "cell_type": "code",
   "execution_count": null,
   "metadata": {},
   "outputs": [],
   "source": [
    "weights = []\n",
    "print_weights = LambdaCallback(on_epoch_end=lambda epoch, logs:\n",
    "weights.append(model.layers[0].get_weights()))\n",
    "model.fit(X_train, y_train,\n",
    "          batch_size=1, # fijamos la cantidad de datos a entrenar.\n",
    "          epochs=1000, # mantenemos la cantidad de épocas a entrenar en 1000.\n",
    "          verbose=0,\n",
    "          validation_data=(X_test, y_test),\n",
    "         callbacks=[print_weights])\n",
    "w_all_data = [item[0] for item in [item[0] for item in [item[0] for item in\n",
    "weights]]]"
   ]
  },
  {
   "cell_type": "code",
   "execution_count": null,
   "metadata": {},
   "outputs": [],
   "source": [
    "plt.figure(figsize=(10, 6))\n",
    "plt.plot(np.linspace(1, 1000, 1000), w_all_data)\n",
    "plt.xlabel('Ciclos de entrenamiento')\n",
    "plt.ylabel('Valor del Parámetro')\n",
    "plt.title('SGD');"
   ]
  },
  {
   "cell_type": "code",
   "execution_count": null,
   "metadata": {},
   "outputs": [],
   "source": [
    "plt.style.use('ggplot')\n",
    "plt.figure(figsize=(10, 10))\n",
    "X, y = artificial_points()\n",
    "batch_gd = batch_gd_plot(X, y, theta=1, alpha=.2, theta_path=True)\n",
    "stochastic_gd = stochastic_gd_plot(X, y, theta_path=True)\n",
    "minibatch_gd = mini_batch_gd_plot(X, y, theta=1, alpha=.2, theta_path=True)\n",
    "compare_gd_strategies(batch_gd, stochastic_gd, minibatch_gd)"
   ]
  },
  {
   "cell_type": "code",
   "execution_count": null,
   "metadata": {},
   "outputs": [],
   "source": []
  }
 ],
 "metadata": {
  "kernelspec": {
   "display_name": "Python 3",
   "language": "python",
   "name": "python3"
  },
  "language_info": {
   "codemirror_mode": {
    "name": "ipython",
    "version": 3
   },
   "file_extension": ".py",
   "mimetype": "text/x-python",
   "name": "python",
   "nbconvert_exporter": "python",
   "pygments_lexer": "ipython3",
   "version": "3.7.1"
  }
 },
 "nbformat": 4,
 "nbformat_minor": 2
}
