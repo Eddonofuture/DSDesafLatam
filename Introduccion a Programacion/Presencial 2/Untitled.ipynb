{
 "cells": [
  {
   "cell_type": "code",
   "execution_count": 11,
   "metadata": {},
   "outputs": [
    {
     "name": "stdout",
     "output_type": "stream",
     "text": [
      "Ingrese una palabra: test\n"
     ]
    }
   ],
   "source": [
    "palabra = input(\"Ingrese una palabra: \")"
   ]
  },
  {
   "cell_type": "code",
   "execution_count": 12,
   "metadata": {},
   "outputs": [
    {
     "name": "stdout",
     "output_type": "stream",
     "text": [
      "Pequeña\n",
      "CPU times: user 43 µs, sys: 13 µs, total: 56 µs\n",
      "Wall time: 58.2 µs\n"
     ]
    }
   ],
   "source": [
    "%%time\n",
    "largo = len (palabra)\n",
    "if largo <= 4:\n",
    "    print(\"Pequeña\")\n",
    "elif largo < 10:\n",
    "    print(\"Mediana\")\n",
    "else: \n",
    "    print(\"Larga\")"
   ]
  },
  {
   "cell_type": "code",
   "execution_count": 13,
   "metadata": {},
   "outputs": [
    {
     "name": "stdout",
     "output_type": "stream",
     "text": [
      "Pequeña\n",
      "Mediana\n",
      "CPU times: user 183 µs, sys: 71 µs, total: 254 µs\n",
      "Wall time: 213 µs\n"
     ]
    }
   ],
   "source": [
    "%%time\n",
    "largo = len (palabra)\n",
    "if largo <= 4:\n",
    "    print(\"Pequeña\")\n",
    "if largo < 10:\n",
    "    print(\"Mediana\")\n",
    "else: \n",
    "    print(\"Larga\")"
   ]
  },
  {
   "cell_type": "code",
   "execution_count": 15,
   "metadata": {},
   "outputs": [
    {
     "name": "stdout",
     "output_type": "stream",
     "text": [
      "Iteracion 1\n",
      "Iteracion 2\n",
      "Iteracion 3\n",
      "Iteracion 4\n",
      "Iteracion 5\n",
      "Iteracion 6\n",
      "Iteracion 7\n",
      "Iteracion 8\n",
      "Iteracion 9\n",
      "Iteracion 10\n",
      "Iteracion 11\n",
      "Iteracion 12\n",
      "Iteracion 13\n",
      "Iteracion 14\n",
      "Iteracion 15\n",
      "Iteracion 16\n",
      "Iteracion 17\n",
      "Iteracion 18\n",
      "Iteracion 19\n",
      "Iteracion 20\n",
      "Iteracion 21\n",
      "Iteracion 22\n",
      "Iteracion 23\n",
      "Iteracion 24\n",
      "Iteracion 25\n",
      "Iteracion 26\n",
      "Iteracion 27\n",
      "Iteracion 28\n",
      "Iteracion 29\n",
      "Iteracion 30\n",
      "Iteracion 31\n",
      "Iteracion 32\n",
      "Iteracion 33\n",
      "Iteracion 34\n",
      "Iteracion 35\n",
      "Iteracion 36\n",
      "Iteracion 37\n",
      "Iteracion 38\n",
      "Iteracion 39\n",
      "Iteracion 40\n",
      "Iteracion 41\n",
      "Iteracion 42\n",
      "Iteracion 43\n",
      "Iteracion 44\n",
      "Iteracion 45\n",
      "Iteracion 46\n",
      "Iteracion 47\n",
      "Iteracion 48\n",
      "Iteracion 49\n",
      "Iteracion 50\n"
     ]
    }
   ],
   "source": [
    "i = 0\n",
    "while i < 50:\n",
    "    print(\"Iteracion {}\".format(i + 1))\n",
    "    i +=1"
   ]
  },
  {
   "cell_type": "code",
   "execution_count": 16,
   "metadata": {},
   "outputs": [
    {
     "name": "stdout",
     "output_type": "stream",
     "text": [
      "Ingrese un número para comenzar la cuenta\n",
      "5\n",
      "Iteración 5\n",
      "Iteración 4\n",
      "Iteración 3\n",
      "Iteración 2\n",
      "Iteración 1\n"
     ]
    }
   ],
   "source": [
    "cuenta_regresiva = int(input(\"Ingrese un número para comenzar la cuenta\\n\"))\n",
    "for i in range(cuenta_regresiva):\n",
    "    tmp = cuenta_regresiva\n",
    "    print(\"Iteración {}\".format(tmp - i))"
   ]
  },
  {
   "cell_type": "code",
   "execution_count": 17,
   "metadata": {},
   "outputs": [
    {
     "name": "stdout",
     "output_type": "stream",
     "text": [
      "Ingrese un numero para comenzar la cuenta\n",
      "5\n"
     ]
    }
   ],
   "source": [
    "cuenta_regresiva = int(input(\"Ingrese un numero para comenzar la cuenta\\n\"))\n",
    "\n",
    "i = 0\n",
    "while i > cuenta_regresiva:\n",
    "    cuenta_regresiva -= 1\n",
    "    print(\"Iteración {}\".format(cuenta_regresiva))"
   ]
  },
  {
   "cell_type": "code",
   "execution_count": 20,
   "metadata": {},
   "outputs": [
    {
     "name": "stdout",
     "output_type": "stream",
     "text": [
      "Ingresa contrasena\n",
      "UHUHUWed\n",
      "uhuhuwed\n"
     ]
    }
   ],
   "source": [
    "clave = input(\"Ingresa contrasena\\n\")\n",
    "decifrar = clave.lower()\n",
    "print (decifrar)\n",
    "caracteres = \"abcdefghijklmnopqrstuvwxyz\""
   ]
  },
  {
   "cell_type": "code",
   "execution_count": null,
   "metadata": {},
   "outputs": [],
   "source": []
  }
 ],
 "metadata": {
  "kernelspec": {
   "display_name": "Python 3",
   "language": "python",
   "name": "python3"
  },
  "language_info": {
   "codemirror_mode": {
    "name": "ipython",
    "version": 3
   },
   "file_extension": ".py",
   "mimetype": "text/x-python",
   "name": "python",
   "nbconvert_exporter": "python",
   "pygments_lexer": "ipython3",
   "version": "3.7.1"
  }
 },
 "nbformat": 4,
 "nbformat_minor": 2
}
