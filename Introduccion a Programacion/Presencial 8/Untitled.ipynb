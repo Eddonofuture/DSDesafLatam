{
 "cells": [
  {
   "cell_type": "code",
   "execution_count": 3,
   "metadata": {},
   "outputs": [
    {
     "data": {
      "text/plain": [
       "array(['GRE', 'GBR', 'SUI', 'USA', 'GER', 'FRA', 'HUN', 'AUS', 'AUT',\n",
       "       'DEN', 'ITA', 'SWE'], dtype=object)"
      ]
     },
     "execution_count": 3,
     "metadata": {},
     "output_type": "execute_result"
    }
   ],
   "source": [
    "import pandas as pd\n",
    "\n",
    "df = pd.read_csv('athlete_events.csv')\n",
    "df.head()\n",
    "\n",
    "ejercicio_1 = df.shape\n",
    "ejercicio_1\n",
    "\n",
    "ejercicio_2 = df[\"Games\"].unique().size\n",
    "ejercicio_2\n",
    "\n",
    "ejercicio_3 = df[\"Season\"].value_counts(normalize = True)\n",
    "ejercicio_3\n",
    "\n",
    "pre_4 = df[df[\"Season\"] == \"Summer\"]\n",
    "post_4 = pre_4[pre_4[\"Year\"] == pre_4[\"Year\"].min()]\n",
    "ejercicio_4 = post_4[\"City\"].tolist()[0]\n",
    "ejercicio_4\n",
    "\n",
    "pre_5 = df[df[\"Season\"] == \"Winter\"]\n",
    "post_5 = pre_5[pre_5[\"Year\"] == pre_5[\"Year\"].min()]\n",
    "ejercicio_5 = post_5[\"City\"].tolist()[0]\n",
    "ejercicio_5\n",
    "\n",
    "pre_6 = df[\"Team\"].value_counts()\n",
    "ejercicio_6 = pre_6.head(10)\n",
    "ejercicio_6\n",
    "\n",
    "ejercicio_7 = df[\"Medal\"].value_counts(normalize = True, dropna=True)\n",
    "ejercicio_7\n",
    "\n",
    "pre_8 = df[df[\"Season\"] == \"Summer\"]\n",
    "post_8 = pre_8[pre_8[\"Year\"] == pre_8[\"Year\"].min()]\n",
    "ejercicio_8 = post_8[\"NOC\"].unique()\n",
    "ejercicio_8\n"
   ]
  },
  {
   "cell_type": "code",
   "execution_count": null,
   "metadata": {},
   "outputs": [],
   "source": []
  }
 ],
 "metadata": {
  "kernelspec": {
   "display_name": "Python 3",
   "language": "python",
   "name": "python3"
  },
  "language_info": {
   "codemirror_mode": {
    "name": "ipython",
    "version": 3
   },
   "file_extension": ".py",
   "mimetype": "text/x-python",
   "name": "python",
   "nbconvert_exporter": "python",
   "pygments_lexer": "ipython3",
   "version": "3.7.1"
  }
 },
 "nbformat": 4,
 "nbformat_minor": 2
}
