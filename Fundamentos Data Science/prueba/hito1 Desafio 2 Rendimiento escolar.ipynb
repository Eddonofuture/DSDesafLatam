{
 "cells": [
  {
   "cell_type": "markdown",
   "metadata": {},
   "source": [
    "# Felipe Veloso Hito Desafío 2: Rendimiento escolar"
   ]
  },
  {
   "cell_type": "markdown",
   "metadata": {},
   "source": [
    "Los dos enunciados deben estar clarificados, considerando el tipo de problema a resolver (regresión o clasificación). Para cada uno de los enunciados y su problema identificado, se debe justificar el uso de métricas para medir el desempeño del problema. (3 puntos)"
   ]
  },
  {
   "cell_type": "markdown",
   "metadata": {},
   "source": [
    "    Se requiere identificar el rendimiento de los alumnos e identificar cuales presentan bajo rendimiento academico, esto con medido con su promedio general final, existen datos sociales,conductuales y medio ambientales.\n",
    "    \n",
    "    Para poder generar un modelo predictor me dedicare a modelar de manera lineal la informacion, ver como interactuan sus variables, en especial su correlacion, para evaluar factores que permitan la inferencia de esta data.\n",
    "    \n",
    "    Me apoyare en diversas librerias, tanto graficas como de analisis las cuales seran detalladas en parte en los siguientes hitos."
   ]
  },
  {
   "cell_type": "markdown",
   "metadata": {},
   "source": [
    "Se debe considerar el uso de las librerías asociadas para la ingesta, preprocesamiento, visualización y modelación, así como métricas de evaluación. (1 punto)"
   ]
  },
  {
   "cell_type": "code",
   "execution_count": 1,
   "metadata": {},
   "outputs": [],
   "source": [
    "import warnings\n",
    "warnings.filterwarnings('ignore')\n",
    "#Libreria para evitar molestos mensajes de deprecacion principalmente\n",
    "import pandas as pd\n",
    "import numpy as np\n",
    "#Librerias basicas para procesamiento de data\n",
    "from scipy import stats\n",
    "#Librerias para estadistica\n",
    "import matplotlib.pyplot as plt\n",
    "import seaborn as sns\n",
    "#Librerias para Graficar y sus estilos\n",
    "plt.style.use('seaborn-whitegrid')\n",
    "plt.rcParams['figure.figsize'] = (10,6)\n",
    "\n",
    "import statsmodels.api as sm\n",
    "import statsmodels.formula.api as smf\n",
    "#Librerias mas completas y complejas de estadisticas\n",
    "from sklearn.linear_model import LinearRegression\n",
    "from sklearn.metrics import mean_squared_error, r2_score\n",
    "#Librerias para modelamiento y su especifico regresion lineal\n",
    "from sklearn.model_selection import train_test_split\n",
    "#Permite la creacion de los modelos entrenamiento y testing de hipotesis\n",
    "\n",
    "#Pueden faltar librerias para temas mas especificos y al a vez librerias util que permitan funciones adicionales\n",
    "#import functions"
   ]
  },
  {
   "cell_type": "markdown",
   "metadata": {},
   "source": [
    "Se debe detallar y considerar el proceso de preprocesamiento y recodificación de datos. (1\n",
    "punto)"
   ]
  },
  {
   "cell_type": "markdown",
   "metadata": {},
   "source": [
    "    Se revisa superficialmente la bbdd para entender el tipo de separacion de los datos para evitar conflictos en su importacion\n",
    "    \n",
    "    Se eliminan todas las variables ? (dado que esta sugerido) y se reemplazan por un NA\n",
    "    \n",
    "    Al exitir informacion incompleta, antes de comenzar a eliminar data faltante (que posiblemente afecte nuestro modelo) se estandarizan los campos tales como zero, nul o sem validade. ( se crea una funcion que nos entrega todos nuestros parametros unicos para estar con certeza cuales aplican y cuales no)\n",
    "    \n",
    "    Se reparan variables mal ingresadas para mejorar la facilidad de calculo, tambien se validaron con una funcion de obtencion de unicos.\n",
    "    \n",
    "    Se aplica funcion replace con la informacion recopilada"
   ]
  },
  {
   "cell_type": "code",
   "execution_count": null,
   "metadata": {},
   "outputs": [],
   "source": []
  }
 ],
 "metadata": {
  "kernelspec": {
   "display_name": "Python 3",
   "language": "python",
   "name": "python3"
  },
  "language_info": {
   "codemirror_mode": {
    "name": "ipython",
    "version": 3
   },
   "file_extension": ".py",
   "mimetype": "text/x-python",
   "name": "python",
   "nbconvert_exporter": "python",
   "pygments_lexer": "ipython3",
   "version": "3.7.3"
  }
 },
 "nbformat": 4,
 "nbformat_minor": 2
}
