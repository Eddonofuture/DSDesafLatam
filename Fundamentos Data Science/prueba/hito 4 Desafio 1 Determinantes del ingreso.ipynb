{
 "cells": [
  {
   "cell_type": "markdown",
   "metadata": {},
   "source": [
    "Felipe Veloso hito 4"
   ]
  },
  {
   "cell_type": "code",
   "execution_count": 1,
   "metadata": {},
   "outputs": [],
   "source": [
    "import warnings\n",
    "warnings.filterwarnings('ignore')\n",
    "#Librerias para filtrar warnings\n",
    "import pandas as pd\n",
    "import numpy as np\n",
    "#Libreria de analisis numerico\n",
    "import matplotlib.pyplot as plt\n",
    "import seaborn as sns\n",
    "plt.style.use('seaborn')\n",
    "plt.rcParams['figure.figsize'] = (10, 6)\n",
    "#librerias de graficos\n",
    "from scipy import stats\n",
    "#Librerias estadisticas\n",
    "import statsmodels.api as sm\n",
    "import statsmodels.formula.api as smf\n",
    "#librerias de estadsitica aplicada\n",
    "\n",
    "from sklearn.linear_model import LogisticRegression\n",
    "from sklearn.model_selection import train_test_split\n",
    "from sklearn.preprocessing import StandardScaler\n",
    "from sklearn.metrics import confusion_matrix\n",
    "from sklearn.metrics import accuracy_score\n",
    "from sklearn.metrics import precision_score\n",
    "from sklearn.metrics import recall_score\n",
    "from sklearn.metrics import f1_score\n",
    "from sklearn.metrics import classification_report\n",
    "from sklearn.metrics import roc_curve\n",
    "from sklearn.metrics import roc_auc_score\n",
    "from sklearn.model_selection import cross_val_score\n",
    "from sklearn.model_selection import LeaveOneOut\n",
    "from sklearn.preprocessing import PolynomialFeatures\n",
    "#Librerias espeficias para regresion logistica, su validadion, presicion y evaluar su eficacia.\n",
    "#Pueden faltar librerias para temas mas especificos y al a vez librerias util que permitan funciones adicionales\n",
    "from functions import printUniques , replaceAll , concise_summary,logitCalculate"
   ]
  },
  {
   "cell_type": "markdown",
   "metadata": {},
   "source": [
    "# La preparación del ambiente de trabajo (imports, separación de muestras) para implementar modelos de predicción. "
   ]
  },
  {
   "cell_type": "code",
   "execution_count": 2,
   "metadata": {},
   "outputs": [],
   "source": [
    "df = pd.read_csv('income-db.csv')\n",
    "df_filter = df"
   ]
  },
  {
   "cell_type": "code",
   "execution_count": 3,
   "metadata": {},
   "outputs": [],
   "source": [
    "df_filter = replaceAll(df_filter,'?',np.nan)\n",
    "df_filter = replaceAll(df_filter,['Exec-managerial','Prof-specialty','Adm-clerical','Sales','Tech-support'],'white_collar')\n",
    "df_filter = replaceAll(df_filter,['Craft-repair','Machine-op-inspct','Transport-moving','Handlers-cleaners','Farming-fishing','Protective-serv','Priv-house-serv'],'blue_collar')\n",
    "df_filter = replaceAll(df_filter,['Other-service','Armed-Forces'],'others')\n",
    "df_filter = replaceAll(df_filter,['Federal-gov'],'federal_gov')\n",
    "df_filter = replaceAll(df_filter,['State-gov','Local-gov'],'state_level_gov' )\n",
    "df_filter = replaceAll(df_filter,['Self-emp-inc','Self-emp-not-inc'],'self_employ' )\n",
    "df_filter = replaceAll(df_filter,['Never-worked','Without-pay'],'unemployed' )\n",
    "df_filter = replaceAll(df_filter,['Preschool'],'preschool')\n",
    "df_filter = replaceAll(df_filter,['1st-4th','5th-6th'],'elementary_school')\n",
    "df_filter = replaceAll(df_filter,['7th-8th','9th','10th','11th','12th','HS-grad'],'high_school')\n",
    "df_filter = replaceAll(df_filter,['Assoc-voc','Assoc-acdm','Some-college'],'college')\n",
    "df_filter = replaceAll(df_filter,['Bachelors','Masters','Prof-school','Doctorate'],'university')\n",
    "df_filter = replaceAll(df_filter,['Married-civ-spouse','Married-spouse-absent','Married-AF- spouse'],'married')\n",
    "df_filter = replaceAll(df_filter,['Divorced'],'divorced')\n",
    "df_filter = replaceAll(df_filter,['Separated'],'separated')\n",
    "df_filter = replaceAll(df_filter,['Widowed'],'widowed')\n",
    "df_filter = replaceAll(df_filter,['United-States','Mexico','Puerto-Rico','Canada','El-Salvador','Cuba','Jamaica','Dominican-Republic','Guatemala','Columbia','Haiti','Nicaragua','Peru','Ecuador','Trinadad&Tobago','Outlying-US(Guam-USVI-etc)','Honduras'],'America')\n",
    "df_filter = replaceAll(df_filter,['England','Portugal','Italy','Germany','Poland','Greece','Ireland','France','Scotland','Yugoslavia','Hungary','Holand-Netherlands'],'Europe')\n",
    "df_filter = replaceAll(df_filter,['Philippines','India','China','Japan','South','Vietnam','Iran','Taiwan','Thailand','Hong','Cambodia','Laos'],'Asia')\n",
    "df_filter = replaceAll(df_filter,['<=50K','>50K'], [0,1])\n",
    "df_filter = replaceAll(df_filter,'-','_')\n"
   ]
  },
  {
   "cell_type": "code",
   "execution_count": 4,
   "metadata": {},
   "outputs": [],
   "source": [
    "df_filter['collars'] = df_filter['occupation']\n",
    "df_filter = df_filter.drop('occupation', axis=1)\n",
    "df_filter['workclass_recod'] = df_filter['workclass']\n",
    "df_filter = df_filter.drop('workclass', axis=1)\n",
    "df_filter['education_recod'] = df_filter['education']\n",
    "df_filter = df_filter.drop('education', axis=1)\n",
    "df_filter['civstatus'] = df_filter['marital-status']\n",
    "df_filter = df_filter.drop('marital-status', axis=1)"
   ]
  },
  {
   "cell_type": "code",
   "execution_count": 5,
   "metadata": {},
   "outputs": [],
   "source": [
    "df_dummy = pd.get_dummies(df_filter)"
   ]
  },
  {
   "cell_type": "code",
   "execution_count": 6,
   "metadata": {},
   "outputs": [],
   "source": [
    "df_dummy = df_dummy.rename(index=str, columns={'capital-gain':'capital_gain',\n",
    "                                               'capital-loss':'capital_loss',\n",
    "                                               'educational-num':'educational_num',\n",
    "                                               'hours-per-week':'hours_per_week',\n",
    "                                               'relationship_Not-in-family':'relationship_Not_in_family',\n",
    "                                              'relationship_Other-relative':'relationship_Other_relative',\n",
    "                                              'relationship_Own-child':'relationship_Own_child',\n",
    "                                              'race_Amer-Indian-Eskimo':'race_Amer_Indian_Eskimo',\n",
    "                                              'race_Asian-Pac-Islander':'race_Asian_Pac_Islander',\n",
    "                                              'native-country_America':'native_country_America',\n",
    "                                              'native-country_Asia':'native_country_Asia',\n",
    "                                              'native-country_Europe':'native_country_Europe',\n",
    "                                              'civstatus_Married-AF-spouse':'civstatus_Married_AF_spouse',\n",
    "                                              'civstatus_Never-married':'civstatus_Never_married'})"
   ]
  },
  {
   "cell_type": "code",
   "execution_count": 7,
   "metadata": {},
   "outputs": [],
   "source": [
    "df_dummy.dropna(how='any' , inplace=True)"
   ]
  },
  {
   "cell_type": "code",
   "execution_count": 8,
   "metadata": {
    "scrolled": true
   },
   "outputs": [],
   "source": [
    "#logit_reg = smf.logit('income ~ age + fnlwgt + educational_num + capital_gain + capital_loss + hours_per_week + relationship_Husband + relationship_Other_relative + relationship_Own_child  + relationship_Unmarried + relationship_Wife + race_Amer_Indian_Eskimo + race_Asian_Pac_Islander + race_Black + race_White + gender_Male + native_country_America + native_country_Europe + collars_blue_collar + collars_white_collar + workclass_recod_Private + workclass_recod_federal_gov + workclass_recod_self_employ + workclass_recod_state_level_gov + education_recod_college + education_recod_elementary_school + education_recod_high_school + education_recod_university + civstatus_Married_AF_spouse + civstatus_Never_married + civstatus_divorced + civstatus_married + civstatus_separated', df_dummy).fit()\n",
    "#params =  ['age','fnlwgt','educational_num','capital_gain','capital_loss','hours_per_week','relationship_Husband','relationship_Other_relative','relationship_Own_child','relationship_Unmarried','relationship_Wife','gender_Male','native_country_America','native_country_Europe','collars_blue_collar','collars_white_collar','workclass_recod_federal_gov','workclass_recod_self_employ','civstatus_Married_AF_spouse','civstatus_Never_married','civstatus_married']\n"
   ]
  },
  {
   "cell_type": "markdown",
   "metadata": {},
   "source": [
    "# La implementación de por lo menos tres modelos predictivos. "
   ]
  },
  {
   "cell_type": "code",
   "execution_count": 9,
   "metadata": {},
   "outputs": [],
   "source": [
    "df_Y = df_dummy['income']"
   ]
  },
  {
   "cell_type": "code",
   "execution_count": 10,
   "metadata": {},
   "outputs": [],
   "source": [
    "params =  ['age','fnlwgt','educational_num','capital_gain','capital_loss','hours_per_week','relationship_Husband','relationship_Other_relative','relationship_Own_child','relationship_Unmarried','relationship_Wife','gender_Male','native_country_America','native_country_Europe','collars_blue_collar','collars_white_collar','workclass_recod_federal_gov','workclass_recod_self_employ','civstatus_Married_AF_spouse','civstatus_Never_married','civstatus_married']\n",
    "df_fin = df_dummy.loc[:,params]"
   ]
  },
  {
   "cell_type": "code",
   "execution_count": 11,
   "metadata": {},
   "outputs": [],
   "source": [
    "from sklearn.linear_model import LogisticRegression\n",
    "from sklearn.model_selection import train_test_split\n",
    "from sklearn.preprocessing import StandardScaler\n",
    "#Utilizare los size segun pareto\n",
    "X_train , X_test , y_train , y_test = train_test_split(df_fin,\n",
    "                                                       df_Y,\n",
    "                                                       test_size=.2,random_state=11238)"
   ]
  },
  {
   "cell_type": "code",
   "execution_count": 12,
   "metadata": {},
   "outputs": [],
   "source": [
    "#Modelo sin estandarizar todos los params"
   ]
  },
  {
   "cell_type": "code",
   "execution_count": 13,
   "metadata": {},
   "outputs": [],
   "source": [
    "default_model = LogisticRegression().fit(X_train,y_train)"
   ]
  },
  {
   "cell_type": "code",
   "execution_count": 14,
   "metadata": {},
   "outputs": [
    {
     "data": {
      "text/plain": [
       "array([0, 0, 0, 1, 0, 0, 0, 0, 0, 0, 0, 0, 0, 0, 0, 0, 0, 0, 0, 0])"
      ]
     },
     "execution_count": 14,
     "metadata": {},
     "output_type": "execute_result"
    }
   ],
   "source": [
    "def_predict = default_model.predict(X_test)\n",
    "def_predict[:20]"
   ]
  },
  {
   "cell_type": "code",
   "execution_count": 15,
   "metadata": {
    "scrolled": true
   },
   "outputs": [
    {
     "name": "stdout",
     "output_type": "stream",
     "text": [
      "              precision    recall  f1-score   support\n",
      "\n",
      "           0       0.81      0.97      0.88      7442\n",
      "           1       0.73      0.26      0.39      2327\n",
      "\n",
      "   micro avg       0.80      0.80      0.80      9769\n",
      "   macro avg       0.77      0.62      0.63      9769\n",
      "weighted avg       0.79      0.80      0.76      9769\n",
      "\n"
     ]
    }
   ],
   "source": [
    "from sklearn.metrics import classification_report\n",
    "print(classification_report(y_test,def_predict))"
   ]
  },
  {
   "cell_type": "markdown",
   "metadata": {},
   "source": [
    "Modelo Predice `73%` frente a un predictor aleatorio y un `26%` de positivos reales"
   ]
  },
  {
   "cell_type": "code",
   "execution_count": 16,
   "metadata": {
    "scrolled": true
   },
   "outputs": [],
   "source": [
    "from sklearn.metrics import roc_curve\n",
    "def_predict_pr = default_model.predict_proba(X_test)[:,1]\n",
    "\n",
    "false_positive, true_positive, threshold = roc_curve(y_test,def_predict_pr)"
   ]
  },
  {
   "cell_type": "code",
   "execution_count": 17,
   "metadata": {},
   "outputs": [
    {
     "data": {
      "text/plain": [
       "Text(0.5, 0, 'Falsos Positivos')"
      ]
     },
     "execution_count": 17,
     "metadata": {},
     "output_type": "execute_result"
    },
    {
     "data": {
      "image/png": "[encoded data removed]",
      "text/plain": [
       "<Figure size 432x288 with 1 Axes>"
      ]
     },
     "metadata": {
      "needs_background": "light"
     },
     "output_type": "display_data"
    }
   ],
   "source": [
    "plt.plot(false_positive,true_positive,lw=1)\n",
    "plt.plot([0,1], linestyle='--', lw=1, color = 'tomato')\n",
    "plt.ylabel('Verdaderos Positivos')\n",
    "plt.xlabel('Falsos Positivos')\n",
    "#curva roc"
   ]
  },
  {
   "cell_type": "code",
   "execution_count": 18,
   "metadata": {},
   "outputs": [],
   "source": [
    "#Modelo Standarizado"
   ]
  },
  {
   "cell_type": "code",
   "execution_count": 19,
   "metadata": {},
   "outputs": [
    {
     "name": "stderr",
     "output_type": "stream",
     "text": [
      "/anaconda3/lib/python3.7/site-packages/sklearn/preprocessing/data.py:645: DataConversionWarning: Data with input dtype uint8, int64 were all converted to float64 by StandardScaler.\n",
      "  return self.partial_fit(X, y)\n",
      "/anaconda3/lib/python3.7/site-packages/sklearn/base.py:464: DataConversionWarning: Data with input dtype uint8, int64 were all converted to float64 by StandardScaler.\n",
      "  return self.fit(X, **fit_params).transform(X)\n",
      "/anaconda3/lib/python3.7/site-packages/sklearn/preprocessing/data.py:645: DataConversionWarning: Data with input dtype uint8, int64 were all converted to float64 by StandardScaler.\n",
      "  return self.partial_fit(X, y)\n",
      "/anaconda3/lib/python3.7/site-packages/sklearn/base.py:464: DataConversionWarning: Data with input dtype uint8, int64 were all converted to float64 by StandardScaler.\n",
      "  return self.fit(X, **fit_params).transform(X)\n"
     ]
    }
   ],
   "source": [
    "X_train_std = StandardScaler().fit_transform(X_train)\n",
    "X_test_std = StandardScaler().fit_transform(X_test)"
   ]
  },
  {
   "cell_type": "code",
   "execution_count": 41,
   "metadata": {},
   "outputs": [],
   "source": [
    "normal_model = LogisticRegression().fit(X_train_std,y_train)"
   ]
  },
  {
   "cell_type": "code",
   "execution_count": 42,
   "metadata": {},
   "outputs": [
    {
     "data": {
      "text/plain": [
       "array([0, 0, 0, 1, 1, 0, 0, 0, 0, 0, 0, 0, 0, 0, 0, 0, 0, 0, 0, 0])"
      ]
     },
     "execution_count": 42,
     "metadata": {},
     "output_type": "execute_result"
    }
   ],
   "source": [
    "y_std = normal_model.predict(X_test_std)\n",
    "y_std[:20]"
   ]
  },
  {
   "cell_type": "code",
   "execution_count": 43,
   "metadata": {},
   "outputs": [
    {
     "name": "stdout",
     "output_type": "stream",
     "text": [
      "              precision    recall  f1-score   support\n",
      "\n",
      "           0       0.88      0.93      0.90      7442\n",
      "           1       0.72      0.59      0.65      2327\n",
      "\n",
      "   micro avg       0.85      0.85      0.85      9769\n",
      "   macro avg       0.80      0.76      0.78      9769\n",
      "weighted avg       0.84      0.85      0.84      9769\n",
      "\n"
     ]
    }
   ],
   "source": [
    "from sklearn.metrics import classification_report\n",
    "print(classification_report(y_test,y_std))"
   ]
  },
  {
   "cell_type": "markdown",
   "metadata": {},
   "source": [
    "Modelo Predice `72%` frente a un predictor aleatorio y un `59%` de positivos reales"
   ]
  },
  {
   "cell_type": "code",
   "execution_count": 44,
   "metadata": {},
   "outputs": [],
   "source": [
    "from sklearn.metrics import roc_curve\n",
    "y_std_pr = normal_model.predict_proba(X_test_std)[:,1]\n",
    "\n",
    "false_positive, true_positive, threshold = roc_curve(y_test,y_std_pr)"
   ]
  },
  {
   "cell_type": "code",
   "execution_count": 24,
   "metadata": {},
   "outputs": [
    {
     "data": {
      "text/plain": [
       "Text(0.5, 0, 'Falsos Positivos')"
      ]
     },
     "execution_count": 24,
     "metadata": {},
     "output_type": "execute_result"
    },
    {
     "data": {
      "image/png": "[encoded data removed]",
      "text/plain": [
       "<Figure size 432x288 with 1 Axes>"
      ]
     },
     "metadata": {
      "needs_background": "light"
     },
     "output_type": "display_data"
    }
   ],
   "source": [
    "plt.plot(false_positive,true_positive,lw=1)\n",
    "plt.plot([0,1], linestyle='--', lw=1, color = 'tomato')\n",
    "plt.ylabel('Verdaderos Positivos')\n",
    "plt.xlabel('Falsos Positivos')\n",
    "#curva roc"
   ]
  },
  {
   "cell_type": "code",
   "execution_count": null,
   "metadata": {},
   "outputs": [],
   "source": []
  },
  {
   "cell_type": "code",
   "execution_count": 25,
   "metadata": {},
   "outputs": [],
   "source": [
    "# Modelo con los datos que personalmente creo que influyen"
   ]
  },
  {
   "cell_type": "code",
   "execution_count": 26,
   "metadata": {},
   "outputs": [],
   "source": [
    "df_Y_mine = df_dummy['income']\n",
    "params =  ['age','educational_num','capital_gain','capital_loss','hours_per_week','gender_Male','native_country_America','native_country_Europe','collars_blue_collar','collars_white_collar','workclass_recod_federal_gov','workclass_recod_self_employ','civstatus_Married_AF_spouse','civstatus_Never_married','civstatus_married']\n",
    "df_fin_mine = df_dummy.loc[:,params]"
   ]
  },
  {
   "cell_type": "code",
   "execution_count": 35,
   "metadata": {},
   "outputs": [],
   "source": [
    "from sklearn.linear_model import LogisticRegression\n",
    "from sklearn.model_selection import train_test_split\n",
    "from sklearn.preprocessing import StandardScaler\n",
    "#Utilizare los size segun pareto\n",
    "X_train_mine , X_test_mine , y_train_mine , y_test_mine = train_test_split(df_fin_mine,\n",
    "                                                       df_Y_mine,\n",
    "                                                       test_size=.2,random_state=11238)"
   ]
  },
  {
   "cell_type": "code",
   "execution_count": 36,
   "metadata": {},
   "outputs": [],
   "source": [
    "mine_model = LogisticRegression().fit(X_train_mine,y_train_mine)"
   ]
  },
  {
   "cell_type": "code",
   "execution_count": 37,
   "metadata": {},
   "outputs": [
    {
     "data": {
      "text/plain": [
       "array([0, 0, 0, 1, 1, 0, 0, 0, 0, 0, 0, 0, 0, 0, 0, 0, 0, 0, 0, 0])"
      ]
     },
     "execution_count": 37,
     "metadata": {},
     "output_type": "execute_result"
    }
   ],
   "source": [
    "mine_predict = mine_model.predict(X_test_mine)\n",
    "mine_predict[:20]"
   ]
  },
  {
   "cell_type": "code",
   "execution_count": 38,
   "metadata": {},
   "outputs": [
    {
     "name": "stdout",
     "output_type": "stream",
     "text": [
      "              precision    recall  f1-score   support\n",
      "\n",
      "           0       0.87      0.93      0.90      7442\n",
      "           1       0.73      0.57      0.64      2327\n",
      "\n",
      "   micro avg       0.85      0.85      0.85      9769\n",
      "   macro avg       0.80      0.75      0.77      9769\n",
      "weighted avg       0.84      0.85      0.84      9769\n",
      "\n"
     ]
    }
   ],
   "source": [
    "from sklearn.metrics import classification_report\n",
    "mine_report = classification_report(y_test_mine,mine_predict)\n",
    "print(classification_report(y_test_mine,mine_predict))\n"
   ]
  },
  {
   "cell_type": "markdown",
   "metadata": {},
   "source": [
    "Modelo Predice `73%` frente a un predictor aleatorio y un `57%` de positivos reales"
   ]
  },
  {
   "cell_type": "code",
   "execution_count": 40,
   "metadata": {},
   "outputs": [],
   "source": [
    "from sklearn.metrics import roc_curve\n",
    "y_mine_pr = mine_model.predict_proba(X_test_mine)[:,1]\n",
    "false_positive_mine, true_positive_mine, threshold_mine = roc_curve(y_test_mine,y_mine_pr)"
   ]
  },
  {
   "cell_type": "code",
   "execution_count": null,
   "metadata": {},
   "outputs": [],
   "source": [
    "plt.plot(false_positive_mine,true_positive_mine,lw=1)\n",
    "plt.plot([0,1], linestyle='--', lw=1, color = 'tomato')\n",
    "plt.ylabel('Verdaderos Positivos')\n",
    "plt.xlabel('Falsos Positivos')\n",
    "#curva roc"
   ]
  },
  {
   "cell_type": "code",
   "execution_count": null,
   "metadata": {},
   "outputs": [],
   "source": [
    "sns.distplot(def_predict)"
   ]
  },
  {
   "cell_type": "code",
   "execution_count": null,
   "metadata": {},
   "outputs": [],
   "source": [
    "sns.distplot(y_std)"
   ]
  },
  {
   "cell_type": "code",
   "execution_count": null,
   "metadata": {},
   "outputs": [],
   "source": [
    "sns.distplot(mine_predict)"
   ]
  },
  {
   "cell_type": "markdown",
   "metadata": {},
   "source": [
    "# El reporte del mejor modelo predictivo en base a los resultados"
   ]
  },
  {
   "cell_type": "markdown",
   "metadata": {},
   "source": [
    "En base a los resultados obtenidos, tenemos 2 modelos bastante similares pero uno supera al otro por una minima diferencia,al estandarizar las variables (modelo 2) encontramos un mejor fit que un selector aleatorio pero sacrificando en parte cantidad de falsos positivos un poco mas elevado, creo que como inicio para un modelo oficial podemos utilizar con algo de confianza a predecir los ingresos en base a la informacion dada"
   ]
  },
  {
   "cell_type": "code",
   "execution_count": null,
   "metadata": {},
   "outputs": [],
   "source": []
  }
 ],
 "metadata": {
  "kernelspec": {
   "display_name": "Python 3",
   "language": "python",
   "name": "python3"
  },
  "language_info": {
   "codemirror_mode": {
    "name": "ipython",
    "version": 3
   },
   "file_extension": ".py",
   "mimetype": "text/x-python",
   "name": "python",
   "nbconvert_exporter": "python",
   "pygments_lexer": "ipython3",
   "version": "3.7.3"
  }
 },
 "nbformat": 4,
 "nbformat_minor": 2
}
