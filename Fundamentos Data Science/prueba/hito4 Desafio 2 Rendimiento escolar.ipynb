{
 "cells": [
  {
   "cell_type": "markdown",
   "metadata": {},
   "source": [
    "Felipe Veloso hito 4"
   ]
  },
  {
   "cell_type": "code",
   "execution_count": 1,
   "metadata": {},
   "outputs": [],
   "source": [
    "import pandas as pd\n",
    "from functions import printUniques , report_scores , fetch_features\n",
    "\n",
    "import warnings\n",
    "warnings.filterwarnings('ignore')\n",
    "import numpy as np\n",
    "from scipy import stats\n",
    "import matplotlib.pyplot as plt\n",
    "import seaborn as sns\n",
    "import statsmodels.api as sm\n",
    "import statsmodels.formula.api as smf\n",
    "from sklearn.linear_model import LinearRegression\n",
    "from sklearn.metrics import mean_squared_error, r2_score\n",
    "from sklearn.linear_model import LinearRegression\n",
    "from sklearn.metrics import mean_squared_error, r2_score\n",
    "from sklearn.model_selection import train_test_split\n",
    "\n",
    "\n",
    "plt.style.use('seaborn-whitegrid')\n",
    "plt.rcParams['figure.figsize'] = (50,30)"
   ]
  },
  {
   "cell_type": "code",
   "execution_count": 2,
   "metadata": {},
   "outputs": [],
   "source": [
    "df = pd.read_csv('students.csv','|').drop('Unnamed: 0', axis =1)"
   ]
  },
  {
   "cell_type": "code",
   "execution_count": 3,
   "metadata": {},
   "outputs": [
    {
     "data": {
      "text/html": [
       "<div>\n",
       "<style scoped>\n",
       "    .dataframe tbody tr th:only-of-type {\n",
       "        vertical-align: middle;\n",
       "    }\n",
       "\n",
       "    .dataframe tbody tr th {\n",
       "        vertical-align: top;\n",
       "    }\n",
       "\n",
       "    .dataframe thead th {\n",
       "        text-align: right;\n",
       "    }\n",
       "</style>\n",
       "<table border=\"1\" class=\"dataframe\">\n",
       "  <thead>\n",
       "    <tr style=\"text-align: right;\">\n",
       "      <th></th>\n",
       "      <th>school</th>\n",
       "      <th>sex</th>\n",
       "      <th>age</th>\n",
       "      <th>address</th>\n",
       "      <th>famsize</th>\n",
       "      <th>Pstatus</th>\n",
       "      <th>Medu</th>\n",
       "      <th>Fedu</th>\n",
       "      <th>Mjob</th>\n",
       "      <th>Fjob</th>\n",
       "      <th>...</th>\n",
       "      <th>famrel</th>\n",
       "      <th>freetime</th>\n",
       "      <th>goout</th>\n",
       "      <th>Dalc</th>\n",
       "      <th>Walc</th>\n",
       "      <th>health</th>\n",
       "      <th>absences</th>\n",
       "      <th>G1</th>\n",
       "      <th>G2</th>\n",
       "      <th>G3</th>\n",
       "    </tr>\n",
       "  </thead>\n",
       "  <tbody>\n",
       "    <tr>\n",
       "      <th>0</th>\n",
       "      <td>GP</td>\n",
       "      <td>F</td>\n",
       "      <td>nulidade</td>\n",
       "      <td>U</td>\n",
       "      <td>GT3</td>\n",
       "      <td>A</td>\n",
       "      <td>4</td>\n",
       "      <td>4</td>\n",
       "      <td>at_home</td>\n",
       "      <td>teacher</td>\n",
       "      <td>...</td>\n",
       "      <td>4</td>\n",
       "      <td>3</td>\n",
       "      <td>\"4\"</td>\n",
       "      <td>1</td>\n",
       "      <td>1</td>\n",
       "      <td>\"3\"</td>\n",
       "      <td>6</td>\n",
       "      <td>5</td>\n",
       "      <td>6</td>\n",
       "      <td>6</td>\n",
       "    </tr>\n",
       "    <tr>\n",
       "      <th>1</th>\n",
       "      <td>GP</td>\n",
       "      <td>F</td>\n",
       "      <td>\"17\"</td>\n",
       "      <td>U</td>\n",
       "      <td>GT3</td>\n",
       "      <td>T</td>\n",
       "      <td>1</td>\n",
       "      <td>1</td>\n",
       "      <td>at_home</td>\n",
       "      <td>other</td>\n",
       "      <td>...</td>\n",
       "      <td>5</td>\n",
       "      <td>3</td>\n",
       "      <td>\"3\"</td>\n",
       "      <td>1</td>\n",
       "      <td>1</td>\n",
       "      <td>\"3\"</td>\n",
       "      <td>4</td>\n",
       "      <td>5</td>\n",
       "      <td>5</td>\n",
       "      <td>6</td>\n",
       "    </tr>\n",
       "    <tr>\n",
       "      <th>2</th>\n",
       "      <td>GP</td>\n",
       "      <td>F</td>\n",
       "      <td>\"15\"</td>\n",
       "      <td>U</td>\n",
       "      <td>LE3</td>\n",
       "      <td>T</td>\n",
       "      <td>1</td>\n",
       "      <td>1</td>\n",
       "      <td>at_home</td>\n",
       "      <td>other</td>\n",
       "      <td>...</td>\n",
       "      <td>4</td>\n",
       "      <td>3</td>\n",
       "      <td>\"2\"</td>\n",
       "      <td>2</td>\n",
       "      <td>3</td>\n",
       "      <td>\"3\"</td>\n",
       "      <td>10</td>\n",
       "      <td>zero</td>\n",
       "      <td>8</td>\n",
       "      <td>10</td>\n",
       "    </tr>\n",
       "    <tr>\n",
       "      <th>3</th>\n",
       "      <td>GP</td>\n",
       "      <td>F</td>\n",
       "      <td>\"15\"</td>\n",
       "      <td>U</td>\n",
       "      <td>GT3</td>\n",
       "      <td>T</td>\n",
       "      <td>4</td>\n",
       "      <td>2</td>\n",
       "      <td>health</td>\n",
       "      <td>services</td>\n",
       "      <td>...</td>\n",
       "      <td>3</td>\n",
       "      <td>2</td>\n",
       "      <td>\"2\"</td>\n",
       "      <td>1</td>\n",
       "      <td>1</td>\n",
       "      <td>\"5\"</td>\n",
       "      <td>2</td>\n",
       "      <td>15</td>\n",
       "      <td>14</td>\n",
       "      <td>15</td>\n",
       "    </tr>\n",
       "    <tr>\n",
       "      <th>4</th>\n",
       "      <td>GP</td>\n",
       "      <td>F</td>\n",
       "      <td>sem validade</td>\n",
       "      <td>U</td>\n",
       "      <td>GT3</td>\n",
       "      <td>T</td>\n",
       "      <td>3</td>\n",
       "      <td>3</td>\n",
       "      <td>other</td>\n",
       "      <td>other</td>\n",
       "      <td>...</td>\n",
       "      <td>4</td>\n",
       "      <td>3</td>\n",
       "      <td>\"2\"</td>\n",
       "      <td>1</td>\n",
       "      <td>2</td>\n",
       "      <td>\"5\"</td>\n",
       "      <td>4</td>\n",
       "      <td>6</td>\n",
       "      <td>10</td>\n",
       "      <td>10</td>\n",
       "    </tr>\n",
       "  </tbody>\n",
       "</table>\n",
       "<p>5 rows × 33 columns</p>\n",
       "</div>"
      ],
      "text/plain": [
       "  school sex           age address famsize Pstatus Medu Fedu     Mjob  \\\n",
       "0     GP   F      nulidade       U     GT3       A    4    4  at_home   \n",
       "1     GP   F          \"17\"       U     GT3       T    1    1  at_home   \n",
       "2     GP   F          \"15\"       U     LE3       T    1    1  at_home   \n",
       "3     GP   F          \"15\"       U     GT3       T    4    2   health   \n",
       "4     GP   F  sem validade       U     GT3       T    3    3    other   \n",
       "\n",
       "       Fjob  ... famrel freetime goout Dalc Walc health absences    G1  G2  G3  \n",
       "0   teacher  ...      4        3   \"4\"    1    1    \"3\"        6     5   6   6  \n",
       "1     other  ...      5        3   \"3\"    1    1    \"3\"        4     5   5   6  \n",
       "2     other  ...      4        3   \"2\"    2    3    \"3\"       10  zero   8  10  \n",
       "3  services  ...      3        2   \"2\"    1    1    \"5\"        2    15  14  15  \n",
       "4     other  ...      4        3   \"2\"    1    2    \"5\"        4     6  10  10  \n",
       "\n",
       "[5 rows x 33 columns]"
      ]
     },
     "execution_count": 3,
     "metadata": {},
     "output_type": "execute_result"
    }
   ],
   "source": [
    "df.head()"
   ]
  },
  {
   "cell_type": "code",
   "execution_count": 4,
   "metadata": {},
   "outputs": [],
   "source": [
    "#df_filter = df.replace(['zero','nulidade','sem validade','\"17\"','\"15\"','\"16\"','\"19\"','\"18\"','\"22\"','\"20\"','\"21\"','\"3\"', '\"5\"' ,'\"1\"' ,'\"2\"','2' ,'\"4\"','yes','no','1','3','4','5','6','7','8','9','10','F','M','0','16','14','25','12','54','18','26','20','56','24','28','13','15','22','21','11','17','19','75','30','38','40','23'],[np.nan,np.nan,np.nan,17,15,16,19,18,22,20,21,3,5,1,2,2,4,1,0,1,3,4,5,6,7,8,9,10,1,0,0,16,14,25,12,54,18,26,20,56,24,28,13,15,22,21,11,17,19,75,30,38,40,23])\n",
    "df_filter = df.replace(['zero','nulidade','sem validade'],np.nan)\n",
    "df_filter['age'] = df_filter['age'].str.replace(r'[\"]', '').astype('float')\n",
    "df_filter['Medu'] = df_filter['Medu'].str.replace(r'[\"]', '').astype('float')\n",
    "df_filter['Fedu'] = df_filter['Fedu'].str.replace(r'[\"]', '').astype('float')\n",
    "df_filter['traveltime'] = df_filter['traveltime'].str.replace(r'[\"]', '').astype('float')\n",
    "df_filter['studytime'] = df_filter['studytime'].str.replace(r'[\"]', '').astype('float')\n",
    "df_filter['failures'] = df_filter['failures'].str.replace(r'[\"]', '').astype('float')\n",
    "df_filter['famrel'] = df_filter['famrel'].str.replace(r'[\"]', '').astype('float')\n",
    "df_filter['freetime'] = df_filter['freetime'].str.replace(r'[\"]', '').astype('float')\n",
    "df_filter['goout'] = df_filter['goout'].str.replace(r'[\"]', '').astype('float')\n",
    "df_filter['Dalc'] = df_filter['Dalc'].str.replace(r'[\"]', '').astype('float')\n",
    "df_filter['Walc'] = df_filter['Walc'].str.replace(r'[\"]', '').astype('float')\n",
    "df_filter['health'] = df_filter['health'].str.replace(r'[\"]', '').astype('float')\n",
    "df_filter['absences'] = df_filter['absences'].str.replace(r'[\"]', '').astype('float')\n",
    "df_filter['G1'] = df_filter['G1'].str.replace(r'[\"]', '').astype('float')\n",
    "df_filter = df_filter.replace(['yes','no','F','M'],[1,0,0,1])"
   ]
  },
  {
   "cell_type": "code",
   "execution_count": 5,
   "metadata": {},
   "outputs": [],
   "source": [
    "df_filter = df_filter.replace(['GP','U','GT3','A'],1)\n",
    "df_filter = df_filter.replace(['MS','R','LE3','T'],0)"
   ]
  },
  {
   "cell_type": "code",
   "execution_count": 6,
   "metadata": {},
   "outputs": [],
   "source": [
    "df_filter['Mjob'] = df_filter['Mjob'].replace(['at_home' ,'health', 'other' ,'services','teacher'],[1,2,3,4,5])"
   ]
  },
  {
   "cell_type": "code",
   "execution_count": 7,
   "metadata": {},
   "outputs": [],
   "source": [
    "df_filter['Fjob'] = df_filter['Fjob'].replace(['teacher' ,'other' ,'services' ,'health' ,'at_home'],[1,2,3,4,5])\n",
    "df_filter['reason'] = df_filter['reason'].replace(['course' ,'other' ,'home' ,'reputation'],[1,2,3,4])\n",
    "df_filter['guardian'] = df_filter['guardian'].replace(['mother', 'father' ,'other'],[1,2,3])"
   ]
  },
  {
   "cell_type": "code",
   "execution_count": 8,
   "metadata": {},
   "outputs": [],
   "source": [
    "df_filter.G2 = df_filter.G2.astype(float)\n",
    "df_filter.G3 = df_filter.G3.astype(float)\n",
    "df_filter.Fjob = df_filter.Fjob.astype(float)\n",
    "df_filter = df_filter.replace(np.nan,-1)"
   ]
  },
  {
   "cell_type": "code",
   "execution_count": 9,
   "metadata": {},
   "outputs": [],
   "source": [
    "df_filter = df_filter.astype(int)"
   ]
  },
  {
   "cell_type": "code",
   "execution_count": 10,
   "metadata": {},
   "outputs": [],
   "source": [
    "df_filter = df_filter.replace(-1,np.nan)"
   ]
  },
  {
   "cell_type": "code",
   "execution_count": 11,
   "metadata": {},
   "outputs": [],
   "source": [
    "df_filter.dropna(how='any', inplace=True)"
   ]
  },
  {
   "cell_type": "markdown",
   "metadata": {},
   "source": [
    "# La preparación del ambiente de trabajo (imports, separación de muestras) para implementar modelos de predicción"
   ]
  },
  {
   "cell_type": "code",
   "execution_count": 12,
   "metadata": {},
   "outputs": [],
   "source": [
    "#modelo_g1fix = smf.ols('G1 ~ failures+schoolsup+famsup+goout+studytime',df_filter).fit()\n",
    "#modelo_g2fix = smf.ols('G2 ~ failures+goout+health+schoolsup+famsup+address',df_filter).fit()\n",
    "#modelo_g3fix = smf.ols('G3 ~ failures+goout+Walc+freetime',df_filter).fit()"
   ]
  },
  {
   "cell_type": "code",
   "execution_count": 13,
   "metadata": {},
   "outputs": [],
   "source": [
    "y_g1 = df_filter['G3']\n",
    "params_g1 = ['failures','schoolsup','famsup','goout','studytime']\n",
    "X_g1 = df_filter.loc[:,params_g1]\n",
    "X_train_g1, X_test_g1 , y_train_g1 , y_test_g1 = train_test_split(X_g1 ,y_g1,test_size=.20 , random_state=3322)"
   ]
  },
  {
   "cell_type": "code",
   "execution_count": 14,
   "metadata": {
    "scrolled": false
   },
   "outputs": [],
   "source": [
    "g1_model = LinearRegression(fit_intercept=True,normalize=True).fit(X_train_g1,y_train_g1).predict(X_test_g1)"
   ]
  },
  {
   "cell_type": "code",
   "execution_count": 15,
   "metadata": {},
   "outputs": [],
   "source": [
    "#Predecire con los regresores seleccionados para G1, asi ver la verosimilitud de los intervalos de confianza"
   ]
  },
  {
   "cell_type": "code",
   "execution_count": 16,
   "metadata": {},
   "outputs": [],
   "source": [
    "y_g2 = df_filter['G3']\n",
    "params_g2 = ['failures','goout','health','schoolsup','famsup','address']\n",
    "X_g2 = df_filter.loc[:,params_g2]\n",
    "X_train_g2, X_test_g2 , y_train_g2 , y_test_g2 = train_test_split(X_g2 ,y_g2,test_size=.20 , random_state=3322)"
   ]
  },
  {
   "cell_type": "code",
   "execution_count": 17,
   "metadata": {
    "scrolled": true
   },
   "outputs": [],
   "source": [
    "g2_model = LinearRegression(fit_intercept=True,normalize=True).fit(X_train_g2,y_train_g2).predict(X_test_g2)"
   ]
  },
  {
   "cell_type": "code",
   "execution_count": 18,
   "metadata": {
    "scrolled": true
   },
   "outputs": [],
   "source": [
    "#Predecire con los regresores seleccionados para G2, asi ver la verosimilitud de los intervalos de confianza"
   ]
  },
  {
   "cell_type": "code",
   "execution_count": 19,
   "metadata": {},
   "outputs": [],
   "source": [
    "y_g3 = df_filter['G3']\n",
    "params_g3 = ['failures','goout','Walc','freetime']\n",
    "X_g3 = df_filter.loc[:,params_g3]\n",
    "X_train_g3, X_test_g3 , y_train_g3 , y_test_g3 = train_test_split(X_g3,y_g3,test_size=.20 , random_state=3322)"
   ]
  },
  {
   "cell_type": "code",
   "execution_count": 20,
   "metadata": {},
   "outputs": [],
   "source": [
    "g3_model = LinearRegression(fit_intercept=True,normalize=True).fit(X_train_g3,y_train_g3).predict(X_test_g3)"
   ]
  },
  {
   "cell_type": "markdown",
   "metadata": {},
   "source": [
    "Obteniendo metricas de G3"
   ]
  },
  {
   "cell_type": "code",
   "execution_count": 21,
   "metadata": {
    "scrolled": true
   },
   "outputs": [
    {
     "name": "stdout",
     "output_type": "stream",
     "text": [
      "17.6 -0.0\n"
     ]
    }
   ],
   "source": [
    "report_scores(y_test_g1,g1_model)"
   ]
  },
  {
   "cell_type": "code",
   "execution_count": 22,
   "metadata": {
    "scrolled": true
   },
   "outputs": [
    {
     "name": "stdout",
     "output_type": "stream",
     "text": [
      "17.3 -0.0\n"
     ]
    }
   ],
   "source": [
    "report_scores(y_test_g2,g2_model)"
   ]
  },
  {
   "cell_type": "code",
   "execution_count": 23,
   "metadata": {},
   "outputs": [
    {
     "name": "stdout",
     "output_type": "stream",
     "text": [
      "18.2 -0.1\n"
     ]
    }
   ],
   "source": [
    "report_scores(y_test_g3,g3_model)"
   ]
  },
  {
   "cell_type": "markdown",
   "metadata": {},
   "source": [
    "el modelo G3 con sus propios regresores tiene un mejor Error Cuadratico"
   ]
  },
  {
   "cell_type": "code",
   "execution_count": 25,
   "metadata": {},
   "outputs": [
    {
     "data": {
      "text/html": [
       "<div>\n",
       "<style scoped>\n",
       "    .dataframe tbody tr th:only-of-type {\n",
       "        vertical-align: middle;\n",
       "    }\n",
       "\n",
       "    .dataframe tbody tr th {\n",
       "        vertical-align: top;\n",
       "    }\n",
       "\n",
       "    .dataframe thead th {\n",
       "        text-align: right;\n",
       "    }\n",
       "</style>\n",
       "<table border=\"1\" class=\"dataframe\">\n",
       "  <thead>\n",
       "    <tr style=\"text-align: right;\">\n",
       "      <th></th>\n",
       "      <th>corr</th>\n",
       "      <th>abs_corr</th>\n",
       "    </tr>\n",
       "    <tr>\n",
       "      <th>attribute</th>\n",
       "      <th></th>\n",
       "      <th></th>\n",
       "    </tr>\n",
       "  </thead>\n",
       "  <tbody>\n",
       "    <tr>\n",
       "      <th>G2</th>\n",
       "      <td>0.902984</td>\n",
       "      <td>0.902984</td>\n",
       "    </tr>\n",
       "    <tr>\n",
       "      <th>G1</th>\n",
       "      <td>0.803384</td>\n",
       "      <td>0.803384</td>\n",
       "    </tr>\n",
       "    <tr>\n",
       "      <th>failures</th>\n",
       "      <td>-0.345628</td>\n",
       "      <td>0.345628</td>\n",
       "    </tr>\n",
       "    <tr>\n",
       "      <th>goout</th>\n",
       "      <td>-0.221752</td>\n",
       "      <td>0.221752</td>\n",
       "    </tr>\n",
       "    <tr>\n",
       "      <th>Medu</th>\n",
       "      <td>0.180326</td>\n",
       "      <td>0.180326</td>\n",
       "    </tr>\n",
       "    <tr>\n",
       "      <th>higher</th>\n",
       "      <td>0.162044</td>\n",
       "      <td>0.162044</td>\n",
       "    </tr>\n",
       "    <tr>\n",
       "      <th>age</th>\n",
       "      <td>-0.132134</td>\n",
       "      <td>0.132134</td>\n",
       "    </tr>\n",
       "    <tr>\n",
       "      <th>reason</th>\n",
       "      <td>0.126877</td>\n",
       "      <td>0.126877</td>\n",
       "    </tr>\n",
       "    <tr>\n",
       "      <th>address</th>\n",
       "      <td>0.119397</td>\n",
       "      <td>0.119397</td>\n",
       "    </tr>\n",
       "    <tr>\n",
       "      <th>health</th>\n",
       "      <td>-0.116279</td>\n",
       "      <td>0.116279</td>\n",
       "    </tr>\n",
       "    <tr>\n",
       "      <th>romantic</th>\n",
       "      <td>-0.115377</td>\n",
       "      <td>0.115377</td>\n",
       "    </tr>\n",
       "    <tr>\n",
       "      <th>Fedu</th>\n",
       "      <td>0.106139</td>\n",
       "      <td>0.106139</td>\n",
       "    </tr>\n",
       "    <tr>\n",
       "      <th>sex</th>\n",
       "      <td>0.101995</td>\n",
       "      <td>0.101995</td>\n",
       "    </tr>\n",
       "    <tr>\n",
       "      <th>traveltime</th>\n",
       "      <td>-0.091532</td>\n",
       "      <td>0.091532</td>\n",
       "    </tr>\n",
       "    <tr>\n",
       "      <th>schoolsup</th>\n",
       "      <td>-0.090738</td>\n",
       "      <td>0.090738</td>\n",
       "    </tr>\n",
       "    <tr>\n",
       "      <th>paid</th>\n",
       "      <td>0.090671</td>\n",
       "      <td>0.090671</td>\n",
       "    </tr>\n",
       "    <tr>\n",
       "      <th>Mjob</th>\n",
       "      <td>0.079663</td>\n",
       "      <td>0.079663</td>\n",
       "    </tr>\n",
       "    <tr>\n",
       "      <th>internet</th>\n",
       "      <td>0.077137</td>\n",
       "      <td>0.077137</td>\n",
       "    </tr>\n",
       "    <tr>\n",
       "      <th>guardian</th>\n",
       "      <td>-0.074797</td>\n",
       "      <td>0.074797</td>\n",
       "    </tr>\n",
       "    <tr>\n",
       "      <th>famsize</th>\n",
       "      <td>-0.074342</td>\n",
       "      <td>0.074342</td>\n",
       "    </tr>\n",
       "    <tr>\n",
       "      <th>famrel</th>\n",
       "      <td>0.069963</td>\n",
       "      <td>0.069963</td>\n",
       "    </tr>\n",
       "    <tr>\n",
       "      <th>studytime</th>\n",
       "      <td>0.066506</td>\n",
       "      <td>0.066506</td>\n",
       "    </tr>\n",
       "    <tr>\n",
       "      <th>Pstatus</th>\n",
       "      <td>0.061506</td>\n",
       "      <td>0.061506</td>\n",
       "    </tr>\n",
       "    <tr>\n",
       "      <th>famsup</th>\n",
       "      <td>-0.056488</td>\n",
       "      <td>0.056488</td>\n",
       "    </tr>\n",
       "    <tr>\n",
       "      <th>Dalc</th>\n",
       "      <td>-0.052820</td>\n",
       "      <td>0.052820</td>\n",
       "    </tr>\n",
       "    <tr>\n",
       "      <th>nursery</th>\n",
       "      <td>0.050897</td>\n",
       "      <td>0.050897</td>\n",
       "    </tr>\n",
       "    <tr>\n",
       "      <th>activities</th>\n",
       "      <td>-0.043867</td>\n",
       "      <td>0.043867</td>\n",
       "    </tr>\n",
       "    <tr>\n",
       "      <th>freetime</th>\n",
       "      <td>0.037968</td>\n",
       "      <td>0.037968</td>\n",
       "    </tr>\n",
       "    <tr>\n",
       "      <th>Walc</th>\n",
       "      <td>-0.033601</td>\n",
       "      <td>0.033601</td>\n",
       "    </tr>\n",
       "    <tr>\n",
       "      <th>absences</th>\n",
       "      <td>0.013487</td>\n",
       "      <td>0.013487</td>\n",
       "    </tr>\n",
       "    <tr>\n",
       "      <th>school</th>\n",
       "      <td>-0.007823</td>\n",
       "      <td>0.007823</td>\n",
       "    </tr>\n",
       "    <tr>\n",
       "      <th>Fjob</th>\n",
       "      <td>0.004994</td>\n",
       "      <td>0.004994</td>\n",
       "    </tr>\n",
       "  </tbody>\n",
       "</table>\n",
       "</div>"
      ],
      "text/plain": [
       "                corr  abs_corr\n",
       "attribute                     \n",
       "G2          0.902984  0.902984\n",
       "G1          0.803384  0.803384\n",
       "failures   -0.345628  0.345628\n",
       "goout      -0.221752  0.221752\n",
       "Medu        0.180326  0.180326\n",
       "higher      0.162044  0.162044\n",
       "age        -0.132134  0.132134\n",
       "reason      0.126877  0.126877\n",
       "address     0.119397  0.119397\n",
       "health     -0.116279  0.116279\n",
       "romantic   -0.115377  0.115377\n",
       "Fedu        0.106139  0.106139\n",
       "sex         0.101995  0.101995\n",
       "traveltime -0.091532  0.091532\n",
       "schoolsup  -0.090738  0.090738\n",
       "paid        0.090671  0.090671\n",
       "Mjob        0.079663  0.079663\n",
       "internet    0.077137  0.077137\n",
       "guardian   -0.074797  0.074797\n",
       "famsize    -0.074342  0.074342\n",
       "famrel      0.069963  0.069963\n",
       "studytime   0.066506  0.066506\n",
       "Pstatus     0.061506  0.061506\n",
       "famsup     -0.056488  0.056488\n",
       "Dalc       -0.052820  0.052820\n",
       "nursery     0.050897  0.050897\n",
       "activities -0.043867  0.043867\n",
       "freetime    0.037968  0.037968\n",
       "Walc       -0.033601  0.033601\n",
       "absences    0.013487  0.013487\n",
       "school     -0.007823  0.007823\n",
       "Fjob        0.004994  0.004994"
      ]
     },
     "execution_count": 25,
     "metadata": {},
     "output_type": "execute_result"
    }
   ],
   "source": [
    "fetch_features(df_filter,'G3')"
   ]
  },
  {
   "cell_type": "code",
   "execution_count": 32,
   "metadata": {},
   "outputs": [],
   "source": [
    "y_g4 = df_filter['G3']\n",
    "params_g4 = ['G1','G2']\n",
    "X_g4 = df_filter.loc[:,params_g4]\n",
    "X_train_g4, X_test_g4 , y_train_g4 , y_test_g4 = train_test_split(X_g4,y_g4,test_size=.20 , random_state=3322)"
   ]
  },
  {
   "cell_type": "code",
   "execution_count": 33,
   "metadata": {},
   "outputs": [],
   "source": [
    "g4_model = LinearRegression(fit_intercept=True,normalize=True).fit(X_train_g4,y_train_g4).predict(X_test_g4)"
   ]
  },
  {
   "cell_type": "code",
   "execution_count": 34,
   "metadata": {},
   "outputs": [
    {
     "name": "stdout",
     "output_type": "stream",
     "text": [
      "4.0 0.8\n"
     ]
    }
   ],
   "source": [
    "report_scores(y_test_g4,g4_model)"
   ]
  },
  {
   "cell_type": "markdown",
   "metadata": {},
   "source": [
    "No permite inferir mucho los resultados del 1 semestre y el 2 semestre para saber las notas finales"
   ]
  },
  {
   "cell_type": "markdown",
   "metadata": {},
   "source": [
    "# El reporte del mejor modelo predictivo en base a los resultados. "
   ]
  },
  {
   "cell_type": "markdown",
   "metadata": {},
   "source": [
    "El haber analizado los p valores a una confianza del `95%` nos entrego uno de los mejores FIT en la inferencia de notas finales del distintos alumnos, y en caso contrario solo predecir las notas del G1 y G2 para tener una respuesta del G3 fue totalmente innecesario, se evaluo por el metodo de error medio cruadratico, de todas formas, como estudio predictivo deja un tanto de insatisfaccion los resultados obtenidos, es posible que la informacion restante nos privara de puntos de vista valiosos."
   ]
  },
  {
   "cell_type": "code",
   "execution_count": null,
   "metadata": {},
   "outputs": [],
   "source": []
  },
  {
   "cell_type": "code",
   "execution_count": null,
   "metadata": {},
   "outputs": [],
   "source": []
  },
  {
   "cell_type": "code",
   "execution_count": null,
   "metadata": {},
   "outputs": [],
   "source": []
  },
  {
   "cell_type": "code",
   "execution_count": null,
   "metadata": {},
   "outputs": [],
   "source": []
  },
  {
   "cell_type": "code",
   "execution_count": null,
   "metadata": {},
   "outputs": [],
   "source": []
  },
  {
   "cell_type": "code",
   "execution_count": null,
   "metadata": {},
   "outputs": [],
   "source": []
  },
  {
   "cell_type": "code",
   "execution_count": null,
   "metadata": {},
   "outputs": [],
   "source": []
  }
 ],
 "metadata": {
  "kernelspec": {
   "display_name": "Python 3",
   "language": "python",
   "name": "python3"
  },
  "language_info": {
   "codemirror_mode": {
    "name": "ipython",
    "version": 3
   },
   "file_extension": ".py",
   "mimetype": "text/x-python",
   "name": "python",
   "nbconvert_exporter": "python",
   "pygments_lexer": "ipython3",
   "version": "3.7.3"
  }
 },
 "nbformat": 4,
 "nbformat_minor": 2
}
