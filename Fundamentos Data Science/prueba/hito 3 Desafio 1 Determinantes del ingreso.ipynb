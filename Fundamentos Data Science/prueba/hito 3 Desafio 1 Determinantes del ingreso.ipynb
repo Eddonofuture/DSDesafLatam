{
 "cells": [
  {
   "cell_type": "code",
   "execution_count": 1,
   "metadata": {},
   "outputs": [],
   "source": [
    "import warnings\n",
    "warnings.filterwarnings('ignore')\n",
    "#Librerias para filtrar warnings\n",
    "import pandas as pd\n",
    "import numpy as np\n",
    "#Libreria de analisis numerico\n",
    "import matplotlib.pyplot as plt\n",
    "import seaborn as sns\n",
    "plt.style.use('seaborn')\n",
    "plt.rcParams['figure.figsize'] = (10, 6)\n",
    "#librerias de graficos\n",
    "from scipy import stats\n",
    "#Librerias estadisticas\n",
    "import statsmodels.api as sm\n",
    "import statsmodels.formula.api as smf\n",
    "#librerias de estadsitica aplicada\n",
    "\n",
    "from sklearn.linear_model import LogisticRegression\n",
    "from sklearn.model_selection import train_test_split\n",
    "from sklearn.preprocessing import StandardScaler\n",
    "from sklearn.metrics import confusion_matrix\n",
    "from sklearn.metrics import accuracy_score\n",
    "from sklearn.metrics import precision_score\n",
    "from sklearn.metrics import recall_score\n",
    "from sklearn.metrics import f1_score\n",
    "from sklearn.metrics import classification_report\n",
    "from sklearn.metrics import roc_curve\n",
    "from sklearn.metrics import roc_auc_score\n",
    "from sklearn.model_selection import cross_val_score\n",
    "from sklearn.model_selection import LeaveOneOut\n",
    "from sklearn.preprocessing import PolynomialFeatures\n",
    "#Librerias espeficias para regresion logistica, su validadion, presicion y evaluar su eficacia.\n",
    "#Pueden faltar librerias para temas mas especificos y al a vez librerias util que permitan funciones adicionales\n",
    "from functions import printUniques , replaceAll , concise_summary,logitCalculate"
   ]
  },
  {
   "cell_type": "code",
   "execution_count": 2,
   "metadata": {},
   "outputs": [],
   "source": [
    "df = pd.read_csv('income-db.csv')\n",
    "df_filter = df"
   ]
  },
  {
   "cell_type": "code",
   "execution_count": 3,
   "metadata": {},
   "outputs": [],
   "source": [
    "df_filter = replaceAll(df_filter,'?',np.nan)\n",
    "df_filter = replaceAll(df_filter,['Exec-managerial','Prof-specialty','Adm-clerical','Sales','Tech-support'],'white_collar')\n",
    "df_filter = replaceAll(df_filter,['Craft-repair','Machine-op-inspct','Transport-moving','Handlers-cleaners','Farming-fishing','Protective-serv','Priv-house-serv'],'blue_collar')\n",
    "df_filter = replaceAll(df_filter,['Other-service','Armed-Forces'],'others')\n",
    "df_filter = replaceAll(df_filter,['Federal-gov'],'federal_gov')\n",
    "df_filter = replaceAll(df_filter,['State-gov','Local-gov'],'state_level_gov' )\n",
    "df_filter = replaceAll(df_filter,['Self-emp-inc','Self-emp-not-inc'],'self_employ' )\n",
    "df_filter = replaceAll(df_filter,['Never-worked','Without-pay'],'unemployed' )\n",
    "df_filter = replaceAll(df_filter,['Preschool'],'preschool')\n",
    "df_filter = replaceAll(df_filter,['1st-4th','5th-6th'],'elementary_school')\n",
    "df_filter = replaceAll(df_filter,['7th-8th','9th','10th','11th','12th','HS-grad'],'high_school')\n",
    "df_filter = replaceAll(df_filter,['Assoc-voc','Assoc-acdm','Some-college'],'college')\n",
    "df_filter = replaceAll(df_filter,['Bachelors','Masters','Prof-school','Doctorate'],'university')\n",
    "df_filter = replaceAll(df_filter,['Married-civ-spouse','Married-spouse-absent','Married-AF- spouse'],'married')\n",
    "df_filter = replaceAll(df_filter,['Divorced'],'divorced')\n",
    "df_filter = replaceAll(df_filter,['Separated'],'separated')\n",
    "df_filter = replaceAll(df_filter,['Widowed'],'widowed')\n",
    "df_filter = replaceAll(df_filter,['United-States','Mexico','Puerto-Rico','Canada','El-Salvador','Cuba','Jamaica','Dominican-Republic','Guatemala','Columbia','Haiti','Nicaragua','Peru','Ecuador','Trinadad&Tobago','Outlying-US(Guam-USVI-etc)','Honduras'],'America')\n",
    "df_filter = replaceAll(df_filter,['England','Portugal','Italy','Germany','Poland','Greece','Ireland','France','Scotland','Yugoslavia','Hungary','Holand-Netherlands'],'Europe')\n",
    "df_filter = replaceAll(df_filter,['Philippines','India','China','Japan','South','Vietnam','Iran','Taiwan','Thailand','Hong','Cambodia','Laos'],'Asia')\n",
    "df_filter = replaceAll(df_filter,['<=50K','>50K'], [0,1])\n",
    "df_filter = replaceAll(df_filter,'-','_')\n"
   ]
  },
  {
   "cell_type": "code",
   "execution_count": 4,
   "metadata": {},
   "outputs": [],
   "source": [
    "df_filter['collars'] = df_filter['occupation']\n",
    "df_filter = df_filter.drop('occupation', axis=1)\n",
    "df_filter['workclass_recod'] = df_filter['workclass']\n",
    "df_filter = df_filter.drop('workclass', axis=1)\n",
    "df_filter['education_recod'] = df_filter['education']\n",
    "df_filter = df_filter.drop('education', axis=1)\n",
    "df_filter['civstatus'] = df_filter['marital-status']\n",
    "df_filter = df_filter.drop('marital-status', axis=1)"
   ]
  },
  {
   "cell_type": "code",
   "execution_count": 5,
   "metadata": {},
   "outputs": [],
   "source": [
    "df_dummy = pd.get_dummies(df_filter)"
   ]
  },
  {
   "cell_type": "code",
   "execution_count": 6,
   "metadata": {},
   "outputs": [],
   "source": [
    "df_dummy = df_dummy.rename(index=str, columns={'capital-gain':'capital_gain',\n",
    "                                               'capital-loss':'capital_loss',\n",
    "                                               'educational-num':'educational_num',\n",
    "                                               'hours-per-week':'hours_per_week',\n",
    "                                               'relationship_Not-in-family':'relationship_Not_in_family',\n",
    "                                              'relationship_Other-relative':'relationship_Other_relative',\n",
    "                                              'relationship_Own-child':'relationship_Own_child',\n",
    "                                              'race_Amer-Indian-Eskimo':'race_Amer_Indian_Eskimo',\n",
    "                                              'race_Asian-Pac-Islander':'race_Asian_Pac_Islander',\n",
    "                                              'native-country_America':'native_country_America',\n",
    "                                              'native-country_Asia':'native_country_Asia',\n",
    "                                              'native-country_Europe':'native_country_Europe',\n",
    "                                              'civstatus_Married-AF-spouse':'civstatus_Married_AF_spouse',\n",
    "                                              'civstatus_Never-married':'civstatus_Never_married'})"
   ]
  },
  {
   "cell_type": "code",
   "execution_count": 7,
   "metadata": {},
   "outputs": [
    {
     "data": {
      "text/plain": [
       "array(['age', 'fnlwgt', 'educational_num', 'capital_gain', 'capital_loss',\n",
       "       'hours_per_week', 'income', 'relationship_Husband',\n",
       "       'relationship_Not_in_family', 'relationship_Other_relative',\n",
       "       'relationship_Own_child', 'relationship_Unmarried',\n",
       "       'relationship_Wife', 'race_Amer_Indian_Eskimo',\n",
       "       'race_Asian_Pac_Islander', 'race_Black', 'race_Other',\n",
       "       'race_White', 'gender_Female', 'gender_Male',\n",
       "       'native_country_America', 'native_country_Asia',\n",
       "       'native_country_Europe', 'collars_blue_collar', 'collars_others',\n",
       "       'collars_white_collar', 'workclass_recod_Private',\n",
       "       'workclass_recod_federal_gov', 'workclass_recod_self_employ',\n",
       "       'workclass_recod_state_level_gov', 'workclass_recod_unemployed',\n",
       "       'education_recod_college', 'education_recod_elementary_school',\n",
       "       'education_recod_high_school', 'education_recod_preschool',\n",
       "       'education_recod_university', 'civstatus_Married_AF_spouse',\n",
       "       'civstatus_Never_married', 'civstatus_divorced',\n",
       "       'civstatus_married', 'civstatus_separated', 'civstatus_widowed'],\n",
       "      dtype=object)"
      ]
     },
     "execution_count": 7,
     "metadata": {},
     "output_type": "execute_result"
    }
   ],
   "source": [
    "df_dummy.columns.values"
   ]
  },
  {
   "cell_type": "markdown",
   "metadata": {},
   "source": [
    "# La modelación mediante regresión de ambos problemas. "
   ]
  },
  {
   "cell_type": "code",
   "execution_count": 8,
   "metadata": {},
   "outputs": [],
   "source": [
    "df_dummy.dropna(how='any' , inplace=True)"
   ]
  },
  {
   "cell_type": "code",
   "execution_count": 9,
   "metadata": {
    "scrolled": true
   },
   "outputs": [
    {
     "name": "stdout",
     "output_type": "stream",
     "text": [
      "Optimization terminated successfully.\n",
      "         Current function value: 0.323623\n",
      "         Iterations 11\n"
     ]
    },
    {
     "data": {
      "text/html": [
       "<table class=\"simpletable\">\n",
       "<caption>Logit Regression Results</caption>\n",
       "<tr>\n",
       "  <th>Dep. Variable:</th>      <td>income</td>      <th>  No. Observations:  </th>  <td> 48842</td> \n",
       "</tr>\n",
       "<tr>\n",
       "  <th>Model:</th>               <td>Logit</td>      <th>  Df Residuals:      </th>  <td> 48808</td> \n",
       "</tr>\n",
       "<tr>\n",
       "  <th>Method:</th>               <td>MLE</td>       <th>  Df Model:          </th>  <td>    33</td> \n",
       "</tr>\n",
       "<tr>\n",
       "  <th>Date:</th>          <td>Wed, 10 Jul 2019</td> <th>  Pseudo R-squ.:     </th>  <td>0.4119</td> \n",
       "</tr>\n",
       "<tr>\n",
       "  <th>Time:</th>              <td>22:26:31</td>     <th>  Log-Likelihood:    </th> <td> -15806.</td>\n",
       "</tr>\n",
       "<tr>\n",
       "  <th>converged:</th>           <td>True</td>       <th>  LL-Null:           </th> <td> -26875.</td>\n",
       "</tr>\n",
       "<tr>\n",
       "  <th> </th>                      <td> </td>        <th>  LLR p-value:       </th>  <td> 0.000</td> \n",
       "</tr>\n",
       "</table>\n",
       "<table class=\"simpletable\">\n",
       "<tr>\n",
       "                  <td></td>                     <th>coef</th>     <th>std err</th>      <th>z</th>      <th>P>|z|</th>  <th>[0.025</th>    <th>0.975]</th>  \n",
       "</tr>\n",
       "<tr>\n",
       "  <th>Intercept</th>                         <td>  -13.6900</td> <td>    3.933</td> <td>   -3.481</td> <td> 0.000</td> <td>  -21.398</td> <td>   -5.982</td>\n",
       "</tr>\n",
       "<tr>\n",
       "  <th>age</th>                               <td>    0.0252</td> <td>    0.001</td> <td>   19.321</td> <td> 0.000</td> <td>    0.023</td> <td>    0.028</td>\n",
       "</tr>\n",
       "<tr>\n",
       "  <th>fnlwgt</th>                            <td> 7.276e-07</td> <td> 1.37e-07</td> <td>    5.325</td> <td> 0.000</td> <td>  4.6e-07</td> <td> 9.95e-07</td>\n",
       "</tr>\n",
       "<tr>\n",
       "  <th>educational_num</th>                   <td>    0.2749</td> <td>    0.015</td> <td>   17.787</td> <td> 0.000</td> <td>    0.245</td> <td>    0.305</td>\n",
       "</tr>\n",
       "<tr>\n",
       "  <th>capital_gain</th>                      <td>    0.0003</td> <td> 8.35e-06</td> <td>   37.973</td> <td> 0.000</td> <td>    0.000</td> <td>    0.000</td>\n",
       "</tr>\n",
       "<tr>\n",
       "  <th>capital_loss</th>                      <td>    0.0007</td> <td> 2.98e-05</td> <td>   21.968</td> <td> 0.000</td> <td>    0.001</td> <td>    0.001</td>\n",
       "</tr>\n",
       "<tr>\n",
       "  <th>hours_per_week</th>                    <td>    0.0294</td> <td>    0.001</td> <td>   23.337</td> <td> 0.000</td> <td>    0.027</td> <td>    0.032</td>\n",
       "</tr>\n",
       "<tr>\n",
       "  <th>relationship_Husband</th>              <td>    0.9638</td> <td>    0.128</td> <td>    7.512</td> <td> 0.000</td> <td>    0.712</td> <td>    1.215</td>\n",
       "</tr>\n",
       "<tr>\n",
       "  <th>relationship_Other_relative</th>       <td>   -0.5294</td> <td>    0.172</td> <td>   -3.083</td> <td> 0.002</td> <td>   -0.866</td> <td>   -0.193</td>\n",
       "</tr>\n",
       "<tr>\n",
       "  <th>relationship_Own_child</th>            <td>   -0.9791</td> <td>    0.114</td> <td>   -8.586</td> <td> 0.000</td> <td>   -1.203</td> <td>   -0.756</td>\n",
       "</tr>\n",
       "<tr>\n",
       "  <th>relationship_Unmarried</th>            <td>   -0.2430</td> <td>    0.082</td> <td>   -2.961</td> <td> 0.003</td> <td>   -0.404</td> <td>   -0.082</td>\n",
       "</tr>\n",
       "<tr>\n",
       "  <th>relationship_Wife</th>                 <td>    2.0327</td> <td>    0.142</td> <td>   14.324</td> <td> 0.000</td> <td>    1.755</td> <td>    2.311</td>\n",
       "</tr>\n",
       "<tr>\n",
       "  <th>race_Amer_Indian_Eskimo</th>           <td>   -0.2227</td> <td>    0.261</td> <td>   -0.852</td> <td> 0.394</td> <td>   -0.735</td> <td>    0.290</td>\n",
       "</tr>\n",
       "<tr>\n",
       "  <th>race_Asian_Pac_Islander</th>           <td>    0.3632</td> <td>    0.216</td> <td>    1.682</td> <td> 0.093</td> <td>   -0.060</td> <td>    0.786</td>\n",
       "</tr>\n",
       "<tr>\n",
       "  <th>race_Black</th>                        <td>    0.0191</td> <td>    0.203</td> <td>    0.094</td> <td> 0.925</td> <td>   -0.378</td> <td>    0.416</td>\n",
       "</tr>\n",
       "<tr>\n",
       "  <th>race_White</th>                        <td>    0.2804</td> <td>    0.195</td> <td>    1.440</td> <td> 0.150</td> <td>   -0.101</td> <td>    0.662</td>\n",
       "</tr>\n",
       "<tr>\n",
       "  <th>gender_Male</th>                       <td>    0.7708</td> <td>    0.063</td> <td>   12.249</td> <td> 0.000</td> <td>    0.647</td> <td>    0.894</td>\n",
       "</tr>\n",
       "<tr>\n",
       "  <th>native_country_America</th>            <td>    0.2740</td> <td>    0.094</td> <td>    2.923</td> <td> 0.003</td> <td>    0.090</td> <td>    0.458</td>\n",
       "</tr>\n",
       "<tr>\n",
       "  <th>native_country_Europe</th>             <td>    0.4754</td> <td>    0.139</td> <td>    3.426</td> <td> 0.001</td> <td>    0.203</td> <td>    0.747</td>\n",
       "</tr>\n",
       "<tr>\n",
       "  <th>collars_blue_collar</th>               <td>    0.7102</td> <td>    0.084</td> <td>    8.429</td> <td> 0.000</td> <td>    0.545</td> <td>    0.875</td>\n",
       "</tr>\n",
       "<tr>\n",
       "  <th>collars_white_collar</th>              <td>    1.3075</td> <td>    0.083</td> <td>   15.739</td> <td> 0.000</td> <td>    1.145</td> <td>    1.470</td>\n",
       "</tr>\n",
       "<tr>\n",
       "  <th>workclass_recod_Private</th>           <td>   -0.0995</td> <td>    0.114</td> <td>   -0.871</td> <td> 0.384</td> <td>   -0.324</td> <td>    0.125</td>\n",
       "</tr>\n",
       "<tr>\n",
       "  <th>workclass_recod_federal_gov</th>       <td>    0.3549</td> <td>    0.134</td> <td>    2.644</td> <td> 0.008</td> <td>    0.092</td> <td>    0.618</td>\n",
       "</tr>\n",
       "<tr>\n",
       "  <th>workclass_recod_self_employ</th>       <td>   -0.4370</td> <td>    0.119</td> <td>   -3.677</td> <td> 0.000</td> <td>   -0.670</td> <td>   -0.204</td>\n",
       "</tr>\n",
       "<tr>\n",
       "  <th>workclass_recod_state_level_gov</th>   <td>   -0.1740</td> <td>    0.120</td> <td>   -1.453</td> <td> 0.146</td> <td>   -0.409</td> <td>    0.061</td>\n",
       "</tr>\n",
       "<tr>\n",
       "  <th>education_recod_college</th>           <td>    3.9870</td> <td>    3.925</td> <td>    1.016</td> <td> 0.310</td> <td>   -3.706</td> <td>   11.680</td>\n",
       "</tr>\n",
       "<tr>\n",
       "  <th>education_recod_elementary_school</th> <td>    4.1601</td> <td>    3.927</td> <td>    1.059</td> <td> 0.289</td> <td>   -3.537</td> <td>   11.857</td>\n",
       "</tr>\n",
       "<tr>\n",
       "  <th>education_recod_high_school</th>       <td>    3.9075</td> <td>    3.924</td> <td>    0.996</td> <td> 0.319</td> <td>   -3.784</td> <td>   11.599</td>\n",
       "</tr>\n",
       "<tr>\n",
       "  <th>education_recod_university</th>        <td>    4.0626</td> <td>    3.927</td> <td>    1.035</td> <td> 0.301</td> <td>   -3.634</td> <td>   11.760</td>\n",
       "</tr>\n",
       "<tr>\n",
       "  <th>civstatus_Married_AF_spouse</th>       <td>    0.8482</td> <td>    0.441</td> <td>    1.924</td> <td> 0.054</td> <td>   -0.016</td> <td>    1.712</td>\n",
       "</tr>\n",
       "<tr>\n",
       "  <th>civstatus_Never_married</th>           <td>   -0.5389</td> <td>    0.129</td> <td>   -4.187</td> <td> 0.000</td> <td>   -0.791</td> <td>   -0.287</td>\n",
       "</tr>\n",
       "<tr>\n",
       "  <th>civstatus_divorced</th>                <td>   -0.0524</td> <td>    0.124</td> <td>   -0.422</td> <td> 0.673</td> <td>   -0.296</td> <td>    0.191</td>\n",
       "</tr>\n",
       "<tr>\n",
       "  <th>civstatus_married</th>                 <td>    0.7354</td> <td>    0.169</td> <td>    4.340</td> <td> 0.000</td> <td>    0.403</td> <td>    1.068</td>\n",
       "</tr>\n",
       "<tr>\n",
       "  <th>civstatus_separated</th>               <td>   -0.1232</td> <td>    0.169</td> <td>   -0.731</td> <td> 0.465</td> <td>   -0.453</td> <td>    0.207</td>\n",
       "</tr>\n",
       "</table>"
      ],
      "text/plain": [
       "<class 'statsmodels.iolib.summary.Summary'>\n",
       "\"\"\"\n",
       "                           Logit Regression Results                           \n",
       "==============================================================================\n",
       "Dep. Variable:                 income   No. Observations:                48842\n",
       "Model:                          Logit   Df Residuals:                    48808\n",
       "Method:                           MLE   Df Model:                           33\n",
       "Date:                Wed, 10 Jul 2019   Pseudo R-squ.:                  0.4119\n",
       "Time:                        22:26:31   Log-Likelihood:                -15806.\n",
       "converged:                       True   LL-Null:                       -26875.\n",
       "                                        LLR p-value:                     0.000\n",
       "=====================================================================================================\n",
       "                                        coef    std err          z      P>|z|      [0.025      0.975]\n",
       "-----------------------------------------------------------------------------------------------------\n",
       "Intercept                           -13.6900      3.933     -3.481      0.000     -21.398      -5.982\n",
       "age                                   0.0252      0.001     19.321      0.000       0.023       0.028\n",
       "fnlwgt                             7.276e-07   1.37e-07      5.325      0.000     4.6e-07    9.95e-07\n",
       "educational_num                       0.2749      0.015     17.787      0.000       0.245       0.305\n",
       "capital_gain                          0.0003   8.35e-06     37.973      0.000       0.000       0.000\n",
       "capital_loss                          0.0007   2.98e-05     21.968      0.000       0.001       0.001\n",
       "hours_per_week                        0.0294      0.001     23.337      0.000       0.027       0.032\n",
       "relationship_Husband                  0.9638      0.128      7.512      0.000       0.712       1.215\n",
       "relationship_Other_relative          -0.5294      0.172     -3.083      0.002      -0.866      -0.193\n",
       "relationship_Own_child               -0.9791      0.114     -8.586      0.000      -1.203      -0.756\n",
       "relationship_Unmarried               -0.2430      0.082     -2.961      0.003      -0.404      -0.082\n",
       "relationship_Wife                     2.0327      0.142     14.324      0.000       1.755       2.311\n",
       "race_Amer_Indian_Eskimo              -0.2227      0.261     -0.852      0.394      -0.735       0.290\n",
       "race_Asian_Pac_Islander               0.3632      0.216      1.682      0.093      -0.060       0.786\n",
       "race_Black                            0.0191      0.203      0.094      0.925      -0.378       0.416\n",
       "race_White                            0.2804      0.195      1.440      0.150      -0.101       0.662\n",
       "gender_Male                           0.7708      0.063     12.249      0.000       0.647       0.894\n",
       "native_country_America                0.2740      0.094      2.923      0.003       0.090       0.458\n",
       "native_country_Europe                 0.4754      0.139      3.426      0.001       0.203       0.747\n",
       "collars_blue_collar                   0.7102      0.084      8.429      0.000       0.545       0.875\n",
       "collars_white_collar                  1.3075      0.083     15.739      0.000       1.145       1.470\n",
       "workclass_recod_Private              -0.0995      0.114     -0.871      0.384      -0.324       0.125\n",
       "workclass_recod_federal_gov           0.3549      0.134      2.644      0.008       0.092       0.618\n",
       "workclass_recod_self_employ          -0.4370      0.119     -3.677      0.000      -0.670      -0.204\n",
       "workclass_recod_state_level_gov      -0.1740      0.120     -1.453      0.146      -0.409       0.061\n",
       "education_recod_college               3.9870      3.925      1.016      0.310      -3.706      11.680\n",
       "education_recod_elementary_school     4.1601      3.927      1.059      0.289      -3.537      11.857\n",
       "education_recod_high_school           3.9075      3.924      0.996      0.319      -3.784      11.599\n",
       "education_recod_university            4.0626      3.927      1.035      0.301      -3.634      11.760\n",
       "civstatus_Married_AF_spouse           0.8482      0.441      1.924      0.054      -0.016       1.712\n",
       "civstatus_Never_married              -0.5389      0.129     -4.187      0.000      -0.791      -0.287\n",
       "civstatus_divorced                   -0.0524      0.124     -0.422      0.673      -0.296       0.191\n",
       "civstatus_married                     0.7354      0.169      4.340      0.000       0.403       1.068\n",
       "civstatus_separated                  -0.1232      0.169     -0.731      0.465      -0.453       0.207\n",
       "=====================================================================================================\n",
       "\"\"\""
      ]
     },
     "execution_count": 9,
     "metadata": {},
     "output_type": "execute_result"
    }
   ],
   "source": [
    "logit_reg = smf.logit('income ~ age + fnlwgt + educational_num + capital_gain + capital_loss + hours_per_week + relationship_Husband + relationship_Other_relative + relationship_Own_child  + relationship_Unmarried + relationship_Wife + race_Amer_Indian_Eskimo + race_Asian_Pac_Islander + race_Black + race_White + gender_Male + native_country_America + native_country_Europe + collars_blue_collar + collars_white_collar + workclass_recod_Private + workclass_recod_federal_gov + workclass_recod_self_employ + workclass_recod_state_level_gov + education_recod_college + education_recod_elementary_school + education_recod_high_school + education_recod_university + civstatus_Married_AF_spouse + civstatus_Never_married + civstatus_divorced + civstatus_married + civstatus_separated', df_dummy).fit()\n",
    "logit_reg.summary()"
   ]
  },
  {
   "cell_type": "code",
   "execution_count": 10,
   "metadata": {
    "scrolled": true
   },
   "outputs": [
    {
     "name": "stdout",
     "output_type": "stream",
     "text": [
      "\n",
      "Goodnes of Fit statistics\n",
      "           Statistics       Value\n",
      "2              Date:  31979.8245\n",
      "3  No. Observations:     -15806.\n",
      "4          Df Model:     -26875.\n",
      "5      Df Residuals:      0.0000\n",
      "6         Converged:      1.0000\n",
      "7    No. Iterations:            \n",
      "\n",
      "Point Estimates\n",
      "\n",
      "                                           Coef.      Std.Err.\n",
      "Intercept                         -1.369003e+01  3.932549e+00\n",
      "age                                2.523265e-02  1.305961e-03\n",
      "fnlwgt                             7.275955e-07  1.366411e-07\n",
      "educational_num                    2.748534e-01  1.545262e-02\n",
      "capital_gain                       3.171931e-04  8.353078e-06\n",
      "capital_loss                       6.546416e-04  2.979988e-05\n",
      "hours_per_week                     2.942534e-02  1.260888e-03\n",
      "relationship_Husband               9.637723e-01  1.282974e-01\n",
      "relationship_Other_relative       -5.293640e-01  1.717292e-01\n",
      "relationship_Own_child            -9.790721e-01  1.140261e-01\n",
      "relationship_Unmarried            -2.430193e-01  8.208553e-02\n",
      "relationship_Wife                  2.032657e+00  1.419015e-01\n",
      "race_Amer_Indian_Eskimo           -2.227257e-01  2.614183e-01\n",
      "race_Asian_Pac_Islander            3.631668e-01  2.159353e-01\n",
      "race_Black                         1.910892e-02  2.025488e-01\n",
      "race_White                         2.803678e-01  1.946727e-01\n",
      "gender_Male                        7.707856e-01  6.292587e-02\n",
      "native_country_America             2.739914e-01  9.374098e-02\n",
      "native_country_Europe              4.754055e-01  1.387752e-01\n",
      "collars_blue_collar                7.101612e-01  8.425286e-02\n",
      "collars_white_collar               1.307473e+00  8.307404e-02\n",
      "workclass_recod_Private           -9.951610e-02  1.143037e-01\n",
      "workclass_recod_federal_gov        3.548685e-01  1.342121e-01\n",
      "workclass_recod_self_employ       -4.370223e-01  1.188584e-01\n",
      "workclass_recod_state_level_gov   -1.740024e-01  1.197194e-01\n",
      "education_recod_college            3.987023e+00  3.925127e+00\n",
      "education_recod_elementary_school  4.160096e+00  3.926909e+00\n",
      "education_recod_high_school        3.907476e+00  3.924145e+00\n",
      "education_recod_university         4.062626e+00  3.927113e+00\n",
      "civstatus_Married_AF_spouse        8.482253e-01  4.407910e-01\n",
      "civstatus_Never_married           -5.388646e-01  1.286968e-01\n",
      "civstatus_divorced                -5.243288e-02  1.243192e-01\n",
      "civstatus_married                  7.353829e-01  1.694597e-01\n",
      "civstatus_separated               -1.232352e-01  1.685035e-01\n"
     ]
    }
   ],
   "source": [
    "concise_summary(logit_reg)"
   ]
  },
  {
   "cell_type": "markdown",
   "metadata": {},
   "source": [
    "# La interpretación de los principales regresores en cada problema. "
   ]
  },
  {
   "cell_type": "code",
   "execution_count": 11,
   "metadata": {
    "scrolled": true
   },
   "outputs": [
    {
     "data": {
      "text/plain": [
       "0.9977076077163946"
      ]
     },
     "execution_count": 11,
     "metadata": {},
     "output_type": "execute_result"
    }
   ],
   "source": [
    "params =  ['age','fnlwgt','educational_num','capital_gain','capital_loss','hours_per_week','relationship_Husband','relationship_Other_relative','relationship_Own_child','relationship_Unmarried','relationship_Wife','gender_Male','native_country_America','native_country_Europe','collars_blue_collar','collars_white_collar','workclass_recod_federal_gov','workclass_recod_self_employ','civstatus_Married_AF_spouse','civstatus_Never_married','civstatus_married']\n",
    "logitCalculate(params, logit_reg)\n"
   ]
  },
  {
   "cell_type": "code",
   "execution_count": null,
   "metadata": {},
   "outputs": [],
   "source": []
  },
  {
   "cell_type": "markdown",
   "metadata": {},
   "source": [
    "al mantener los regresores al 95% de confianza, mantenemos un resultado similar en confianza del modelo para este modelo, tendremos un resultado muy \"FIT\" para el modelo, en lo pronto tendra que ser modificado"
   ]
  },
  {
   "cell_type": "code",
   "execution_count": null,
   "metadata": {},
   "outputs": [],
   "source": []
  },
  {
   "cell_type": "markdown",
   "metadata": {},
   "source": [
    "# La definición de las estrategias de Modelación predictiva"
   ]
  },
  {
   "cell_type": "markdown",
   "metadata": {},
   "source": [
    "Como estrategia para el aprendizaje de la maquina, se establecera un fit segun los resultados donde nos acompañara la librerias de sklearn aunque ya existen algunos regresores que nos apoyan para los resultados que buscamos.\n",
    "Sera recomendable utilizar practicamente todos los datos en la variable params"
   ]
  },
  {
   "cell_type": "code",
   "execution_count": null,
   "metadata": {},
   "outputs": [],
   "source": []
  }
 ],
 "metadata": {
  "kernelspec": {
   "display_name": "Python 3",
   "language": "python",
   "name": "python3"
  },
  "language_info": {
   "codemirror_mode": {
    "name": "ipython",
    "version": 3
   },
   "file_extension": ".py",
   "mimetype": "text/x-python",
   "name": "python",
   "nbconvert_exporter": "python",
   "pygments_lexer": "ipython3",
   "version": "3.7.3"
  }
 },
 "nbformat": 4,
 "nbformat_minor": 2
}
