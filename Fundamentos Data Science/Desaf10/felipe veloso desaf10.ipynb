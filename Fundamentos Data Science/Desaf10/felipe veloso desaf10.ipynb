{
 "cells": [
  {
   "cell_type": "markdown",
   "metadata": {},
   "source": [
    "# Felipe Velos Desaf 10"
   ]
  },
  {
   "cell_type": "markdown",
   "metadata": {},
   "source": [
    "1.-  la confianza de la muestra es del 95%"
   ]
  },
  {
   "cell_type": "markdown",
   "metadata": {},
   "source": [
    "# 2.- Importe la base de datos utilizada la sesión presencial anterior"
   ]
  },
  {
   "cell_type": "code",
   "execution_count": 1,
   "metadata": {},
   "outputs": [],
   "source": [
    "import pandas as pd\n",
    "import numpy as np\n",
    "import matplotlib.pyplot as plt\n",
    "from scipy import stats"
   ]
  },
  {
   "cell_type": "code",
   "execution_count": 13,
   "metadata": {},
   "outputs": [],
   "source": [
    "df = pd.read_csv('nations 2.csv',sep = ',', encoding='ISO-8859-1')"
   ]
  },
  {
   "cell_type": "code",
   "execution_count": 14,
   "metadata": {},
   "outputs": [
    {
     "data": {
      "text/html": [
       "<div>\n",
       "<style scoped>\n",
       "    .dataframe tbody tr th:only-of-type {\n",
       "        vertical-align: middle;\n",
       "    }\n",
       "\n",
       "    .dataframe tbody tr th {\n",
       "        vertical-align: top;\n",
       "    }\n",
       "\n",
       "    .dataframe thead th {\n",
       "        text-align: right;\n",
       "    }\n",
       "</style>\n",
       "<table border=\"1\" class=\"dataframe\">\n",
       "  <thead>\n",
       "    <tr style=\"text-align: right;\">\n",
       "      <th></th>\n",
       "      <th>Unnamed: 0</th>\n",
       "      <th>country</th>\n",
       "      <th>region</th>\n",
       "      <th>gdp</th>\n",
       "      <th>school</th>\n",
       "      <th>adfert</th>\n",
       "      <th>chldmort</th>\n",
       "      <th>life</th>\n",
       "      <th>pop</th>\n",
       "      <th>urban</th>\n",
       "      <th>femlab</th>\n",
       "      <th>literacy</th>\n",
       "      <th>co2</th>\n",
       "      <th>gini</th>\n",
       "    </tr>\n",
       "  </thead>\n",
       "  <tbody>\n",
       "    <tr>\n",
       "      <th>0</th>\n",
       "      <td>1</td>\n",
       "      <td>Algeria</td>\n",
       "      <td>Africa</td>\n",
       "      <td>7300.399902</td>\n",
       "      <td>6.716667</td>\n",
       "      <td>7.300000</td>\n",
       "      <td>34.75</td>\n",
       "      <td>72.316666</td>\n",
       "      <td>34172236</td>\n",
       "      <td>64.933334</td>\n",
       "      <td>0.4522</td>\n",
       "      <td>72.599998</td>\n",
       "      <td>15.0</td>\n",
       "      <td>NaN</td>\n",
       "    </tr>\n",
       "    <tr>\n",
       "      <th>1</th>\n",
       "      <td>2</td>\n",
       "      <td>Benin</td>\n",
       "      <td>Africa</td>\n",
       "      <td>1338.800049</td>\n",
       "      <td>3.100000</td>\n",
       "      <td>111.699997</td>\n",
       "      <td>122.75</td>\n",
       "      <td>54.733334</td>\n",
       "      <td>8237634</td>\n",
       "      <td>41.000000</td>\n",
       "      <td>0.8482</td>\n",
       "      <td>41.700001</td>\n",
       "      <td>1.2</td>\n",
       "      <td>NaN</td>\n",
       "    </tr>\n",
       "    <tr>\n",
       "      <th>2</th>\n",
       "      <td>3</td>\n",
       "      <td>Botswana</td>\n",
       "      <td>Africa</td>\n",
       "      <td>12307.400391</td>\n",
       "      <td>8.600000</td>\n",
       "      <td>52.099998</td>\n",
       "      <td>60.25</td>\n",
       "      <td>52.250000</td>\n",
       "      <td>1941233</td>\n",
       "      <td>59.250000</td>\n",
       "      <td>0.8870</td>\n",
       "      <td>84.099998</td>\n",
       "      <td>9.2</td>\n",
       "      <td>NaN</td>\n",
       "    </tr>\n",
       "    <tr>\n",
       "      <th>3</th>\n",
       "      <td>4</td>\n",
       "      <td>Burkina Faso</td>\n",
       "      <td>Africa</td>\n",
       "      <td>1063.400024</td>\n",
       "      <td>1.300000</td>\n",
       "      <td>124.800003</td>\n",
       "      <td>170.50</td>\n",
       "      <td>53.783333</td>\n",
       "      <td>15308383</td>\n",
       "      <td>23.583334</td>\n",
       "      <td>0.8584</td>\n",
       "      <td>23.600000</td>\n",
       "      <td>0.2</td>\n",
       "      <td>NaN</td>\n",
       "    </tr>\n",
       "    <tr>\n",
       "      <th>4</th>\n",
       "      <td>5</td>\n",
       "      <td>Burundi</td>\n",
       "      <td>Africa</td>\n",
       "      <td>349.200012</td>\n",
       "      <td>2.483333</td>\n",
       "      <td>18.600000</td>\n",
       "      <td>168.50</td>\n",
       "      <td>48.866665</td>\n",
       "      <td>7821783</td>\n",
       "      <td>10.250000</td>\n",
       "      <td>1.0344</td>\n",
       "      <td>66.599998</td>\n",
       "      <td>0.1</td>\n",
       "      <td>33.299999</td>\n",
       "    </tr>\n",
       "  </tbody>\n",
       "</table>\n",
       "</div>"
      ],
      "text/plain": [
       "   Unnamed: 0       country  region           gdp    school      adfert  \\\n",
       "0           1       Algeria  Africa   7300.399902  6.716667    7.300000   \n",
       "1           2         Benin  Africa   1338.800049  3.100000  111.699997   \n",
       "2           3      Botswana  Africa  12307.400391  8.600000   52.099998   \n",
       "3           4  Burkina Faso  Africa   1063.400024  1.300000  124.800003   \n",
       "4           5       Burundi  Africa    349.200012  2.483333   18.600000   \n",
       "\n",
       "   chldmort       life       pop      urban  femlab   literacy   co2  \\\n",
       "0     34.75  72.316666  34172236  64.933334  0.4522  72.599998  15.0   \n",
       "1    122.75  54.733334   8237634  41.000000  0.8482  41.700001   1.2   \n",
       "2     60.25  52.250000   1941233  59.250000  0.8870  84.099998   9.2   \n",
       "3    170.50  53.783333  15308383  23.583334  0.8584  23.600000   0.2   \n",
       "4    168.50  48.866665   7821783  10.250000  1.0344  66.599998   0.1   \n",
       "\n",
       "        gini  \n",
       "0        NaN  \n",
       "1        NaN  \n",
       "2        NaN  \n",
       "3        NaN  \n",
       "4  33.299999  "
      ]
     },
     "execution_count": 14,
     "metadata": {},
     "output_type": "execute_result"
    }
   ],
   "source": [
    "df.head()"
   ]
  },
  {
   "cell_type": "code",
   "execution_count": 16,
   "metadata": {},
   "outputs": [],
   "source": [
    "tmp = df.loc[:, ['femlab','literacy','school','region']]"
   ]
  },
  {
   "cell_type": "code",
   "execution_count": 24,
   "metadata": {},
   "outputs": [
    {
     "data": {
      "text/html": [
       "<div>\n",
       "<style scoped>\n",
       "    .dataframe tbody tr th:only-of-type {\n",
       "        vertical-align: middle;\n",
       "    }\n",
       "\n",
       "    .dataframe tbody tr th {\n",
       "        vertical-align: top;\n",
       "    }\n",
       "\n",
       "    .dataframe thead th {\n",
       "        text-align: right;\n",
       "    }\n",
       "</style>\n",
       "<table border=\"1\" class=\"dataframe\">\n",
       "  <thead>\n",
       "    <tr style=\"text-align: right;\">\n",
       "      <th></th>\n",
       "      <th>femlab</th>\n",
       "      <th>literacy</th>\n",
       "      <th>school</th>\n",
       "      <th>region_Africa</th>\n",
       "      <th>region_Americas</th>\n",
       "      <th>region_Asia</th>\n",
       "      <th>region_Europe</th>\n",
       "      <th>region_Oceania</th>\n",
       "    </tr>\n",
       "  </thead>\n",
       "  <tbody>\n",
       "    <tr>\n",
       "      <th>0</th>\n",
       "      <td>0.4522</td>\n",
       "      <td>72.599998</td>\n",
       "      <td>6.716667</td>\n",
       "      <td>1</td>\n",
       "      <td>0</td>\n",
       "      <td>0</td>\n",
       "      <td>0</td>\n",
       "      <td>0</td>\n",
       "    </tr>\n",
       "    <tr>\n",
       "      <th>1</th>\n",
       "      <td>0.8482</td>\n",
       "      <td>41.700001</td>\n",
       "      <td>3.100000</td>\n",
       "      <td>1</td>\n",
       "      <td>0</td>\n",
       "      <td>0</td>\n",
       "      <td>0</td>\n",
       "      <td>0</td>\n",
       "    </tr>\n",
       "    <tr>\n",
       "      <th>2</th>\n",
       "      <td>0.8870</td>\n",
       "      <td>84.099998</td>\n",
       "      <td>8.600000</td>\n",
       "      <td>1</td>\n",
       "      <td>0</td>\n",
       "      <td>0</td>\n",
       "      <td>0</td>\n",
       "      <td>0</td>\n",
       "    </tr>\n",
       "    <tr>\n",
       "      <th>3</th>\n",
       "      <td>0.8584</td>\n",
       "      <td>23.600000</td>\n",
       "      <td>1.300000</td>\n",
       "      <td>1</td>\n",
       "      <td>0</td>\n",
       "      <td>0</td>\n",
       "      <td>0</td>\n",
       "      <td>0</td>\n",
       "    </tr>\n",
       "    <tr>\n",
       "      <th>4</th>\n",
       "      <td>1.0344</td>\n",
       "      <td>66.599998</td>\n",
       "      <td>2.483333</td>\n",
       "      <td>1</td>\n",
       "      <td>0</td>\n",
       "      <td>0</td>\n",
       "      <td>0</td>\n",
       "      <td>0</td>\n",
       "    </tr>\n",
       "  </tbody>\n",
       "</table>\n",
       "</div>"
      ],
      "text/plain": [
       "   femlab   literacy    school  region_Africa  region_Americas  region_Asia  \\\n",
       "0  0.4522  72.599998  6.716667              1                0            0   \n",
       "1  0.8482  41.700001  3.100000              1                0            0   \n",
       "2  0.8870  84.099998  8.600000              1                0            0   \n",
       "3  0.8584  23.600000  1.300000              1                0            0   \n",
       "4  1.0344  66.599998  2.483333              1                0            0   \n",
       "\n",
       "   region_Europe  region_Oceania  \n",
       "0              0               0  \n",
       "1              0               0  \n",
       "2              0               0  \n",
       "3              0               0  \n",
       "4              0               0  "
      ]
     },
     "execution_count": 24,
     "metadata": {},
     "output_type": "execute_result"
    }
   ],
   "source": [
    "tmp_cat = pd.get_dummies(tmp)\n",
    "tmp_cat.head()"
   ]
  },
  {
   "cell_type": "markdown",
   "metadata": {},
   "source": [
    "# 3.- Implemente una función de prueba de hipótesis a mano"
   ]
  },
  {
   "cell_type": "code",
   "execution_count": 99,
   "metadata": {},
   "outputs": [],
   "source": [
    "def hip_at_hand(dataFrame,variable,binarize):\n",
    "    region = 'region_' + variable\n",
    "    num  = binarize\n",
    "    other = 1\n",
    "    if(binarize == 1):\n",
    "        other = 0\n",
    "    dataFrame['hipotesis'] = np.where(dataFrame[region] == binarize, num , other )\n",
    "    df_trust = dataFrame.query('hipotesis == 1')[region].dropna()\n",
    "    no_df_trust = dataFrame.query('hipotesis == 0')[region].dropna()\n",
    "    print ('trust media ' + str(df_trust.mean()))\n",
    "    print ('no trust media ' + str(no_df_trust.mean()))\n",
    "    print ('resta medias ' + str(df_trust.mean() - no_df_trust.mean()))\n",
    "    \n",
    "    #stats.ttest_ind(df_trust,no_df_trust)\n",
    "        \n",
    "    return stats.ttest_ind(df_trust,no_df_trust)\n",
    "\n"
   ]
  },
  {
   "cell_type": "code",
   "execution_count": 100,
   "metadata": {},
   "outputs": [
    {
     "name": "stdout",
     "output_type": "stream",
     "text": [
      "trust media 1.0\n",
      "no trust media 0.0\n",
      "resta medias 1.0\n"
     ]
    },
    {
     "data": {
      "text/plain": [
       "Ttest_indResult(statistic=inf, pvalue=0.0)"
      ]
     },
     "execution_count": 100,
     "metadata": {},
     "output_type": "execute_result"
    }
   ],
   "source": [
    "hip_at_hand(tmp_cat,'Americas',1)"
   ]
  },
  {
   "cell_type": "markdown",
   "metadata": {},
   "source": [
    "# 4. Implemente una función que grafique los histogramas para ambas muestras."
   ]
  },
  {
   "cell_type": "code",
   "execution_count": null,
   "metadata": {},
   "outputs": [],
   "source": [
    "def hist(dataFrame):\n",
    "    num  = binarize\n",
    "    other = 1\n",
    "    if(binarize == 1):\n",
    "        other = 0\n",
    "    dataFrame['hipotesis'] = np.where(dataFrame[region] == binarize, num , other )\n",
    "    df_trust = dataFrame.query('hipotesis == 1')[region].dropna()\n",
    "    no_df_trust = dataFrame.query('hipotesis == 0')[region].dropna()\n",
    "    "
   ]
  }
 ],
 "metadata": {
  "kernelspec": {
   "display_name": "Python 3",
   "language": "python",
   "name": "python3"
  },
  "language_info": {
   "codemirror_mode": {
    "name": "ipython",
    "version": 3
   },
   "file_extension": ".py",
   "mimetype": "text/x-python",
   "name": "python",
   "nbconvert_exporter": "python",
   "pygments_lexer": "ipython3",
   "version": "3.7.1"
  }
 },
 "nbformat": 4,
 "nbformat_minor": 2
}
