{
 "cells": [
  {
   "cell_type": "markdown",
   "metadata": {},
   "source": [
    "# Felipe Veloso Desafio 12"
   ]
  },
  {
   "cell_type": "code",
   "execution_count": 1,
   "metadata": {},
   "outputs": [],
   "source": [
    "import pandas as pd\n",
    "import numpy as np\n",
    "from scipy import stats\n",
    "import matplotlib.pyplot as plt\n",
    "import seaborn as sns\n",
    "plt.style.use('seaborn-whitegrid')\n",
    "plt.rcParams['figure.figsize'] = (10,6)"
   ]
  },
  {
   "cell_type": "markdown",
   "metadata": {},
   "source": [
    "# Desafío 1: Prepare el ambiente de trabajo"
   ]
  },
  {
   "cell_type": "code",
   "execution_count": 21,
   "metadata": {},
   "outputs": [],
   "source": [
    "from sklearn.linear_model import LinearRegression\n",
    "from sklearn.metrics import mean_squared_error, r2_score\n",
    "from sklearn.model_selection import train_test_split"
   ]
  },
  {
   "cell_type": "code",
   "execution_count": 17,
   "metadata": {},
   "outputs": [],
   "source": [
    "df = pd.read_csv('boston.csv');\n",
    "df = df.drop('Unnamed: 0' , axis=1)"
   ]
  },
  {
   "cell_type": "code",
   "execution_count": 18,
   "metadata": {},
   "outputs": [
    {
     "data": {
      "text/html": [
       "<div>\n",
       "<style scoped>\n",
       "    .dataframe tbody tr th:only-of-type {\n",
       "        vertical-align: middle;\n",
       "    }\n",
       "\n",
       "    .dataframe tbody tr th {\n",
       "        vertical-align: top;\n",
       "    }\n",
       "\n",
       "    .dataframe thead th {\n",
       "        text-align: right;\n",
       "    }\n",
       "</style>\n",
       "<table border=\"1\" class=\"dataframe\">\n",
       "  <thead>\n",
       "    <tr style=\"text-align: right;\">\n",
       "      <th></th>\n",
       "      <th>crim</th>\n",
       "      <th>zn</th>\n",
       "      <th>indus</th>\n",
       "      <th>chas</th>\n",
       "      <th>nox</th>\n",
       "      <th>rm</th>\n",
       "      <th>age</th>\n",
       "      <th>dis</th>\n",
       "      <th>rad</th>\n",
       "      <th>tax</th>\n",
       "      <th>ptratio</th>\n",
       "      <th>black</th>\n",
       "      <th>lstat</th>\n",
       "      <th>medv</th>\n",
       "    </tr>\n",
       "  </thead>\n",
       "  <tbody>\n",
       "    <tr>\n",
       "      <th>count</th>\n",
       "      <td>506.000000</td>\n",
       "      <td>506.000000</td>\n",
       "      <td>506.000000</td>\n",
       "      <td>506.000000</td>\n",
       "      <td>506.000000</td>\n",
       "      <td>506.000000</td>\n",
       "      <td>506.000000</td>\n",
       "      <td>506.000000</td>\n",
       "      <td>506.000000</td>\n",
       "      <td>506.000000</td>\n",
       "      <td>506.000000</td>\n",
       "      <td>506.000000</td>\n",
       "      <td>506.000000</td>\n",
       "      <td>506.000000</td>\n",
       "    </tr>\n",
       "    <tr>\n",
       "      <th>mean</th>\n",
       "      <td>3.613524</td>\n",
       "      <td>11.363636</td>\n",
       "      <td>11.136779</td>\n",
       "      <td>0.069170</td>\n",
       "      <td>0.554695</td>\n",
       "      <td>6.284634</td>\n",
       "      <td>68.574901</td>\n",
       "      <td>3.795043</td>\n",
       "      <td>9.549407</td>\n",
       "      <td>408.237154</td>\n",
       "      <td>18.455534</td>\n",
       "      <td>356.674032</td>\n",
       "      <td>12.653063</td>\n",
       "      <td>22.532806</td>\n",
       "    </tr>\n",
       "    <tr>\n",
       "      <th>std</th>\n",
       "      <td>8.601545</td>\n",
       "      <td>23.322453</td>\n",
       "      <td>6.860353</td>\n",
       "      <td>0.253994</td>\n",
       "      <td>0.115878</td>\n",
       "      <td>0.702617</td>\n",
       "      <td>28.148861</td>\n",
       "      <td>2.105710</td>\n",
       "      <td>8.707259</td>\n",
       "      <td>168.537116</td>\n",
       "      <td>2.164946</td>\n",
       "      <td>91.294864</td>\n",
       "      <td>7.141062</td>\n",
       "      <td>9.197104</td>\n",
       "    </tr>\n",
       "    <tr>\n",
       "      <th>min</th>\n",
       "      <td>0.006320</td>\n",
       "      <td>0.000000</td>\n",
       "      <td>0.460000</td>\n",
       "      <td>0.000000</td>\n",
       "      <td>0.385000</td>\n",
       "      <td>3.561000</td>\n",
       "      <td>2.900000</td>\n",
       "      <td>1.129600</td>\n",
       "      <td>1.000000</td>\n",
       "      <td>187.000000</td>\n",
       "      <td>12.600000</td>\n",
       "      <td>0.320000</td>\n",
       "      <td>1.730000</td>\n",
       "      <td>5.000000</td>\n",
       "    </tr>\n",
       "    <tr>\n",
       "      <th>25%</th>\n",
       "      <td>0.082045</td>\n",
       "      <td>0.000000</td>\n",
       "      <td>5.190000</td>\n",
       "      <td>0.000000</td>\n",
       "      <td>0.449000</td>\n",
       "      <td>5.885500</td>\n",
       "      <td>45.025000</td>\n",
       "      <td>2.100175</td>\n",
       "      <td>4.000000</td>\n",
       "      <td>279.000000</td>\n",
       "      <td>17.400000</td>\n",
       "      <td>375.377500</td>\n",
       "      <td>6.950000</td>\n",
       "      <td>17.025000</td>\n",
       "    </tr>\n",
       "    <tr>\n",
       "      <th>50%</th>\n",
       "      <td>0.256510</td>\n",
       "      <td>0.000000</td>\n",
       "      <td>9.690000</td>\n",
       "      <td>0.000000</td>\n",
       "      <td>0.538000</td>\n",
       "      <td>6.208500</td>\n",
       "      <td>77.500000</td>\n",
       "      <td>3.207450</td>\n",
       "      <td>5.000000</td>\n",
       "      <td>330.000000</td>\n",
       "      <td>19.050000</td>\n",
       "      <td>391.440000</td>\n",
       "      <td>11.360000</td>\n",
       "      <td>21.200000</td>\n",
       "    </tr>\n",
       "    <tr>\n",
       "      <th>75%</th>\n",
       "      <td>3.677082</td>\n",
       "      <td>12.500000</td>\n",
       "      <td>18.100000</td>\n",
       "      <td>0.000000</td>\n",
       "      <td>0.624000</td>\n",
       "      <td>6.623500</td>\n",
       "      <td>94.075000</td>\n",
       "      <td>5.188425</td>\n",
       "      <td>24.000000</td>\n",
       "      <td>666.000000</td>\n",
       "      <td>20.200000</td>\n",
       "      <td>396.225000</td>\n",
       "      <td>16.955000</td>\n",
       "      <td>25.000000</td>\n",
       "    </tr>\n",
       "    <tr>\n",
       "      <th>max</th>\n",
       "      <td>88.976200</td>\n",
       "      <td>100.000000</td>\n",
       "      <td>27.740000</td>\n",
       "      <td>1.000000</td>\n",
       "      <td>0.871000</td>\n",
       "      <td>8.780000</td>\n",
       "      <td>100.000000</td>\n",
       "      <td>12.126500</td>\n",
       "      <td>24.000000</td>\n",
       "      <td>711.000000</td>\n",
       "      <td>22.000000</td>\n",
       "      <td>396.900000</td>\n",
       "      <td>37.970000</td>\n",
       "      <td>50.000000</td>\n",
       "    </tr>\n",
       "  </tbody>\n",
       "</table>\n",
       "</div>"
      ],
      "text/plain": [
       "             crim          zn       indus        chas         nox          rm  \\\n",
       "count  506.000000  506.000000  506.000000  506.000000  506.000000  506.000000   \n",
       "mean     3.613524   11.363636   11.136779    0.069170    0.554695    6.284634   \n",
       "std      8.601545   23.322453    6.860353    0.253994    0.115878    0.702617   \n",
       "min      0.006320    0.000000    0.460000    0.000000    0.385000    3.561000   \n",
       "25%      0.082045    0.000000    5.190000    0.000000    0.449000    5.885500   \n",
       "50%      0.256510    0.000000    9.690000    0.000000    0.538000    6.208500   \n",
       "75%      3.677082   12.500000   18.100000    0.000000    0.624000    6.623500   \n",
       "max     88.976200  100.000000   27.740000    1.000000    0.871000    8.780000   \n",
       "\n",
       "              age         dis         rad         tax     ptratio       black  \\\n",
       "count  506.000000  506.000000  506.000000  506.000000  506.000000  506.000000   \n",
       "mean    68.574901    3.795043    9.549407  408.237154   18.455534  356.674032   \n",
       "std     28.148861    2.105710    8.707259  168.537116    2.164946   91.294864   \n",
       "min      2.900000    1.129600    1.000000  187.000000   12.600000    0.320000   \n",
       "25%     45.025000    2.100175    4.000000  279.000000   17.400000  375.377500   \n",
       "50%     77.500000    3.207450    5.000000  330.000000   19.050000  391.440000   \n",
       "75%     94.075000    5.188425   24.000000  666.000000   20.200000  396.225000   \n",
       "max    100.000000   12.126500   24.000000  711.000000   22.000000  396.900000   \n",
       "\n",
       "            lstat        medv  \n",
       "count  506.000000  506.000000  \n",
       "mean    12.653063   22.532806  \n",
       "std      7.141062    9.197104  \n",
       "min      1.730000    5.000000  \n",
       "25%      6.950000   17.025000  \n",
       "50%     11.360000   21.200000  \n",
       "75%     16.955000   25.000000  \n",
       "max     37.970000   50.000000  "
      ]
     },
     "execution_count": 18,
     "metadata": {},
     "output_type": "execute_result"
    }
   ],
   "source": [
    "df.describe()"
   ]
  },
  {
   "cell_type": "markdown",
   "metadata": {},
   "source": [
    "# Desafío 2: División de la muestra"
   ]
  },
  {
   "cell_type": "code",
   "execution_count": 19,
   "metadata": {},
   "outputs": [],
   "source": [
    "y_vec = df['medv']\n",
    "X_mat = df.drop('medv', axis=1)"
   ]
  },
  {
   "cell_type": "code",
   "execution_count": 22,
   "metadata": {},
   "outputs": [],
   "source": [
    "X_train, X_test , y_train , y_test = train_test_split(X_mat ,y_vec,test_size=.33 , random_state=3322)"
   ]
  },
  {
   "cell_type": "markdown",
   "metadata": {},
   "source": [
    "# Desafío 3: Generación de modelos"
   ]
  },
  {
   "cell_type": "code",
   "execution_count": 37,
   "metadata": {},
   "outputs": [],
   "source": [
    "norm_model = LinearRegression(fit_intercept=True,normalize=True).fit(X_train,y_train).predict(X_test)"
   ]
  },
  {
   "cell_type": "code",
   "execution_count": 41,
   "metadata": {},
   "outputs": [
    {
     "data": {
      "text/plain": [
       "array([33.11301423, 16.24645418, 18.19262246, -5.64352315, 21.5323601 ,\n",
       "       23.03332756, 41.02012272, 20.18293344, 14.27978301, 20.89167895,\n",
       "       24.793581  , 30.83824004, 28.25114947, 11.57803698, 23.31232912,\n",
       "       13.92947579, 36.30700399, 16.05992031, 29.80017731, 31.50423742,\n",
       "       35.74878147, 27.38208921, 18.84246725, 18.90622865, 27.190364  ,\n",
       "       25.71466841, 30.78327414, 21.32944466,  7.34546802, 20.89339572,\n",
       "       20.0860902 , 36.69315778, 40.88890736, 37.20714354, 24.03571648,\n",
       "       12.80652446, 21.15923575, 31.92735963, 42.15207826, 23.8360389 ,\n",
       "       37.93031347, 22.77261714, 12.32128836, 22.74431323, 27.58400927,\n",
       "       28.75712158, 19.61698794, 19.28570277, 34.26614384, 14.85075256,\n",
       "       14.09151393, 13.63847302, 18.89242906, 32.98745893, 15.28683875,\n",
       "       13.2757103 , 22.45274485,  9.47474366, 16.3782865 , 24.02529003,\n",
       "       13.92868183, 19.72917157, 16.72992947, 35.55027182, 21.30962533,\n",
       "       19.00945167, 25.83977106, 25.1139756 , 12.47691763, 29.01517242,\n",
       "       39.41938246, 18.29541993, 36.90302129, 24.99308855, 15.17584108,\n",
       "       30.9445863 , 28.33716443, 21.47468191, 22.28089751, 20.60921247,\n",
       "       23.62849011, 28.35901671,  8.25226866, 25.92328745, 21.94703315,\n",
       "       25.65833405, 18.28569493, 15.78472763, 25.55400647, 31.87480644,\n",
       "       22.48951742, 25.63009181, 24.10779856, 39.47707474, 11.94640342,\n",
       "       22.60808257, 14.63615029, 24.54931658, 29.12785044, 31.63053864,\n",
       "       19.60913731,  9.57298558, 24.390546  , 16.62279777, 10.48341309,\n",
       "       35.26030591, 23.22611377, -0.16403515, 34.07827805, 19.45068268,\n",
       "        6.60605464, 16.3214672 , 24.26486475, 16.92596914, 19.60347888,\n",
       "       14.69824947, 29.95848697, 17.81285124, 24.20274673, 23.85893241,\n",
       "       25.74392211, 33.07693576, 30.27249622, 20.80270034, 19.71562023,\n",
       "       17.11970317, 28.54965005, 15.8563432 , 33.30296131,  5.34905221,\n",
       "       22.21092706, 17.82018203, 24.12283171, 20.39431822, 17.75379358,\n",
       "       26.34495786, 18.52042399, 16.2060936 ,  9.96384109, 16.7562188 ,\n",
       "       18.85986453, 21.96103201, 27.84048626,  8.7069856 , 23.04488066,\n",
       "       20.44631254, 11.76079928, 17.38196123, 36.4704095 , 29.28242101,\n",
       "       19.63938322, 25.10682029, 31.51540067, 25.02947902, 30.02043181,\n",
       "       24.55668105, 22.36367291, 20.84995451, 21.00884343,  5.79492015,\n",
       "       20.68149226, 25.77152724, 28.36892599, 30.48239245,  7.50180118,\n",
       "       19.45439955, 20.27990391])"
      ]
     },
     "execution_count": 41,
     "metadata": {},
     "output_type": "execute_result"
    }
   ],
   "source": [
    "norm_model"
   ]
  },
  {
   "cell_type": "code",
   "execution_count": 39,
   "metadata": {},
   "outputs": [],
   "source": [
    "non_norm_model = LinearRegression(fit_intercept=False , normalize=False).fit(X_train,y_train).predict(X_test)"
   ]
  },
  {
   "cell_type": "code",
   "execution_count": 42,
   "metadata": {},
   "outputs": [
    {
     "data": {
      "text/plain": [
       "array([32.61340199, 18.47259825, 17.69461337, -6.7085615 , 20.92627142,\n",
       "       22.22382882, 42.64934455, 21.92124915, 13.89690425, 21.06257204,\n",
       "       25.80747899, 30.61116666, 27.55457509, 11.09882636, 22.80673904,\n",
       "       15.95135697, 37.2179477 , 16.04871278, 30.80153936, 31.97671958,\n",
       "       35.15392229, 26.82265572, 19.85807872, 19.95885174, 24.39764047,\n",
       "       25.00449768, 30.68663823, 20.34980831,  7.81896222, 20.81026779,\n",
       "       19.21160386, 36.89678425, 40.70527473, 36.97727236, 22.27389339,\n",
       "       13.0875059 , 22.84616429, 31.80561017, 43.42028321, 23.76971214,\n",
       "       38.52890488, 21.79058627, 13.54559108, 22.45993528, 26.8674988 ,\n",
       "       29.83041639, 19.11592721, 19.51792781, 33.81301591, 15.84460331,\n",
       "       13.94206387, 14.08990553, 18.78306377, 33.15345664, 15.73763375,\n",
       "       13.38261944, 21.74195032, 10.80125103, 17.49469922, 22.4645927 ,\n",
       "       14.39423899, 20.68244575, 16.62857905, 34.95441378, 20.59217624,\n",
       "       20.17654429, 25.14654974, 25.26094384, 13.33004649, 27.95597611,\n",
       "       43.37068627, 17.42771329, 36.96831614, 26.08873185, 13.63426782,\n",
       "       29.82216346, 27.47601192, 21.53665586, 23.33286946, 20.07934027,\n",
       "       22.63177214, 28.4234734 ,  8.78729153, 25.58066652, 19.62291182,\n",
       "       26.64873561, 16.82920417, 16.30017141, 24.10301153, 31.43350001,\n",
       "       20.34526919, 25.35352908, 24.82449073, 38.60462501, 12.80839032,\n",
       "       21.5445547 , 15.32331142, 23.95965028, 29.26574884, 31.26809672,\n",
       "       19.00652302,  9.28424271, 23.56468212, 15.83763971, 10.898676  ,\n",
       "       33.42562095, 21.20387043, -2.74113304, 32.71345673, 19.77893335,\n",
       "        1.81803382, 16.32890635, 24.30916705, 17.86145163, 20.1560946 ,\n",
       "       14.56946913, 29.36747385, 18.03966908, 24.56862732, 23.69670453,\n",
       "       27.36580915, 32.469187  , 30.01879003, 21.40347862, 19.04707635,\n",
       "       16.24520805, 28.72115652, 15.22947824, 33.0194454 ,  6.36810756,\n",
       "       21.2896579 , 17.84573361, 23.20251454, 20.54896557, 17.20979275,\n",
       "       25.42567237, 19.81022448, 17.68076436, 10.47866666, 17.86018837,\n",
       "       18.2400807 , 20.97296775, 26.38328367,  9.00447346, 22.31023518,\n",
       "       20.00452559, 12.67518979, 18.44093444, 37.59247873, 28.22670105,\n",
       "       21.18299931, 26.55265423, 30.34769603, 25.20005054, 29.15359073,\n",
       "       23.97260067, 22.98178764, 18.72803305, 21.60731016,  4.92020643,\n",
       "       17.3714207 , 27.05724366, 27.12109966, 31.68177798,  8.15608114,\n",
       "       19.27057092, 19.22034756])"
      ]
     },
     "execution_count": 42,
     "metadata": {},
     "output_type": "execute_result"
    }
   ],
   "source": [
    "non_norm_model"
   ]
  },
  {
   "cell_type": "markdown",
   "metadata": {},
   "source": [
    "# Desafío 4: Obtención de métricas"
   ]
  },
  {
   "cell_type": "code",
   "execution_count": 43,
   "metadata": {},
   "outputs": [],
   "source": [
    "def report_scores(Y_test,predict):\n",
    "    mse_modelo = mean_squared_error(Y_test, predict).round(1)\n",
    "    r2_modelo = r2_score(Y_test,predict).round(1)\n",
    "    print(mse_modelo,r2_modelo)"
   ]
  },
  {
   "cell_type": "code",
   "execution_count": 44,
   "metadata": {},
   "outputs": [
    {
     "name": "stdout",
     "output_type": "stream",
     "text": [
      "31.3 0.6\n"
     ]
    }
   ],
   "source": [
    "report_scores(y_test,norm_model)"
   ]
  },
  {
   "cell_type": "code",
   "execution_count": 45,
   "metadata": {},
   "outputs": [
    {
     "name": "stdout",
     "output_type": "stream",
     "text": [
      "35.4 0.6\n"
     ]
    }
   ],
   "source": [
    "report_scores(y_test,non_norm_model)"
   ]
  },
  {
   "cell_type": "markdown",
   "metadata": {},
   "source": [
    "El modelo normalizado, tiene un mejor Promedio Error Cuadratico por lo cual es un mejor modelo"
   ]
  },
  {
   "cell_type": "markdown",
   "metadata": {},
   "source": [
    "# Desafío 5: Refactorización del modelo"
   ]
  },
  {
   "cell_type": "code",
   "execution_count": 50,
   "metadata": {},
   "outputs": [],
   "source": [
    "def fetch_features(df , vector = 'medv'):\n",
    "    columns = df.columns\n",
    "    attr_name,pearson_r,abs_pearson_r = [],[],[]\n",
    "\n",
    "    for col in columns:\n",
    "        if col != vector:\n",
    "            attr_name.append(col)\n",
    "            pearson_r.append(df[col].corr(df[vector]))\n",
    "            abs_pearson_r.append(abs(df[col].corr(df[vector])))\n",
    "    features = pd.DataFrame(\n",
    "        {'attribute': attr_name,\n",
    "        'corr': pearson_r,\n",
    "        'abs_corr': abs_pearson_r}\n",
    "    )   \n",
    "\n",
    "    features = features.set_index('attribute')\n",
    "    return features.sort_values(by=['abs_corr'], ascending =False)"
   ]
  },
  {
   "cell_type": "code",
   "execution_count": 51,
   "metadata": {},
   "outputs": [
    {
     "data": {
      "text/html": [
       "<div>\n",
       "<style scoped>\n",
       "    .dataframe tbody tr th:only-of-type {\n",
       "        vertical-align: middle;\n",
       "    }\n",
       "\n",
       "    .dataframe tbody tr th {\n",
       "        vertical-align: top;\n",
       "    }\n",
       "\n",
       "    .dataframe thead th {\n",
       "        text-align: right;\n",
       "    }\n",
       "</style>\n",
       "<table border=\"1\" class=\"dataframe\">\n",
       "  <thead>\n",
       "    <tr style=\"text-align: right;\">\n",
       "      <th></th>\n",
       "      <th>corr</th>\n",
       "      <th>abs_corr</th>\n",
       "    </tr>\n",
       "    <tr>\n",
       "      <th>attribute</th>\n",
       "      <th></th>\n",
       "      <th></th>\n",
       "    </tr>\n",
       "  </thead>\n",
       "  <tbody>\n",
       "    <tr>\n",
       "      <th>lstat</th>\n",
       "      <td>-0.737663</td>\n",
       "      <td>0.737663</td>\n",
       "    </tr>\n",
       "    <tr>\n",
       "      <th>rm</th>\n",
       "      <td>0.695360</td>\n",
       "      <td>0.695360</td>\n",
       "    </tr>\n",
       "    <tr>\n",
       "      <th>ptratio</th>\n",
       "      <td>-0.507787</td>\n",
       "      <td>0.507787</td>\n",
       "    </tr>\n",
       "    <tr>\n",
       "      <th>indus</th>\n",
       "      <td>-0.483725</td>\n",
       "      <td>0.483725</td>\n",
       "    </tr>\n",
       "    <tr>\n",
       "      <th>tax</th>\n",
       "      <td>-0.468536</td>\n",
       "      <td>0.468536</td>\n",
       "    </tr>\n",
       "    <tr>\n",
       "      <th>nox</th>\n",
       "      <td>-0.427321</td>\n",
       "      <td>0.427321</td>\n",
       "    </tr>\n",
       "    <tr>\n",
       "      <th>crim</th>\n",
       "      <td>-0.388305</td>\n",
       "      <td>0.388305</td>\n",
       "    </tr>\n",
       "    <tr>\n",
       "      <th>rad</th>\n",
       "      <td>-0.381626</td>\n",
       "      <td>0.381626</td>\n",
       "    </tr>\n",
       "    <tr>\n",
       "      <th>age</th>\n",
       "      <td>-0.376955</td>\n",
       "      <td>0.376955</td>\n",
       "    </tr>\n",
       "    <tr>\n",
       "      <th>zn</th>\n",
       "      <td>0.360445</td>\n",
       "      <td>0.360445</td>\n",
       "    </tr>\n",
       "    <tr>\n",
       "      <th>black</th>\n",
       "      <td>0.333461</td>\n",
       "      <td>0.333461</td>\n",
       "    </tr>\n",
       "    <tr>\n",
       "      <th>dis</th>\n",
       "      <td>0.249929</td>\n",
       "      <td>0.249929</td>\n",
       "    </tr>\n",
       "    <tr>\n",
       "      <th>chas</th>\n",
       "      <td>0.175260</td>\n",
       "      <td>0.175260</td>\n",
       "    </tr>\n",
       "  </tbody>\n",
       "</table>\n",
       "</div>"
      ],
      "text/plain": [
       "               corr  abs_corr\n",
       "attribute                    \n",
       "lstat     -0.737663  0.737663\n",
       "rm         0.695360  0.695360\n",
       "ptratio   -0.507787  0.507787\n",
       "indus     -0.483725  0.483725\n",
       "tax       -0.468536  0.468536\n",
       "nox       -0.427321  0.427321\n",
       "crim      -0.388305  0.388305\n",
       "rad       -0.381626  0.381626\n",
       "age       -0.376955  0.376955\n",
       "zn         0.360445  0.360445\n",
       "black      0.333461  0.333461\n",
       "dis        0.249929  0.249929\n",
       "chas       0.175260  0.175260"
      ]
     },
     "execution_count": 51,
     "metadata": {},
     "output_type": "execute_result"
    }
   ],
   "source": [
    "fetch_features(df,'medv')"
   ]
  },
  {
   "cell_type": "markdown",
   "metadata": {},
   "source": [
    "El modelo se ajusta bien con las variables, istat , rm ,ptratio,indus,tax,nox"
   ]
  },
  {
   "cell_type": "markdown",
   "metadata": {},
   "source": [
    "# Desafío 6: Refactorización del modelo predictivo"
   ]
  },
  {
   "cell_type": "code",
   "execution_count": 53,
   "metadata": {},
   "outputs": [
    {
     "data": {
      "text/html": [
       "<div>\n",
       "<style scoped>\n",
       "    .dataframe tbody tr th:only-of-type {\n",
       "        vertical-align: middle;\n",
       "    }\n",
       "\n",
       "    .dataframe tbody tr th {\n",
       "        vertical-align: top;\n",
       "    }\n",
       "\n",
       "    .dataframe thead th {\n",
       "        text-align: right;\n",
       "    }\n",
       "</style>\n",
       "<table border=\"1\" class=\"dataframe\">\n",
       "  <thead>\n",
       "    <tr style=\"text-align: right;\">\n",
       "      <th></th>\n",
       "      <th>crim</th>\n",
       "      <th>zn</th>\n",
       "      <th>indus</th>\n",
       "      <th>chas</th>\n",
       "      <th>nox</th>\n",
       "      <th>rm</th>\n",
       "      <th>age</th>\n",
       "      <th>dis</th>\n",
       "      <th>rad</th>\n",
       "      <th>tax</th>\n",
       "      <th>ptratio</th>\n",
       "      <th>black</th>\n",
       "      <th>lstat</th>\n",
       "      <th>medv</th>\n",
       "    </tr>\n",
       "  </thead>\n",
       "  <tbody>\n",
       "    <tr>\n",
       "      <th>0</th>\n",
       "      <td>0.00632</td>\n",
       "      <td>18.0</td>\n",
       "      <td>2.31</td>\n",
       "      <td>0</td>\n",
       "      <td>0.538</td>\n",
       "      <td>6.575</td>\n",
       "      <td>65.2</td>\n",
       "      <td>4.0900</td>\n",
       "      <td>1</td>\n",
       "      <td>296</td>\n",
       "      <td>15.3</td>\n",
       "      <td>396.90</td>\n",
       "      <td>4.98</td>\n",
       "      <td>24.0</td>\n",
       "    </tr>\n",
       "    <tr>\n",
       "      <th>1</th>\n",
       "      <td>0.02731</td>\n",
       "      <td>0.0</td>\n",
       "      <td>7.07</td>\n",
       "      <td>0</td>\n",
       "      <td>0.469</td>\n",
       "      <td>6.421</td>\n",
       "      <td>78.9</td>\n",
       "      <td>4.9671</td>\n",
       "      <td>2</td>\n",
       "      <td>242</td>\n",
       "      <td>17.8</td>\n",
       "      <td>396.90</td>\n",
       "      <td>9.14</td>\n",
       "      <td>21.6</td>\n",
       "    </tr>\n",
       "    <tr>\n",
       "      <th>2</th>\n",
       "      <td>0.02729</td>\n",
       "      <td>0.0</td>\n",
       "      <td>7.07</td>\n",
       "      <td>0</td>\n",
       "      <td>0.469</td>\n",
       "      <td>7.185</td>\n",
       "      <td>61.1</td>\n",
       "      <td>4.9671</td>\n",
       "      <td>2</td>\n",
       "      <td>242</td>\n",
       "      <td>17.8</td>\n",
       "      <td>392.83</td>\n",
       "      <td>4.03</td>\n",
       "      <td>34.7</td>\n",
       "    </tr>\n",
       "    <tr>\n",
       "      <th>3</th>\n",
       "      <td>0.03237</td>\n",
       "      <td>0.0</td>\n",
       "      <td>2.18</td>\n",
       "      <td>0</td>\n",
       "      <td>0.458</td>\n",
       "      <td>6.998</td>\n",
       "      <td>45.8</td>\n",
       "      <td>6.0622</td>\n",
       "      <td>3</td>\n",
       "      <td>222</td>\n",
       "      <td>18.7</td>\n",
       "      <td>394.63</td>\n",
       "      <td>2.94</td>\n",
       "      <td>33.4</td>\n",
       "    </tr>\n",
       "    <tr>\n",
       "      <th>4</th>\n",
       "      <td>0.06905</td>\n",
       "      <td>0.0</td>\n",
       "      <td>2.18</td>\n",
       "      <td>0</td>\n",
       "      <td>0.458</td>\n",
       "      <td>7.147</td>\n",
       "      <td>54.2</td>\n",
       "      <td>6.0622</td>\n",
       "      <td>3</td>\n",
       "      <td>222</td>\n",
       "      <td>18.7</td>\n",
       "      <td>396.90</td>\n",
       "      <td>5.33</td>\n",
       "      <td>36.2</td>\n",
       "    </tr>\n",
       "  </tbody>\n",
       "</table>\n",
       "</div>"
      ],
      "text/plain": [
       "      crim    zn  indus  chas    nox     rm   age     dis  rad  tax  ptratio  \\\n",
       "0  0.00632  18.0   2.31     0  0.538  6.575  65.2  4.0900    1  296     15.3   \n",
       "1  0.02731   0.0   7.07     0  0.469  6.421  78.9  4.9671    2  242     17.8   \n",
       "2  0.02729   0.0   7.07     0  0.469  7.185  61.1  4.9671    2  242     17.8   \n",
       "3  0.03237   0.0   2.18     0  0.458  6.998  45.8  6.0622    3  222     18.7   \n",
       "4  0.06905   0.0   2.18     0  0.458  7.147  54.2  6.0622    3  222     18.7   \n",
       "\n",
       "    black  lstat  medv  \n",
       "0  396.90   4.98  24.0  \n",
       "1  396.90   9.14  21.6  \n",
       "2  392.83   4.03  34.7  \n",
       "3  394.63   2.94  33.4  \n",
       "4  396.90   5.33  36.2  "
      ]
     },
     "execution_count": 53,
     "metadata": {},
     "output_type": "execute_result"
    }
   ],
   "source": [
    "df.head()"
   ]
  },
  {
   "cell_type": "code",
   "execution_count": 59,
   "metadata": {},
   "outputs": [],
   "source": [
    "df_opt = df.loc[:,['lstat','rm','ptratio','indus','tax','nox','medv']]"
   ]
  },
  {
   "cell_type": "code",
   "execution_count": 60,
   "metadata": {},
   "outputs": [],
   "source": [
    "y_vec = df_opt['medv']\n",
    "X_mat = df_opt.drop('medv', axis=1)"
   ]
  },
  {
   "cell_type": "code",
   "execution_count": 61,
   "metadata": {},
   "outputs": [],
   "source": [
    "X_train, X_test , y_train , y_test = train_test_split(X_mat ,y_vec,test_size=.33 , random_state=553)"
   ]
  },
  {
   "cell_type": "code",
   "execution_count": 63,
   "metadata": {},
   "outputs": [],
   "source": [
    "norm_model_opt = LinearRegression().fit(X_train,y_train).predict(X_test)"
   ]
  },
  {
   "cell_type": "code",
   "execution_count": 64,
   "metadata": {},
   "outputs": [
    {
     "data": {
      "text/plain": [
       "array([26.37863262, 11.18331235, 29.79466007, 26.86813327, 20.30257133,\n",
       "       14.4590943 , 27.69365033, 27.58505116, 34.29875253, 17.70448631,\n",
       "       12.60611427, 21.63913447, 19.26028303, 17.02209745, 34.88743797,\n",
       "       24.92452573, 24.05780241, 12.91065287, 27.95799876, 24.83048992,\n",
       "       27.58963296, 16.68852875, 42.43890933, 34.72846533, 19.23428291,\n",
       "       31.18226155, 27.59934105, 20.56934517, 22.79598122, 30.02920031,\n",
       "       29.88736225, 18.70973825, 22.74555563, 14.92894596, 12.34212188,\n",
       "       30.93214538, 32.41503941, 24.98245636, 22.62842193, 28.84029878,\n",
       "       19.33946212, 24.25844585, 21.56599567, 40.57192662, 22.63211442,\n",
       "       32.94497282, 21.60586681, 25.88368355, 18.54290928, 21.00516146,\n",
       "       30.07440719, 20.83055067, 37.88284119, 17.23995776, 27.62968267,\n",
       "       25.16119883, 16.7678885 , 31.66223187, 20.59137704,  9.9627843 ,\n",
       "       25.30967005, 27.7399966 , 31.9393584 , 30.73801441, 37.04893752,\n",
       "       27.86762392, 16.54872191, 31.0015025 , 21.11968237, 22.69519818,\n",
       "       17.45974804, 30.38532067, 16.84840749, 18.69104592, 30.71013006,\n",
       "       19.33924798, 18.10956216, 22.45628729, 39.79517991, 31.91193628,\n",
       "       25.35429504, 25.81555677, 23.37030319, 29.33663402, 37.99956595,\n",
       "       14.78873564, 33.80039703, 27.42133714, 18.22568982, 12.00683847,\n",
       "       19.90501833, 24.81346792, 18.45789039, 29.80430265, 15.85496664,\n",
       "       26.52950487, 16.55062145,  3.63457828, 17.34205588, 24.00569647,\n",
       "       22.88509124, 14.51522975, 30.56707759,  6.55000985, 19.38768509,\n",
       "       17.10359042, 16.28598932, 25.17567053, 11.34300661, 18.67516333,\n",
       "       21.82654609, 27.16316084, 32.50218556, 20.35613326, 17.28197008,\n",
       "       16.30677429,  9.11980976, 34.73856029, 27.8399765 , 20.16903036,\n",
       "       14.55296825, 23.83683887,  4.62178046, 20.40848587, 18.44136299,\n",
       "       20.22288528, 35.71179848, 20.43403833, 17.36006226, 22.14105726,\n",
       "       19.13559878, 23.78255527, 19.35882198, 21.10531817, 14.65834735,\n",
       "       21.96413377, 39.16187104, 24.61180182, 25.55510989, 17.04376561,\n",
       "       36.21916938, 28.04819134, 17.18744794, 23.96457477, 13.74874735,\n",
       "        0.82559544,  1.70960923, 25.58739661, 20.27238442, 16.02116991,\n",
       "       15.90546765, 21.1588432 , 19.78347288, 18.2611815 , 31.00700773,\n",
       "       19.40986233, 18.88057242, 21.65961128, 18.59955771, 32.58689919,\n",
       "       10.17054248, 30.44037888, 16.06751598, 19.31763842, 25.08514545,\n",
       "       25.00462902, 28.13305183])"
      ]
     },
     "execution_count": 64,
     "metadata": {},
     "output_type": "execute_result"
    }
   ],
   "source": [
    "norm_model_opt"
   ]
  },
  {
   "cell_type": "code",
   "execution_count": 65,
   "metadata": {},
   "outputs": [
    {
     "name": "stdout",
     "output_type": "stream",
     "text": [
      "34.4 0.6\n"
     ]
    }
   ],
   "source": [
    "report_scores(y_test,norm_model_opt)"
   ]
  },
  {
   "cell_type": "code",
   "execution_count": null,
   "metadata": {},
   "outputs": [],
   "source": []
  }
 ],
 "metadata": {
  "kernelspec": {
   "display_name": "Python 3",
   "language": "python",
   "name": "python3"
  },
  "language_info": {
   "codemirror_mode": {
    "name": "ipython",
    "version": 3
   },
   "file_extension": ".py",
   "mimetype": "text/x-python",
   "name": "python",
   "nbconvert_exporter": "python",
   "pygments_lexer": "ipython3",
   "version": "3.7.3"
  }
 },
 "nbformat": 4,
 "nbformat_minor": 2
}
