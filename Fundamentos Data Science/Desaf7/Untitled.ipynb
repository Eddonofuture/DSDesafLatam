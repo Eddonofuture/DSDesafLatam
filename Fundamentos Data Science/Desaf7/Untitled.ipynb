{
 "cells": [
  {
   "cell_type": "markdown",
   "metadata": {},
   "source": [
    "# Felipe Veloso Desaf7"
   ]
  },
  {
   "cell_type": "code",
   "execution_count": 21,
   "metadata": {},
   "outputs": [],
   "source": [
    "import numpy as np\n",
    "import matplotlib.pyplot as plt\n",
    "import pandas as pd\n",
    "from sklearn.model_selection import train_test_split\n",
    "%matplotlib inline"
   ]
  },
  {
   "cell_type": "code",
   "execution_count": 10,
   "metadata": {},
   "outputs": [
    {
     "data": {
      "text/html": [
       "<div>\n",
       "<style scoped>\n",
       "    .dataframe tbody tr th:only-of-type {\n",
       "        vertical-align: middle;\n",
       "    }\n",
       "\n",
       "    .dataframe tbody tr th {\n",
       "        vertical-align: top;\n",
       "    }\n",
       "\n",
       "    .dataframe thead th {\n",
       "        text-align: right;\n",
       "    }\n",
       "</style>\n",
       "<table border=\"1\" class=\"dataframe\">\n",
       "  <thead>\n",
       "    <tr style=\"text-align: right;\">\n",
       "      <th></th>\n",
       "      <th>ccode</th>\n",
       "      <th>cname</th>\n",
       "      <th>ccodealp</th>\n",
       "      <th>ccodecow</th>\n",
       "      <th>ccodewb</th>\n",
       "      <th>version</th>\n",
       "      <th>aid_cpnc</th>\n",
       "      <th>aid_cpsc</th>\n",
       "      <th>aid_crnc</th>\n",
       "      <th>aid_crnio</th>\n",
       "      <th>...</th>\n",
       "      <th>wvs_relacc</th>\n",
       "      <th>wvs_relsch</th>\n",
       "      <th>wvs_relsci</th>\n",
       "      <th>wvs_satfin</th>\n",
       "      <th>wvs_satlif</th>\n",
       "      <th>wvs_screl</th>\n",
       "      <th>wvs_subh</th>\n",
       "      <th>wvs_survself</th>\n",
       "      <th>wvs_tradrat</th>\n",
       "      <th>wvs_trust</th>\n",
       "    </tr>\n",
       "  </thead>\n",
       "  <tbody>\n",
       "    <tr>\n",
       "      <th>0</th>\n",
       "      <td>4</td>\n",
       "      <td>Afghanistan</td>\n",
       "      <td>AFG</td>\n",
       "      <td>700.0</td>\n",
       "      <td>4.0</td>\n",
       "      <td>QoGStdCSJan18</td>\n",
       "      <td>NaN</td>\n",
       "      <td>NaN</td>\n",
       "      <td>29.0</td>\n",
       "      <td>13.0</td>\n",
       "      <td>...</td>\n",
       "      <td>NaN</td>\n",
       "      <td>NaN</td>\n",
       "      <td>NaN</td>\n",
       "      <td>NaN</td>\n",
       "      <td>NaN</td>\n",
       "      <td>NaN</td>\n",
       "      <td>NaN</td>\n",
       "      <td>NaN</td>\n",
       "      <td>NaN</td>\n",
       "      <td>NaN</td>\n",
       "    </tr>\n",
       "    <tr>\n",
       "      <th>1</th>\n",
       "      <td>8</td>\n",
       "      <td>Albania</td>\n",
       "      <td>ALB</td>\n",
       "      <td>339.0</td>\n",
       "      <td>8.0</td>\n",
       "      <td>QoGStdCSJan18</td>\n",
       "      <td>NaN</td>\n",
       "      <td>NaN</td>\n",
       "      <td>26.0</td>\n",
       "      <td>13.0</td>\n",
       "      <td>...</td>\n",
       "      <td>NaN</td>\n",
       "      <td>NaN</td>\n",
       "      <td>NaN</td>\n",
       "      <td>NaN</td>\n",
       "      <td>NaN</td>\n",
       "      <td>NaN</td>\n",
       "      <td>NaN</td>\n",
       "      <td>NaN</td>\n",
       "      <td>NaN</td>\n",
       "      <td>NaN</td>\n",
       "    </tr>\n",
       "    <tr>\n",
       "      <th>2</th>\n",
       "      <td>12</td>\n",
       "      <td>Algeria</td>\n",
       "      <td>DZA</td>\n",
       "      <td>615.0</td>\n",
       "      <td>12.0</td>\n",
       "      <td>QoGStdCSJan18</td>\n",
       "      <td>NaN</td>\n",
       "      <td>NaN</td>\n",
       "      <td>21.0</td>\n",
       "      <td>6.0</td>\n",
       "      <td>...</td>\n",
       "      <td>3.710616</td>\n",
       "      <td>1.704692</td>\n",
       "      <td>3.681347</td>\n",
       "      <td>5.988125</td>\n",
       "      <td>6.301029</td>\n",
       "      <td>5.339371</td>\n",
       "      <td>3.805579</td>\n",
       "      <td>-0.409807</td>\n",
       "      <td>-0.498164</td>\n",
       "      <td>0.179286</td>\n",
       "    </tr>\n",
       "    <tr>\n",
       "      <th>3</th>\n",
       "      <td>20</td>\n",
       "      <td>Andorra</td>\n",
       "      <td>AND</td>\n",
       "      <td>232.0</td>\n",
       "      <td>20.0</td>\n",
       "      <td>QoGStdCSJan18</td>\n",
       "      <td>NaN</td>\n",
       "      <td>NaN</td>\n",
       "      <td>NaN</td>\n",
       "      <td>NaN</td>\n",
       "      <td>...</td>\n",
       "      <td>NaN</td>\n",
       "      <td>NaN</td>\n",
       "      <td>NaN</td>\n",
       "      <td>NaN</td>\n",
       "      <td>NaN</td>\n",
       "      <td>NaN</td>\n",
       "      <td>NaN</td>\n",
       "      <td>NaN</td>\n",
       "      <td>NaN</td>\n",
       "      <td>NaN</td>\n",
       "    </tr>\n",
       "    <tr>\n",
       "      <th>4</th>\n",
       "      <td>24</td>\n",
       "      <td>Angola</td>\n",
       "      <td>AGO</td>\n",
       "      <td>540.0</td>\n",
       "      <td>24.0</td>\n",
       "      <td>QoGStdCSJan18</td>\n",
       "      <td>NaN</td>\n",
       "      <td>NaN</td>\n",
       "      <td>22.0</td>\n",
       "      <td>13.0</td>\n",
       "      <td>...</td>\n",
       "      <td>NaN</td>\n",
       "      <td>NaN</td>\n",
       "      <td>NaN</td>\n",
       "      <td>NaN</td>\n",
       "      <td>NaN</td>\n",
       "      <td>NaN</td>\n",
       "      <td>NaN</td>\n",
       "      <td>NaN</td>\n",
       "      <td>NaN</td>\n",
       "      <td>NaN</td>\n",
       "    </tr>\n",
       "  </tbody>\n",
       "</table>\n",
       "<p>5 rows × 1882 columns</p>\n",
       "</div>"
      ],
      "text/plain": [
       "   ccode        cname ccodealp  ccodecow  ccodewb        version  aid_cpnc  \\\n",
       "0      4  Afghanistan      AFG     700.0      4.0  QoGStdCSJan18       NaN   \n",
       "1      8      Albania      ALB     339.0      8.0  QoGStdCSJan18       NaN   \n",
       "2     12      Algeria      DZA     615.0     12.0  QoGStdCSJan18       NaN   \n",
       "3     20      Andorra      AND     232.0     20.0  QoGStdCSJan18       NaN   \n",
       "4     24       Angola      AGO     540.0     24.0  QoGStdCSJan18       NaN   \n",
       "\n",
       "   aid_cpsc  aid_crnc  aid_crnio    ...      wvs_relacc  wvs_relsch  \\\n",
       "0       NaN      29.0       13.0    ...             NaN         NaN   \n",
       "1       NaN      26.0       13.0    ...             NaN         NaN   \n",
       "2       NaN      21.0        6.0    ...        3.710616    1.704692   \n",
       "3       NaN       NaN        NaN    ...             NaN         NaN   \n",
       "4       NaN      22.0       13.0    ...             NaN         NaN   \n",
       "\n",
       "   wvs_relsci  wvs_satfin  wvs_satlif  wvs_screl  wvs_subh  wvs_survself  \\\n",
       "0         NaN         NaN         NaN        NaN       NaN           NaN   \n",
       "1         NaN         NaN         NaN        NaN       NaN           NaN   \n",
       "2    3.681347    5.988125    6.301029   5.339371  3.805579     -0.409807   \n",
       "3         NaN         NaN         NaN        NaN       NaN           NaN   \n",
       "4         NaN         NaN         NaN        NaN       NaN           NaN   \n",
       "\n",
       "   wvs_tradrat  wvs_trust  \n",
       "0          NaN        NaN  \n",
       "1          NaN        NaN  \n",
       "2    -0.498164   0.179286  \n",
       "3          NaN        NaN  \n",
       "4          NaN        NaN  \n",
       "\n",
       "[5 rows x 1882 columns]"
      ]
     },
     "execution_count": 10,
     "metadata": {},
     "output_type": "execute_result"
    }
   ],
   "source": [
    "df = pd.read_csv(\"qog_std_cs_jan18.csv\")\n",
    "df.head()"
   ]
  },
  {
   "cell_type": "code",
   "execution_count": 116,
   "metadata": {},
   "outputs": [],
   "source": [
    "np.random.seed(4757)"
   ]
  },
  {
   "cell_type": "code",
   "execution_count": 117,
   "metadata": {},
   "outputs": [],
   "source": [
    "df1 = df.sample(int(df.shape[0]/2))"
   ]
  },
  {
   "cell_type": "code",
   "execution_count": 118,
   "metadata": {},
   "outputs": [],
   "source": [
    "df1_filter = df1.loc[:,['undp_hdi','ccodealp','ht_region','gle_cgdpc','imf_pop','wef_imort','who_alc2000','who_tobt','wdi_exph']]"
   ]
  },
  {
   "cell_type": "code",
   "execution_count": 119,
   "metadata": {},
   "outputs": [
    {
     "data": {
      "text/html": [
       "<div>\n",
       "<style scoped>\n",
       "    .dataframe tbody tr th:only-of-type {\n",
       "        vertical-align: middle;\n",
       "    }\n",
       "\n",
       "    .dataframe tbody tr th {\n",
       "        vertical-align: top;\n",
       "    }\n",
       "\n",
       "    .dataframe thead th {\n",
       "        text-align: right;\n",
       "    }\n",
       "</style>\n",
       "<table border=\"1\" class=\"dataframe\">\n",
       "  <thead>\n",
       "    <tr style=\"text-align: right;\">\n",
       "      <th></th>\n",
       "      <th>undp_hdi</th>\n",
       "      <th>ccodealp</th>\n",
       "      <th>ht_region</th>\n",
       "      <th>gle_cgdpc</th>\n",
       "      <th>imf_pop</th>\n",
       "      <th>wef_imort</th>\n",
       "      <th>who_alc2000</th>\n",
       "      <th>who_tobt</th>\n",
       "      <th>wdi_exph</th>\n",
       "      <th>region</th>\n",
       "    </tr>\n",
       "  </thead>\n",
       "  <tbody>\n",
       "    <tr>\n",
       "      <th>116</th>\n",
       "      <td>0.414</td>\n",
       "      <td>MOZ</td>\n",
       "      <td>4</td>\n",
       "      <td>852.39001</td>\n",
       "      <td>25.733000</td>\n",
       "      <td>63.099998</td>\n",
       "      <td>1.16</td>\n",
       "      <td>18.799999</td>\n",
       "      <td>6.975582</td>\n",
       "      <td>SubSaharian</td>\n",
       "    </tr>\n",
       "    <tr>\n",
       "      <th>153</th>\n",
       "      <td>0.781</td>\n",
       "      <td>SYC</td>\n",
       "      <td>4</td>\n",
       "      <td>9583.32030</td>\n",
       "      <td>0.090000</td>\n",
       "      <td>11.200000</td>\n",
       "      <td>9.72</td>\n",
       "      <td>26.700001</td>\n",
       "      <td>3.369817</td>\n",
       "      <td>SubSaharian</td>\n",
       "    </tr>\n",
       "    <tr>\n",
       "      <th>23</th>\n",
       "      <td>0.864</td>\n",
       "      <td>BRN</td>\n",
       "      <td>7</td>\n",
       "      <td>46103.84000</td>\n",
       "      <td>0.412000</td>\n",
       "      <td>5.600000</td>\n",
       "      <td>0.97</td>\n",
       "      <td>16.400000</td>\n",
       "      <td>2.648163</td>\n",
       "      <td>SouthEastAsia</td>\n",
       "    </tr>\n",
       "    <tr>\n",
       "      <th>181</th>\n",
       "      <td>0.748</td>\n",
       "      <td>UKR</td>\n",
       "      <td>1</td>\n",
       "      <td>9326.71970</td>\n",
       "      <td>42.759998</td>\n",
       "      <td>9.200000</td>\n",
       "      <td>8.06</td>\n",
       "      <td>30.700001</td>\n",
       "      <td>7.095736</td>\n",
       "      <td>EastEurope</td>\n",
       "    </tr>\n",
       "    <tr>\n",
       "      <th>68</th>\n",
       "      <td>0.751</td>\n",
       "      <td>GRD</td>\n",
       "      <td>10</td>\n",
       "      <td>8314.55960</td>\n",
       "      <td>NaN</td>\n",
       "      <td>NaN</td>\n",
       "      <td>8.42</td>\n",
       "      <td>NaN</td>\n",
       "      <td>6.097614</td>\n",
       "      <td>Car</td>\n",
       "    </tr>\n",
       "  </tbody>\n",
       "</table>\n",
       "</div>"
      ],
      "text/plain": [
       "     undp_hdi ccodealp  ht_region    gle_cgdpc    imf_pop  wef_imort  \\\n",
       "116     0.414      MOZ          4    852.39001  25.733000  63.099998   \n",
       "153     0.781      SYC          4   9583.32030   0.090000  11.200000   \n",
       "23      0.864      BRN          7  46103.84000   0.412000   5.600000   \n",
       "181     0.748      UKR          1   9326.71970  42.759998   9.200000   \n",
       "68      0.751      GRD         10   8314.55960        NaN        NaN   \n",
       "\n",
       "     who_alc2000   who_tobt  wdi_exph         region  \n",
       "116         1.16  18.799999  6.975582    SubSaharian  \n",
       "153         9.72  26.700001  3.369817    SubSaharian  \n",
       "23          0.97  16.400000  2.648163  SouthEastAsia  \n",
       "181         8.06  30.700001  7.095736     EastEurope  \n",
       "68          8.42        NaN  6.097614            Car  "
      ]
     },
     "execution_count": 119,
     "metadata": {},
     "output_type": "execute_result"
    }
   ],
   "source": [
    "df1_filter['region'] = df1_filter['ht_region'].replace([1,2,3,4,5,6,7,8,9,10],\n",
    "    ['EastEurope','LatAm','NorthAfrica','SubSaharian','WesternDem',\"EastAsia\",\"SouthEastAsia\",'SouthAsia','Pacific','Car'])\n",
    "df1_filter.head()"
   ]
  },
  {
   "cell_type": "markdown",
   "metadata": {},
   "source": [
    "2. Genere una función que ingrese su objeto y devuelva"
   ]
  },
  {
   "cell_type": "code",
   "execution_count": 155,
   "metadata": {},
   "outputs": [
    {
     "data": {
      "text/html": [
       "<div>\n",
       "<style scoped>\n",
       "    .dataframe tbody tr th:only-of-type {\n",
       "        vertical-align: middle;\n",
       "    }\n",
       "\n",
       "    .dataframe tbody tr th {\n",
       "        vertical-align: top;\n",
       "    }\n",
       "\n",
       "    .dataframe thead th {\n",
       "        text-align: right;\n",
       "    }\n",
       "</style>\n",
       "<table border=\"1\" class=\"dataframe\">\n",
       "  <thead>\n",
       "    <tr style=\"text-align: right;\">\n",
       "      <th></th>\n",
       "      <th>undp_hdi</th>\n",
       "      <th>ccodealp</th>\n",
       "      <th>ht_region</th>\n",
       "      <th>gle_cgdpc</th>\n",
       "      <th>imf_pop</th>\n",
       "      <th>wef_imort</th>\n",
       "      <th>who_alc2000</th>\n",
       "      <th>who_tobt</th>\n",
       "      <th>wdi_exph</th>\n",
       "      <th>region</th>\n",
       "    </tr>\n",
       "  </thead>\n",
       "  <tbody>\n",
       "    <tr>\n",
       "      <th>116</th>\n",
       "      <td>0.414</td>\n",
       "      <td>MOZ</td>\n",
       "      <td>4</td>\n",
       "      <td>852.39001</td>\n",
       "      <td>25.733000</td>\n",
       "      <td>63.099998</td>\n",
       "      <td>1.16</td>\n",
       "      <td>18.799999</td>\n",
       "      <td>6.975582</td>\n",
       "      <td>SubSaharian</td>\n",
       "    </tr>\n",
       "    <tr>\n",
       "      <th>153</th>\n",
       "      <td>0.781</td>\n",
       "      <td>SYC</td>\n",
       "      <td>4</td>\n",
       "      <td>9583.32030</td>\n",
       "      <td>0.090000</td>\n",
       "      <td>11.200000</td>\n",
       "      <td>9.72</td>\n",
       "      <td>26.700001</td>\n",
       "      <td>3.369817</td>\n",
       "      <td>SubSaharian</td>\n",
       "    </tr>\n",
       "    <tr>\n",
       "      <th>23</th>\n",
       "      <td>0.864</td>\n",
       "      <td>BRN</td>\n",
       "      <td>7</td>\n",
       "      <td>46103.84000</td>\n",
       "      <td>0.412000</td>\n",
       "      <td>5.600000</td>\n",
       "      <td>0.97</td>\n",
       "      <td>16.400000</td>\n",
       "      <td>2.648163</td>\n",
       "      <td>SouthEastAsia</td>\n",
       "    </tr>\n",
       "    <tr>\n",
       "      <th>181</th>\n",
       "      <td>0.748</td>\n",
       "      <td>UKR</td>\n",
       "      <td>1</td>\n",
       "      <td>9326.71970</td>\n",
       "      <td>42.759998</td>\n",
       "      <td>9.200000</td>\n",
       "      <td>8.06</td>\n",
       "      <td>30.700001</td>\n",
       "      <td>7.095736</td>\n",
       "      <td>EastEurope</td>\n",
       "    </tr>\n",
       "    <tr>\n",
       "      <th>68</th>\n",
       "      <td>0.751</td>\n",
       "      <td>GRD</td>\n",
       "      <td>10</td>\n",
       "      <td>8314.55960</td>\n",
       "      <td>NaN</td>\n",
       "      <td>NaN</td>\n",
       "      <td>8.42</td>\n",
       "      <td>NaN</td>\n",
       "      <td>6.097614</td>\n",
       "      <td>Car</td>\n",
       "    </tr>\n",
       "    <tr>\n",
       "      <th>114</th>\n",
       "      <td>0.804</td>\n",
       "      <td>MNE</td>\n",
       "      <td>1</td>\n",
       "      <td>14538.52000</td>\n",
       "      <td>0.622000</td>\n",
       "      <td>5.500000</td>\n",
       "      <td>6.56</td>\n",
       "      <td>NaN</td>\n",
       "      <td>6.416543</td>\n",
       "      <td>EastEurope</td>\n",
       "    </tr>\n",
       "    <tr>\n",
       "      <th>7</th>\n",
       "      <td>0.826</td>\n",
       "      <td>ARG</td>\n",
       "      <td>2</td>\n",
       "      <td>15102.61000</td>\n",
       "      <td>41.733002</td>\n",
       "      <td>12.700000</td>\n",
       "      <td>7.93</td>\n",
       "      <td>25.299999</td>\n",
       "      <td>4.785916</td>\n",
       "      <td>LatAm</td>\n",
       "    </tr>\n",
       "    <tr>\n",
       "      <th>102</th>\n",
       "      <td>0.511</td>\n",
       "      <td>MDG</td>\n",
       "      <td>4</td>\n",
       "      <td>822.62000</td>\n",
       "      <td>NaN</td>\n",
       "      <td>40.900002</td>\n",
       "      <td>0.87</td>\n",
       "      <td>NaN</td>\n",
       "      <td>3.041355</td>\n",
       "      <td>SubSaharian</td>\n",
       "    </tr>\n",
       "    <tr>\n",
       "      <th>27</th>\n",
       "      <td>0.798</td>\n",
       "      <td>BLR</td>\n",
       "      <td>1</td>\n",
       "      <td>17780.64100</td>\n",
       "      <td>9.468000</td>\n",
       "      <td>NaN</td>\n",
       "      <td>13.94</td>\n",
       "      <td>27.900000</td>\n",
       "      <td>5.687722</td>\n",
       "      <td>EastEurope</td>\n",
       "    </tr>\n",
       "    <tr>\n",
       "      <th>127</th>\n",
       "      <td>0.948</td>\n",
       "      <td>NOR</td>\n",
       "      <td>5</td>\n",
       "      <td>57634.77000</td>\n",
       "      <td>5.156000</td>\n",
       "      <td>2.200000</td>\n",
       "      <td>6.06</td>\n",
       "      <td>24.100000</td>\n",
       "      <td>9.719718</td>\n",
       "      <td>WesternDem</td>\n",
       "    </tr>\n",
       "  </tbody>\n",
       "</table>\n",
       "</div>"
      ],
      "text/plain": [
       "     undp_hdi ccodealp  ht_region    gle_cgdpc    imf_pop  wef_imort  \\\n",
       "116     0.414      MOZ          4    852.39001  25.733000  63.099998   \n",
       "153     0.781      SYC          4   9583.32030   0.090000  11.200000   \n",
       "23      0.864      BRN          7  46103.84000   0.412000   5.600000   \n",
       "181     0.748      UKR          1   9326.71970  42.759998   9.200000   \n",
       "68      0.751      GRD         10   8314.55960        NaN        NaN   \n",
       "114     0.804      MNE          1  14538.52000   0.622000   5.500000   \n",
       "7       0.826      ARG          2  15102.61000  41.733002  12.700000   \n",
       "102     0.511      MDG          4    822.62000        NaN  40.900002   \n",
       "27      0.798      BLR          1  17780.64100   9.468000        NaN   \n",
       "127     0.948      NOR          5  57634.77000   5.156000   2.200000   \n",
       "\n",
       "     who_alc2000   who_tobt  wdi_exph         region  \n",
       "116         1.16  18.799999  6.975582    SubSaharian  \n",
       "153         9.72  26.700001  3.369817    SubSaharian  \n",
       "23          0.97  16.400000  2.648163  SouthEastAsia  \n",
       "181         8.06  30.700001  7.095736     EastEurope  \n",
       "68          8.42        NaN  6.097614            Car  \n",
       "114         6.56        NaN  6.416543     EastEurope  \n",
       "7           7.93  25.299999  4.785916          LatAm  \n",
       "102         0.87        NaN  3.041355    SubSaharian  \n",
       "27         13.94  27.900000  5.687722     EastEurope  \n",
       "127         6.06  24.100000  9.719718     WesternDem  "
      ]
     },
     "execution_count": 155,
     "metadata": {},
     "output_type": "execute_result"
    }
   ],
   "source": [
    "df1_filter.describe()\n",
    "df1_filter.head(10)"
   ]
  },
  {
   "cell_type": "code",
   "execution_count": 121,
   "metadata": {},
   "outputs": [
    {
     "data": {
      "text/plain": [
       "count              97\n",
       "unique             10\n",
       "top       SubSaharian\n",
       "freq               29\n",
       "Name: region, dtype: object"
      ]
     },
     "execution_count": 121,
     "metadata": {},
     "output_type": "execute_result"
    }
   ],
   "source": [
    "df1_filter['region'].describe()"
   ]
  },
  {
   "cell_type": "code",
   "execution_count": 125,
   "metadata": {},
   "outputs": [
    {
     "data": {
      "text/plain": [
       "SubSaharian      29\n",
       "EastEurope       14\n",
       "WesternDem       11\n",
       "Car               7\n",
       "SouthEastAsia     7\n",
       "LatAm             7\n",
       "NorthAfrica       7\n",
       "Pacific           7\n",
       "SouthAsia         5\n",
       "EastAsia          3\n",
       "Name: region, dtype: int64"
      ]
     },
     "execution_count": 125,
     "metadata": {},
     "output_type": "execute_result"
    }
   ],
   "source": [
    "df1_filter['region'].value_counts()"
   ]
  },
  {
   "cell_type": "code",
   "execution_count": 128,
   "metadata": {},
   "outputs": [
    {
     "data": {
      "text/html": [
       "<div>\n",
       "<style scoped>\n",
       "    .dataframe tbody tr th:only-of-type {\n",
       "        vertical-align: middle;\n",
       "    }\n",
       "\n",
       "    .dataframe tbody tr th {\n",
       "        vertical-align: top;\n",
       "    }\n",
       "\n",
       "    .dataframe thead th {\n",
       "        text-align: right;\n",
       "    }\n",
       "</style>\n",
       "<table border=\"1\" class=\"dataframe\">\n",
       "  <thead>\n",
       "    <tr style=\"text-align: right;\">\n",
       "      <th></th>\n",
       "      <th>gle_cgdpc</th>\n",
       "      <th>undp_hdi</th>\n",
       "      <th>imf_pop</th>\n",
       "    </tr>\n",
       "  </thead>\n",
       "  <tbody>\n",
       "    <tr>\n",
       "      <th>count</th>\n",
       "      <td>97.000000</td>\n",
       "      <td>94.000000</td>\n",
       "      <td>75.000000</td>\n",
       "    </tr>\n",
       "    <tr>\n",
       "      <th>mean</th>\n",
       "      <td>14300.990449</td>\n",
       "      <td>0.687606</td>\n",
       "      <td>29.842520</td>\n",
       "    </tr>\n",
       "    <tr>\n",
       "      <th>std</th>\n",
       "      <td>17719.368149</td>\n",
       "      <td>0.163937</td>\n",
       "      <td>48.429276</td>\n",
       "    </tr>\n",
       "    <tr>\n",
       "      <th>min</th>\n",
       "      <td>488.269990</td>\n",
       "      <td>0.347000</td>\n",
       "      <td>0.012000</td>\n",
       "    </tr>\n",
       "    <tr>\n",
       "      <th>25%</th>\n",
       "      <td>2113.060100</td>\n",
       "      <td>0.535750</td>\n",
       "      <td>1.288500</td>\n",
       "    </tr>\n",
       "    <tr>\n",
       "      <th>50%</th>\n",
       "      <td>8516.700200</td>\n",
       "      <td>0.726000</td>\n",
       "      <td>10.078000</td>\n",
       "    </tr>\n",
       "    <tr>\n",
       "      <th>75%</th>\n",
       "      <td>17780.641000</td>\n",
       "      <td>0.820750</td>\n",
       "      <td>31.693500</td>\n",
       "    </tr>\n",
       "    <tr>\n",
       "      <th>max</th>\n",
       "      <td>102243.520000</td>\n",
       "      <td>0.948000</td>\n",
       "      <td>252.164993</td>\n",
       "    </tr>\n",
       "  </tbody>\n",
       "</table>\n",
       "</div>"
      ],
      "text/plain": [
       "           gle_cgdpc   undp_hdi     imf_pop\n",
       "count      97.000000  94.000000   75.000000\n",
       "mean    14300.990449   0.687606   29.842520\n",
       "std     17719.368149   0.163937   48.429276\n",
       "min       488.269990   0.347000    0.012000\n",
       "25%      2113.060100   0.535750    1.288500\n",
       "50%      8516.700200   0.726000   10.078000\n",
       "75%     17780.641000   0.820750   31.693500\n",
       "max    102243.520000   0.948000  252.164993"
      ]
     },
     "execution_count": 128,
     "metadata": {},
     "output_type": "execute_result"
    }
   ],
   "source": [
    "df1_filter.loc[:, ['gle_cgdpc','undp_hdi','imf_pop']].describe()"
   ]
  },
  {
   "cell_type": "markdown",
   "metadata": {},
   "source": [
    "En comparacion a mi compañera erika, los valores difirieron en todos los casos, esto es en base a la data seleccionada aleatoria"
   ]
  },
  {
   "cell_type": "markdown",
   "metadata": {},
   "source": [
    "# 3. Genere una función que liste las observaciones perdidas de una variable"
   ]
  },
  {
   "cell_type": "code",
   "execution_count": 200,
   "metadata": {},
   "outputs": [
    {
     "ename": "SyntaxError",
     "evalue": "invalid syntax (<ipython-input-200-504b85f71920>, line 7)",
     "output_type": "error",
     "traceback": [
      "\u001b[0;36m  File \u001b[0;32m\"<ipython-input-200-504b85f71920>\"\u001b[0;36m, line \u001b[0;32m7\u001b[0m\n\u001b[0;31m    list = [dataFrame[dataFrame[var].isna()]['ccodealp']])\u001b[0m\n\u001b[0m                                                         ^\u001b[0m\n\u001b[0;31mSyntaxError\u001b[0m\u001b[0;31m:\u001b[0m invalid syntax\n"
     ]
    }
   ],
   "source": [
    "def funcion(dataFrame,var,print_list = False):\n",
    "    ''' Funcion que permite retornar la cantidad de casos perdidos y su % correspondiente'''\n",
    "    casos_perdidos = dataFrame[var].isnull().sum()\n",
    "    porcentaje = casos_perdidos/len(dataFrame)\n",
    "    \n",
    "    if(print_list == True):\n",
    "        list = [dataFrame[dataFrame[var].isna()]['ccodealp']])\n",
    "        print(list)\n",
    "    \n",
    "    return casos_perdidos,porcentaje"
   ]
  },
  {
   "cell_type": "code",
   "execution_count": 215,
   "metadata": {},
   "outputs": [
    {
     "data": {
      "text/plain": [
       "(3, 0.030927835051546393)"
      ]
     },
     "execution_count": 215,
     "metadata": {},
     "output_type": "execute_result"
    }
   ],
   "source": [
    "funcion(df1_filter,'undp_hdi')"
   ]
  },
  {
   "cell_type": "code",
   "execution_count": 216,
   "metadata": {},
   "outputs": [
    {
     "data": {
      "text/plain": [
       "(0, 0.0)"
      ]
     },
     "execution_count": 216,
     "metadata": {},
     "output_type": "execute_result"
    }
   ],
   "source": [
    "funcion(df1_filter,'ccodealp')"
   ]
  },
  {
   "cell_type": "code",
   "execution_count": 217,
   "metadata": {},
   "outputs": [
    {
     "data": {
      "text/plain": [
       "(0, 0.0)"
      ]
     },
     "execution_count": 217,
     "metadata": {},
     "output_type": "execute_result"
    }
   ],
   "source": [
    "funcion(df1_filter,'ht_region')"
   ]
  },
  {
   "cell_type": "code",
   "execution_count": 218,
   "metadata": {},
   "outputs": [
    {
     "data": {
      "text/plain": [
       "(0, 0.0)"
      ]
     },
     "execution_count": 218,
     "metadata": {},
     "output_type": "execute_result"
    }
   ],
   "source": [
    "funcion(df1_filter,'gle_cgdpc')"
   ]
  },
  {
   "cell_type": "code",
   "execution_count": 225,
   "metadata": {},
   "outputs": [
    {
     "name": "stdout",
     "output_type": "stream",
     "text": [
      "[68     GRD\n",
      "102    MDG\n",
      "53     GNQ\n",
      "149    STP\n",
      "34     TCD\n",
      "63     GMB\n",
      "76     IND\n",
      "42     CRI\n",
      "118    NAM\n",
      "192    YEM\n",
      "1      ALB\n",
      "193    ZMB\n",
      "29     CMR\n",
      "19     BWA\n",
      "32     CAF\n",
      "125    NER\n",
      "95     LSO\n",
      "61     GAB\n",
      "60     DJI\n",
      "97     LBR\n",
      "99     LIE\n",
      "175    ARE\n",
      "Name: ccodealp, dtype: object]\n"
     ]
    },
    {
     "data": {
      "text/plain": [
       "(22, 0.2268041237113402)"
      ]
     },
     "execution_count": 225,
     "metadata": {},
     "output_type": "execute_result"
    }
   ],
   "source": [
    "funcion(df1_filter,'imf_pop',True)"
   ]
  },
  {
   "cell_type": "code",
   "execution_count": 226,
   "metadata": {},
   "outputs": [
    {
     "name": "stdout",
     "output_type": "stream",
     "text": [
      "[68     GRD\n",
      "27     BLR\n",
      "53     GNQ\n",
      "149    STP\n",
      "119    NRU\n",
      "128    FSM\n",
      "129    MHL\n",
      "146    LCA\n",
      "122    VUT\n",
      "0      AFG\n",
      "133    PNG\n",
      "79     IRQ\n",
      "32     CAF\n",
      "191    WSM\n",
      "125    NER\n",
      "60     DJI\n",
      "172    TGO\n",
      "105    MDV\n",
      "22     SLB\n",
      "39     COM\n",
      "99     LIE\n",
      "189    UZB\n",
      "147    VCT\n",
      "Name: ccodealp, dtype: object]\n"
     ]
    },
    {
     "data": {
      "text/plain": [
       "(23, 0.23711340206185566)"
      ]
     },
     "execution_count": 226,
     "metadata": {},
     "output_type": "execute_result"
    }
   ],
   "source": [
    "funcion(df1_filter,'wef_imort',True)"
   ]
  },
  {
   "cell_type": "code",
   "execution_count": 221,
   "metadata": {},
   "outputs": [
    {
     "data": {
      "text/plain": [
       "(5, 0.05154639175257732)"
      ]
     },
     "execution_count": 221,
     "metadata": {},
     "output_type": "execute_result"
    }
   ],
   "source": [
    "funcion(df1_filter,'who_alc2000')"
   ]
  },
  {
   "cell_type": "code",
   "execution_count": 227,
   "metadata": {},
   "outputs": [
    {
     "name": "stdout",
     "output_type": "stream",
     "text": [
      "[68     GRD\n",
      "114    MNE\n",
      "102    MDG\n",
      "53     GNQ\n",
      "149    STP\n",
      "34     TCD\n",
      "63     GMB\n",
      "128    FSM\n",
      "91     KWT\n",
      "129    MHL\n",
      "146    LCA\n",
      "165    SUR\n",
      "37     TWN\n",
      "192    YEM\n",
      "122    VUT\n",
      "0      AFG\n",
      "133    PNG\n",
      "19     BWA\n",
      "79     IRQ\n",
      "32     CAF\n",
      "71     GUY\n",
      "70     GIN\n",
      "135    PER\n",
      "144    RWA\n",
      "61     GAB\n",
      "60     DJI\n",
      "172    TGO\n",
      "105    MDV\n",
      "22     SLB\n",
      "99     LIE\n",
      "175    ARE\n",
      "4      AGO\n",
      "147    VCT\n",
      "17     BOL\n",
      "Name: ccodealp, dtype: object]\n"
     ]
    },
    {
     "data": {
      "text/plain": [
       "(34, 0.35051546391752575)"
      ]
     },
     "execution_count": 227,
     "metadata": {},
     "output_type": "execute_result"
    }
   ],
   "source": [
    "funcion(df1_filter,'who_tobt',True)"
   ]
  },
  {
   "cell_type": "code",
   "execution_count": 223,
   "metadata": {},
   "outputs": [
    {
     "data": {
      "text/plain": [
       "(2, 0.020618556701030927)"
      ]
     },
     "execution_count": 223,
     "metadata": {},
     "output_type": "execute_result"
    }
   ],
   "source": [
    "funcion(df1_filter,'wdi_exph')"
   ]
  },
  {
   "cell_type": "code",
   "execution_count": 224,
   "metadata": {},
   "outputs": [
    {
     "data": {
      "text/plain": [
       "(0, 0.0)"
      ]
     },
     "execution_count": 224,
     "metadata": {},
     "output_type": "execute_result"
    }
   ],
   "source": [
    "funcion(df1_filter,'region')"
   ]
  },
  {
   "cell_type": "markdown",
   "metadata": {},
   "source": [
    "# 4. Grafique los histogramas"
   ]
  },
  {
   "cell_type": "code",
   "execution_count": 275,
   "metadata": {},
   "outputs": [],
   "source": [
    "def graph(dataframe,var,sample_mean=False,true_mean=False):\n",
    "    '''Obtiene el plot de la media, ya sea por la del ejemplo o completa'''\n",
    "    plt.figure()\n",
    "    if(sample_mean == True):\n",
    "        plt.hist(dataframe[var],bins= 30)\n",
    "        plt.axvline(dataframe[var].mean(),color='tomato',linestyle='--',)\n",
    "    if(true_mean == True):\n",
    "        plt.axvline(df[var].mean(),color='green',linestyle='--',)\n",
    "            \n",
    "    return "
   ]
  },
  {
   "cell_type": "code",
   "execution_count": 276,
   "metadata": {},
   "outputs": [
    {
     "data": {
      "image/png": "[encoded data removed]",
      "text/plain": [
       "<Figure size 432x288 with 1 Axes>"
      ]
     },
     "metadata": {
      "needs_background": "light"
     },
     "output_type": "display_data"
    },
    {
     "data": {
      "image/png": "[encoded data removed]",
      "text/plain": [
       "<Figure size 432x288 with 1 Axes>"
      ]
     },
     "metadata": {
      "needs_background": "light"
     },
     "output_type": "display_data"
    },
    {
     "data": {
      "image/png": "[encoded data removed]",
      "text/plain": [
       "<Figure size 432x288 with 1 Axes>"
      ]
     },
     "metadata": {
      "needs_background": "light"
     },
     "output_type": "display_data"
    },
    {
     "data": {
      "image/png": "[encoded data removed]",
      "text/plain": [
       "<Figure size 432x288 with 1 Axes>"
      ]
     },
     "metadata": {
      "needs_background": "light"
     },
     "output_type": "display_data"
    }
   ],
   "source": [
    "graph(df1_filter,'wef_imort',True,True)\n",
    "graph(df1_filter,'who_alc2000',True,True)\n",
    "graph(df1_filter,'who_tobt',True,True)\n",
    "graph(df1_filter,'wdi_exph',True,True)"
   ]
  },
  {
   "cell_type": "markdown",
   "metadata": {},
   "source": [
    "En el caso de la variable wef_imort quedo superior a la media de la muestra"
   ]
  },
  {
   "cell_type": "markdown",
   "metadata": {},
   "source": [
    "5. Genere una función que devuelva un dotplot"
   ]
  },
  {
   "cell_type": "code",
   "execution_count": 304,
   "metadata": {},
   "outputs": [],
   "source": [
    "def dotplot(dataFrame, plot_var,plot_by,global_stat = False,statistic = 'mean'):\n",
    "    plt.figure()\n",
    "    if(statistic == 'mean'):\n",
    "        plt.plot(dataFrame[plot_var],dataFrame[plot_by],'o')\n",
    "        plt.axvline(dataFrame[plot_var].mean(),color='tomato',linestyle='--',)\n",
    "    elif(statistic == 'median'):\n",
    "        plt.plot(dataFrame[plot_var],dataFrame[plot_by],'o')\n",
    "        plt.axvline(dataFrame[plot_var].median(),color='tomato',linestyle='--',)\n",
    "    return 0"
   ]
  },
  {
   "cell_type": "code",
   "execution_count": 305,
   "metadata": {},
   "outputs": [
    {
     "data": {
      "text/plain": [
       "0"
      ]
     },
     "execution_count": 305,
     "metadata": {},
     "output_type": "execute_result"
    },
    {
     "data": {
      "image/png": "[encoded data removed]",
      "text/plain": [
       "<Figure size 432x288 with 1 Axes>"
      ]
     },
     "metadata": {
      "needs_background": "light"
     },
     "output_type": "display_data"
    }
   ],
   "source": [
    "dotplot(df1_filter,'who_tobt','region')"
   ]
  },
  {
   "cell_type": "code",
   "execution_count": 306,
   "metadata": {},
   "outputs": [
    {
     "data": {
      "text/plain": [
       "0"
      ]
     },
     "execution_count": 306,
     "metadata": {},
     "output_type": "execute_result"
    },
    {
     "data": {
      "image/png": "[encoded data removed]",
      "text/plain": [
       "<Figure size 432x288 with 1 Axes>"
      ]
     },
     "metadata": {
      "needs_background": "light"
     },
     "output_type": "display_data"
    }
   ],
   "source": [
    "dotplot(df1_filter,'wef_imort','region')"
   ]
  },
  {
   "cell_type": "code",
   "execution_count": 307,
   "metadata": {},
   "outputs": [
    {
     "data": {
      "text/plain": [
       "0"
      ]
     },
     "execution_count": 307,
     "metadata": {},
     "output_type": "execute_result"
    },
    {
     "data": {
      "image/png": "[encoded data removed]",
      "text/plain": [
       "<Figure size 432x288 with 1 Axes>"
      ]
     },
     "metadata": {
      "needs_background": "light"
     },
     "output_type": "display_data"
    }
   ],
   "source": [
    "dotplot(df1_filter,'imf_pop','region')"
   ]
  },
  {
   "cell_type": "markdown",
   "metadata": {},
   "source": [
    "6. Guarde la base de datos"
   ]
  },
  {
   "cell_type": "code",
   "execution_count": 311,
   "metadata": {},
   "outputs": [],
   "source": [
    "df1_filter.to_csv('subsample_fv_demo.csv')"
   ]
  },
  {
   "cell_type": "code",
   "execution_count": null,
   "metadata": {},
   "outputs": [],
   "source": []
  }
 ],
 "metadata": {
  "kernelspec": {
   "display_name": "Python 3",
   "language": "python",
   "name": "python3"
  },
  "language_info": {
   "codemirror_mode": {
    "name": "ipython",
    "version": 3
   },
   "file_extension": ".py",
   "mimetype": "text/x-python",
   "name": "python",
   "nbconvert_exporter": "python",
   "pygments_lexer": "ipython3",
   "version": "3.7.4"
  }
 },
 "nbformat": 4,
 "nbformat_minor": 2
}
