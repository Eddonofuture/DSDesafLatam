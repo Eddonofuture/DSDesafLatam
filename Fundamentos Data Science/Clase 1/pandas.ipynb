{
 "cells": [
  {
   "cell_type": "code",
   "execution_count": 1,
   "metadata": {},
   "outputs": [],
   "source": [
    "import pandas as pd"
   ]
  },
  {
   "cell_type": "code",
   "execution_count": 2,
   "metadata": {},
   "outputs": [],
   "source": [
    "df = pd.read_csv('alumnos.csv')"
   ]
  },
  {
   "cell_type": "code",
   "execution_count": 3,
   "metadata": {},
   "outputs": [
    {
     "data": {
      "text/html": [
       "<div>\n",
       "<style scoped>\n",
       "    .dataframe tbody tr th:only-of-type {\n",
       "        vertical-align: middle;\n",
       "    }\n",
       "\n",
       "    .dataframe tbody tr th {\n",
       "        vertical-align: top;\n",
       "    }\n",
       "\n",
       "    .dataframe thead th {\n",
       "        text-align: right;\n",
       "    }\n",
       "</style>\n",
       "<table border=\"1\" class=\"dataframe\">\n",
       "  <thead>\n",
       "    <tr style=\"text-align: right;\">\n",
       "      <th></th>\n",
       "      <th>nombre</th>\n",
       "      <th>altura</th>\n",
       "      <th>peso</th>\n",
       "      <th>edad</th>\n",
       "      <th>sexo</th>\n",
       "    </tr>\n",
       "  </thead>\n",
       "  <tbody>\n",
       "    <tr>\n",
       "      <th>0</th>\n",
       "      <td>Hugo</td>\n",
       "      <td>1.67</td>\n",
       "      <td>60</td>\n",
       "      <td>23</td>\n",
       "      <td>h</td>\n",
       "    </tr>\n",
       "    <tr>\n",
       "      <th>1</th>\n",
       "      <td>Paco</td>\n",
       "      <td>1.73</td>\n",
       "      <td>83</td>\n",
       "      <td>25</td>\n",
       "      <td>h</td>\n",
       "    </tr>\n",
       "    <tr>\n",
       "      <th>2</th>\n",
       "      <td>Luis</td>\n",
       "      <td>1.62</td>\n",
       "      <td>70</td>\n",
       "      <td>28</td>\n",
       "      <td>h</td>\n",
       "    </tr>\n",
       "    <tr>\n",
       "      <th>3</th>\n",
       "      <td>Diana</td>\n",
       "      <td>1.58</td>\n",
       "      <td>58</td>\n",
       "      <td>21</td>\n",
       "      <td>m</td>\n",
       "    </tr>\n",
       "    <tr>\n",
       "      <th>4</th>\n",
       "      <td>Francisco</td>\n",
       "      <td>1.86</td>\n",
       "      <td>98</td>\n",
       "      <td>28</td>\n",
       "      <td>h</td>\n",
       "    </tr>\n",
       "  </tbody>\n",
       "</table>\n",
       "</div>"
      ],
      "text/plain": [
       "      nombre  altura  peso  edad sexo\n",
       "0       Hugo    1.67    60    23    h\n",
       "1       Paco    1.73    83    25    h\n",
       "2       Luis    1.62    70    28    h\n",
       "3      Diana    1.58    58    21    m\n",
       "4  Francisco    1.86    98    28    h"
      ]
     },
     "execution_count": 3,
     "metadata": {},
     "output_type": "execute_result"
    }
   ],
   "source": [
    "df.head()"
   ]
  },
  {
   "cell_type": "code",
   "execution_count": 4,
   "metadata": {},
   "outputs": [
    {
     "data": {
      "text/plain": [
       "pandas.core.frame.DataFrame"
      ]
     },
     "execution_count": 4,
     "metadata": {},
     "output_type": "execute_result"
    }
   ],
   "source": [
    "type(df)"
   ]
  },
  {
   "cell_type": "code",
   "execution_count": 5,
   "metadata": {},
   "outputs": [
    {
     "data": {
      "text/plain": [
       "Index(['nombre', 'altura', 'peso', 'edad', 'sexo'], dtype='object')"
      ]
     },
     "execution_count": 5,
     "metadata": {},
     "output_type": "execute_result"
    }
   ],
   "source": [
    "df.columns"
   ]
  },
  {
   "cell_type": "code",
   "execution_count": 7,
   "metadata": {
    "scrolled": false
   },
   "outputs": [
    {
     "data": {
      "text/plain": [
       "0     1.67\n",
       "1     1.73\n",
       "2     1.62\n",
       "3     1.58\n",
       "4     1.86\n",
       "5     1.79\n",
       "6     1.69\n",
       "7     1.60\n",
       "8     1.60\n",
       "9     1.98\n",
       "10    1.72\n",
       "11    1.63\n",
       "12    1.73\n",
       "13    1.62\n",
       "14    1.58\n",
       "15    1.86\n",
       "16    1.79\n",
       "17    1.60\n",
       "18    1.98\n",
       "19    1.72\n",
       "20    1.58\n",
       "Name: altura, dtype: float64"
      ]
     },
     "execution_count": 7,
     "metadata": {},
     "output_type": "execute_result"
    }
   ],
   "source": [
    "df['altura'] #esto es una serie"
   ]
  },
  {
   "cell_type": "code",
   "execution_count": 10,
   "metadata": {},
   "outputs": [
    {
     "data": {
      "text/plain": [
       "(pandas.core.series.Series, pandas.core.series.Series)"
      ]
     },
     "execution_count": 10,
     "metadata": {},
     "output_type": "execute_result"
    }
   ],
   "source": [
    "type(df.altura),type(df['altura'])"
   ]
  },
  {
   "cell_type": "code",
   "execution_count": 18,
   "metadata": {},
   "outputs": [
    {
     "data": {
      "text/plain": [
       "nombre    Paco\n",
       "altura    1.73\n",
       "peso        83\n",
       "edad        25\n",
       "sexo         h\n",
       "Name: 1, dtype: object"
      ]
     },
     "execution_count": 18,
     "metadata": {},
     "output_type": "execute_result"
    }
   ],
   "source": [
    "df.iloc[1,:] #de la posicion 1, trae todos los elementos "
   ]
  },
  {
   "cell_type": "code",
   "execution_count": 19,
   "metadata": {},
   "outputs": [
    {
     "data": {
      "text/plain": [
       "RangeIndex(start=0, stop=21, step=1)"
      ]
     },
     "execution_count": 19,
     "metadata": {},
     "output_type": "execute_result"
    }
   ],
   "source": [
    "df['sexo'].index"
   ]
  },
  {
   "cell_type": "code",
   "execution_count": 20,
   "metadata": {},
   "outputs": [
    {
     "data": {
      "text/plain": [
       "array(['h', 'h', 'h', 'm', 'h', 'h', 'm', 'h', 'm', 'h', 'm', 'm', 'm',\n",
       "       'h', 'h', 'm', 'h', 'm', 'h', 'h', 'm'], dtype=object)"
      ]
     },
     "execution_count": 20,
     "metadata": {},
     "output_type": "execute_result"
    }
   ],
   "source": [
    "df['sexo'].values"
   ]
  },
  {
   "cell_type": "code",
   "execution_count": 21,
   "metadata": {},
   "outputs": [],
   "source": [
    "peso_alumnos = df['sexo']"
   ]
  },
  {
   "cell_type": "code",
   "execution_count": 22,
   "metadata": {},
   "outputs": [],
   "source": [
    "#variables cualitativas, nominales atributos no jerarquizados, ordinal = cada numero representa un numero jerarquizado"
   ]
  },
  {
   "cell_type": "code",
   "execution_count": 23,
   "metadata": {},
   "outputs": [],
   "source": [
    "#momentos estadisticos\n",
    "#medidas de tendencia central, resumen aquel numero que describen a la variable\n",
    "#medidas de dispersion, que tan lejos estan de la media\n",
    "#medidas de sesgo, que tan dispersas estan los valores\n",
    "#medidas de kurtosis, altura de la distirbucion respecto al centro"
   ]
  },
  {
   "cell_type": "code",
   "execution_count": 30,
   "metadata": {},
   "outputs": [
    {
     "name": "stdout",
     "output_type": "stream",
     "text": [
      "nombre\n",
      "sexo\n"
     ]
    }
   ],
   "source": [
    "for colname, serie in df.iteritems():\n",
    "    #print ('colname: ' +colname)\n",
    "    if serie.dtype == 'object':\n",
    "        print( colname)"
   ]
  },
  {
   "cell_type": "code",
   "execution_count": 33,
   "metadata": {},
   "outputs": [
    {
     "name": "stdout",
     "output_type": "stream",
     "text": [
      "rowname: nombre    Hugo\n",
      "altura    1.67\n",
      "peso        60\n",
      "edad        23\n",
      "sexo         h\n",
      "Name: 0, dtype: object\n",
      "rowname: nombre    Paco\n",
      "altura    1.73\n",
      "peso        83\n",
      "edad        25\n",
      "sexo         h\n",
      "Name: 1, dtype: object\n",
      "rowname: nombre    Luis\n",
      "altura    1.62\n",
      "peso        70\n",
      "edad        28\n",
      "sexo         h\n",
      "Name: 2, dtype: object\n",
      "rowname: nombre    Diana\n",
      "altura     1.58\n",
      "peso         58\n",
      "edad         21\n",
      "sexo          m\n",
      "Name: 3, dtype: object\n",
      "rowname: nombre    Francisco\n",
      "altura         1.86\n",
      "peso             98\n",
      "edad             28\n",
      "sexo              h\n",
      "Name: 4, dtype: object\n",
      "rowname: nombre    Felipe\n",
      "altura      1.79\n",
      "peso         100\n",
      "edad          26\n",
      "sexo           h\n",
      "Name: 5, dtype: object\n",
      "rowname: nombre    Jacinta\n",
      "altura       1.69\n",
      "peso           62\n",
      "edad           20\n",
      "sexo            m\n",
      "Name: 6, dtype: object\n",
      "rowname: nombre    Bernardo\n",
      "altura         1.6\n",
      "peso            83\n",
      "edad            31\n",
      "sexo             h\n",
      "Name: 7, dtype: object\n",
      "rowname: nombre    Marisol\n",
      "altura        1.6\n",
      "peso           56\n",
      "edad           30\n",
      "sexo            m\n",
      "Name: 8, dtype: object\n",
      "rowname: nombre    Facundo\n",
      "altura       1.98\n",
      "peso          112\n",
      "edad           36\n",
      "sexo            h\n",
      "Name: 9, dtype: object\n",
      "rowname: nombre    Trinidad\n",
      "altura        1.72\n",
      "peso            72\n",
      "edad            21\n",
      "sexo             m\n",
      "Name: 10, dtype: object\n",
      "rowname: nombre    Camila\n",
      "altura      1.63\n",
      "peso          57\n",
      "edad          26\n",
      "sexo           m\n",
      "Name: 11, dtype: object\n",
      "rowname: nombre    Macarena\n",
      "altura        1.73\n",
      "peso            68\n",
      "edad            27\n",
      "sexo             m\n",
      "Name: 12, dtype: object\n",
      "rowname: nombre    Diego\n",
      "altura     1.62\n",
      "peso         78\n",
      "edad         23\n",
      "sexo          h\n",
      "Name: 13, dtype: object\n",
      "rowname: nombre    Gonzalo\n",
      "altura       1.58\n",
      "peso           67\n",
      "edad           22\n",
      "sexo            h\n",
      "Name: 14, dtype: object\n",
      "rowname: nombre    Alejandra\n",
      "altura         1.86\n",
      "peso             74\n",
      "edad             21\n",
      "sexo              m\n",
      "Name: 15, dtype: object\n",
      "rowname: nombre    Fernando\n",
      "altura        1.79\n",
      "peso            93\n",
      "edad            27\n",
      "sexo             h\n",
      "Name: 16, dtype: object\n",
      "rowname: nombre    Carolina\n",
      "altura         1.6\n",
      "peso            63\n",
      "edad            28\n",
      "sexo             m\n",
      "Name: 17, dtype: object\n",
      "rowname: nombre    Vicente\n",
      "altura       1.98\n",
      "peso          102\n",
      "edad           31\n",
      "sexo            h\n",
      "Name: 18, dtype: object\n",
      "rowname: nombre    Benjamín\n",
      "altura        1.72\n",
      "peso            78\n",
      "edad            36\n",
      "sexo             h\n",
      "Name: 19, dtype: object\n",
      "rowname: nombre    Gloria\n",
      "altura      1.58\n",
      "peso          65\n",
      "edad          23\n",
      "sexo           m\n",
      "Name: 20, dtype: object\n"
     ]
    }
   ],
   "source": [
    "for rowname , serie in df.iterrows():\n",
    "    print ('rowname: ' + str(serie))"
   ]
  },
  {
   "cell_type": "code",
   "execution_count": 36,
   "metadata": {},
   "outputs": [
    {
     "data": {
      "text/plain": [
       "3         Diana\n",
       "6       Jacinta\n",
       "8       Marisol\n",
       "10     Trinidad\n",
       "11       Camila\n",
       "12     Macarena\n",
       "15    Alejandra\n",
       "17     Carolina\n",
       "20       Gloria\n",
       "Name: nombre, dtype: object"
      ]
     },
     "execution_count": 36,
     "metadata": {},
     "output_type": "execute_result"
    }
   ],
   "source": [
    "df[df['sexo'] == 'm']['nombre']"
   ]
  },
  {
   "cell_type": "code",
   "execution_count": null,
   "metadata": {},
   "outputs": [],
   "source": []
  }
 ],
 "metadata": {
  "kernelspec": {
   "display_name": "Python 3",
   "language": "python",
   "name": "python3"
  },
  "language_info": {
   "codemirror_mode": {
    "name": "ipython",
    "version": 3
   },
   "file_extension": ".py",
   "mimetype": "text/x-python",
   "name": "python",
   "nbconvert_exporter": "python",
   "pygments_lexer": "ipython3",
   "version": "3.7.3"
  }
 },
 "nbformat": 4,
 "nbformat_minor": 2
}
