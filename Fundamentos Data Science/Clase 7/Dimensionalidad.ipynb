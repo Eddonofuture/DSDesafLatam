{
 "cells": [
  {
   "cell_type": "code",
   "execution_count": 2,
   "metadata": {},
   "outputs": [],
   "source": [
    "import pandas as pd\n",
    "import numpy as np\n",
    "import matplotlib.pyplot as plt\n",
    "%matplotlib inline\n",
    "import scipy.stats as stats\n",
    "import seaborn as sns\n",
    "import lec7_graphs as gfx\n",
    "import warnings\n",
    "warnings.filterwarnings(action=\"ignore\")\n",
    "plt.style.use('seaborn')"
   ]
  },
  {
   "cell_type": "code",
   "execution_count": 3,
   "metadata": {},
   "outputs": [],
   "source": [
    "import factor_analyzer as factor\n",
    "#from factor_analyzer import FactorAnalyzer\n",
    "import missingno as msngo\n",
    "df = pd.read_csv('cep45.csv')"
   ]
  },
  {
   "cell_type": "code",
   "execution_count": 4,
   "metadata": {},
   "outputs": [
    {
     "data": {
      "text/plain": [
       "Index(['corr', 'filtro', 'psu', 'region', 'p1_1', 'p1_2', 'p1_3', 'p2', 'p3',\n",
       "       'p4',\n",
       "       ...\n",
       "       'de14_b', 'de14_c', 'de14_d', 'de14_e', 'de14_f', 'de15', 'de16',\n",
       "       'de17', 'b5', 'pond'],\n",
       "      dtype='object', length=188)"
      ]
     },
     "execution_count": 4,
     "metadata": {},
     "output_type": "execute_result"
    }
   ],
   "source": [
    "df.columns"
   ]
  },
  {
   "cell_type": "code",
   "execution_count": 5,
   "metadata": {},
   "outputs": [],
   "source": [
    "trust_df = df.filter(regex='p17_*')"
   ]
  },
  {
   "cell_type": "code",
   "execution_count": null,
   "metadata": {},
   "outputs": [],
   "source": []
  },
  {
   "cell_type": "code",
   "execution_count": 6,
   "metadata": {},
   "outputs": [
    {
     "data": {
      "text/html": [
       "<div>\n",
       "<style scoped>\n",
       "    .dataframe tbody tr th:only-of-type {\n",
       "        vertical-align: middle;\n",
       "    }\n",
       "\n",
       "    .dataframe tbody tr th {\n",
       "        vertical-align: top;\n",
       "    }\n",
       "\n",
       "    .dataframe thead th {\n",
       "        text-align: right;\n",
       "    }\n",
       "</style>\n",
       "<table border=\"1\" class=\"dataframe\">\n",
       "  <thead>\n",
       "    <tr style=\"text-align: right;\">\n",
       "      <th></th>\n",
       "      <th>p17_a</th>\n",
       "      <th>p17_b</th>\n",
       "      <th>p17_c</th>\n",
       "      <th>p17_d</th>\n",
       "      <th>p17_e</th>\n",
       "      <th>p17_f</th>\n",
       "      <th>p17_g</th>\n",
       "      <th>p17_h</th>\n",
       "      <th>p17_i</th>\n",
       "      <th>p17_j</th>\n",
       "      <th>p17_k</th>\n",
       "      <th>p17_l</th>\n",
       "      <th>p17_m</th>\n",
       "      <th>p17_n</th>\n",
       "    </tr>\n",
       "  </thead>\n",
       "  <tbody>\n",
       "    <tr>\n",
       "      <td>542</td>\n",
       "      <td>3</td>\n",
       "      <td>4</td>\n",
       "      <td>2</td>\n",
       "      <td>3</td>\n",
       "      <td>2</td>\n",
       "      <td>3</td>\n",
       "      <td>2</td>\n",
       "      <td>2</td>\n",
       "      <td>2</td>\n",
       "      <td>3</td>\n",
       "      <td>3</td>\n",
       "      <td>3</td>\n",
       "      <td>4</td>\n",
       "      <td>2</td>\n",
       "    </tr>\n",
       "  </tbody>\n",
       "</table>\n",
       "</div>"
      ],
      "text/plain": [
       "     p17_a  p17_b  p17_c  p17_d  p17_e  p17_f  p17_g  p17_h  p17_i  p17_j  \\\n",
       "542      3      4      2      3      2      3      2      2      2      3   \n",
       "\n",
       "     p17_k  p17_l  p17_m  p17_n  \n",
       "542      3      3      4      2  "
      ]
     },
     "execution_count": 6,
     "metadata": {},
     "output_type": "execute_result"
    }
   ],
   "source": [
    "trust_df.sample()"
   ]
  },
  {
   "cell_type": "code",
   "execution_count": 7,
   "metadata": {},
   "outputs": [],
   "source": [
    "trust_df = trust_df.rename(columns={'p17_a': 'I.Catolica', 'p17_b': 'I.Evangelica', 'p17_c': 'FFAA', 'p17_d':\n",
    "'Justicia',\n",
    "'p17_e': 'Prensa', 'p17_f': 'Television', 'p17_g':'Sindicatos', 'p17_h':'Carabineros',\n",
    "'p17_i': 'Gobierno', 'p17_j': 'PartidosPol', 'p17_k': 'Congreso', 'p17_l':'Empresas',\n",
    "'p17_m':'Universidades', 'p17_n':'Radio'})"
   ]
  },
  {
   "cell_type": "code",
   "execution_count": 10,
   "metadata": {},
   "outputs": [
    {
     "name": "stdout",
     "output_type": "stream",
     "text": [
      "I.Catolica 0.03\n",
      "I.Evangelica 0.07\n",
      "FFAA 0.04\n",
      "Justicia 0.04\n",
      "Prensa 0.03\n",
      "Television 0.02\n",
      "Sindicatos 0.09\n",
      "Carabineros 0.02\n",
      "Gobierno 0.03\n",
      "PartidosPol 0.03\n",
      "Congreso 0.05\n",
      "Empresas 0.04\n",
      "Universidades 0.07\n",
      "Radio 0.03\n"
     ]
    }
   ],
   "source": [
    "def fetch_missing(df, missing_vals):\n",
    "    for colname, serie in df.iteritems():\n",
    "        print(colname, serie.isin(missing_vals).value_counts('%')[1].round(2))\n",
    "fetch_missing(trust_df, missing_vals=[8, 9])"
   ]
  },
  {
   "cell_type": "code",
   "execution_count": 11,
   "metadata": {},
   "outputs": [
    {
     "data": {
      "text/plain": [
       "<Figure size 288x288 with 0 Axes>"
      ]
     },
     "metadata": {},
     "output_type": "display_data"
    },
    {
     "data": {
      "image/png": "[encoded data removed]",
      "text/plain": [
       "<Figure size 1800x720 with 2 Axes>"
      ]
     },
     "metadata": {
      "needs_background": "light"
     },
     "output_type": "display_data"
    }
   ],
   "source": [
    "plt.figure(figsize=(4,4))\n",
    "msngo.matrix(trust_df.replace([8, 9], [np.nan, np.nan]));"
   ]
  },
  {
   "cell_type": "code",
   "execution_count": 14,
   "metadata": {},
   "outputs": [
    {
     "data": {
      "text/plain": [
       "[<matplotlib.lines.Line2D at 0x16edf139518>]"
      ]
     },
     "execution_count": 14,
     "metadata": {},
     "output_type": "execute_result"
    },
    {
     "data": {
      "image/png": "[encoded data removed]",
      "text/plain": [
       "<Figure size 432x288 with 1 Axes>"
      ]
     },
     "metadata": {
      "needs_background": "light"
     },
     "output_type": "display_data"
    }
   ],
   "source": [
    "# Generamos dos arrays vacíos para guardar el nombre de la variable y la media\n",
    "variable = []\n",
    "mean = []\n",
    "# para cada columna de la base, extraemos su nombre y sus valores\n",
    "for colname, serie in trust_df.iteritems():\n",
    "    # guardamos el nombre en variable\n",
    "    variable.append(colname)\n",
    "    # calculamos y procesamos la media\n",
    "    mean.append(serie.mean())\n",
    "df = pd.DataFrame({'var':variable, 'mean': mean}).sort_values(by=['mean'])\n",
    "plt.plot(df['mean'], df['var'],'o')"
   ]
  },
  {
   "cell_type": "code",
   "execution_count": 16,
   "metadata": {},
   "outputs": [
    {
     "data": {
      "text/plain": [
       "(6630.891612219014, 0.0)"
      ]
     },
     "execution_count": 16,
     "metadata": {},
     "output_type": "execute_result"
    }
   ],
   "source": [
    "import factor_analyzer as fact\n",
    "fact.calculate_bartlett_sphericity(trust_df)"
   ]
  },
  {
   "cell_type": "code",
   "execution_count": 37,
   "metadata": {},
   "outputs": [
    {
     "data": {
      "text/plain": [
       "(                    KMO\n",
       " I.Catolica     0.938611\n",
       " I.Evangelica   0.927266\n",
       " FFAA           0.931852\n",
       " Justicia       0.952914\n",
       " Prensa         0.919814\n",
       " Television     0.885661\n",
       " Sindicatos     0.936799\n",
       " Carabineros    0.911312\n",
       " Gobierno       0.939891\n",
       " PartidosPol    0.913019\n",
       " Congreso       0.919379\n",
       " Empresas       0.942421\n",
       " Universidades  0.951845\n",
       " Radio          0.932296, 0.9275552166414559)"
      ]
     },
     "execution_count": 37,
     "metadata": {},
     "output_type": "execute_result"
    }
   ],
   "source": [
    "fact.calculate_kmo(trust_df)# importancia relativa >.7 factor latente, kmo referencia de la importancia especifica de cada variable, el 2 es al kmo global, reportar el kmo global es improtante, por lo menos hay 1 factor latente que es importante (al tener kmo > .7)"
   ]
  },
  {
   "cell_type": "code",
   "execution_count": 38,
   "metadata": {},
   "outputs": [],
   "source": [
    "factorize = factor.FactorAnalyzer()\n",
    "factorize.analyze(trust_df, n_factors = 2, method = 'varimax')"
   ]
  },
  {
   "cell_type": "code",
   "execution_count": 39,
   "metadata": {},
   "outputs": [],
   "source": [
    "factor_eigenvalues = factorize.get_eigenvalues()[0]"
   ]
  },
  {
   "cell_type": "code",
   "execution_count": 40,
   "metadata": {},
   "outputs": [
    {
     "data": {
      "text/html": [
       "<div>\n",
       "<style scoped>\n",
       "    .dataframe tbody tr th:only-of-type {\n",
       "        vertical-align: middle;\n",
       "    }\n",
       "\n",
       "    .dataframe tbody tr th {\n",
       "        vertical-align: top;\n",
       "    }\n",
       "\n",
       "    .dataframe thead th {\n",
       "        text-align: right;\n",
       "    }\n",
       "</style>\n",
       "<table border=\"1\" class=\"dataframe\">\n",
       "  <thead>\n",
       "    <tr style=\"text-align: right;\">\n",
       "      <th></th>\n",
       "      <th>Original_Eigenvalues</th>\n",
       "    </tr>\n",
       "  </thead>\n",
       "  <tbody>\n",
       "    <tr>\n",
       "      <td>0</td>\n",
       "      <td>5.498424</td>\n",
       "    </tr>\n",
       "    <tr>\n",
       "      <td>1</td>\n",
       "      <td>1.145873</td>\n",
       "    </tr>\n",
       "    <tr>\n",
       "      <td>2</td>\n",
       "      <td>0.899263</td>\n",
       "    </tr>\n",
       "    <tr>\n",
       "      <td>3</td>\n",
       "      <td>0.855508</td>\n",
       "    </tr>\n",
       "    <tr>\n",
       "      <td>4</td>\n",
       "      <td>0.721651</td>\n",
       "    </tr>\n",
       "    <tr>\n",
       "      <td>5</td>\n",
       "      <td>0.695720</td>\n",
       "    </tr>\n",
       "    <tr>\n",
       "      <td>6</td>\n",
       "      <td>0.633895</td>\n",
       "    </tr>\n",
       "    <tr>\n",
       "      <td>7</td>\n",
       "      <td>0.623964</td>\n",
       "    </tr>\n",
       "    <tr>\n",
       "      <td>8</td>\n",
       "      <td>0.606091</td>\n",
       "    </tr>\n",
       "    <tr>\n",
       "      <td>9</td>\n",
       "      <td>0.570587</td>\n",
       "    </tr>\n",
       "    <tr>\n",
       "      <td>10</td>\n",
       "      <td>0.499193</td>\n",
       "    </tr>\n",
       "    <tr>\n",
       "      <td>11</td>\n",
       "      <td>0.462086</td>\n",
       "    </tr>\n",
       "    <tr>\n",
       "      <td>12</td>\n",
       "      <td>0.404483</td>\n",
       "    </tr>\n",
       "    <tr>\n",
       "      <td>13</td>\n",
       "      <td>0.383260</td>\n",
       "    </tr>\n",
       "  </tbody>\n",
       "</table>\n",
       "</div>"
      ],
      "text/plain": [
       "    Original_Eigenvalues\n",
       "0               5.498424\n",
       "1               1.145873\n",
       "2               0.899263\n",
       "3               0.855508\n",
       "4               0.721651\n",
       "5               0.695720\n",
       "6               0.633895\n",
       "7               0.623964\n",
       "8               0.606091\n",
       "9               0.570587\n",
       "10              0.499193\n",
       "11              0.462086\n",
       "12              0.404483\n",
       "13              0.383260"
      ]
     },
     "execution_count": 40,
     "metadata": {},
     "output_type": "execute_result"
    }
   ],
   "source": [
    "factor_eigenvalues"
   ]
  },
  {
   "cell_type": "code",
   "execution_count": 41,
   "metadata": {},
   "outputs": [
    {
     "data": {
      "image/png": "[encoded data removed]",
      "text/plain": [
       "<Figure size 432x288 with 1 Axes>"
      ]
     },
     "metadata": {
      "needs_background": "light"
     },
     "output_type": "display_data"
    }
   ],
   "source": [
    "plt.plot(factor_eigenvalues.index + 1, factor_screeplot.values, 'o-', color='tomato')\n",
    "plt.xlabel('Número de Factor')\n",
    "plt.ylabel('Valores Propios')\n",
    "# visualizamos el criterio de corte\n",
    "plt.axhline(1)\n",
    "plt.title(\"Scree plot\");"
   ]
  },
  {
   "cell_type": "code",
   "execution_count": 43,
   "metadata": {},
   "outputs": [
    {
     "data": {
      "text/html": [
       "<div>\n",
       "<style scoped>\n",
       "    .dataframe tbody tr th:only-of-type {\n",
       "        vertical-align: middle;\n",
       "    }\n",
       "\n",
       "    .dataframe tbody tr th {\n",
       "        vertical-align: top;\n",
       "    }\n",
       "\n",
       "    .dataframe thead th {\n",
       "        text-align: right;\n",
       "    }\n",
       "</style>\n",
       "<table border=\"1\" class=\"dataframe\">\n",
       "  <thead>\n",
       "    <tr style=\"text-align: right;\">\n",
       "      <th></th>\n",
       "      <th>Factor1</th>\n",
       "      <th>Factor2</th>\n",
       "    </tr>\n",
       "  </thead>\n",
       "  <tbody>\n",
       "    <tr>\n",
       "      <td>I.Catolica</td>\n",
       "      <td></td>\n",
       "      <td>0.53</td>\n",
       "    </tr>\n",
       "    <tr>\n",
       "      <td>I.Evangelica</td>\n",
       "      <td></td>\n",
       "      <td></td>\n",
       "    </tr>\n",
       "    <tr>\n",
       "      <td>FFAA</td>\n",
       "      <td></td>\n",
       "      <td></td>\n",
       "    </tr>\n",
       "    <tr>\n",
       "      <td>Justicia</td>\n",
       "      <td>0.45</td>\n",
       "      <td></td>\n",
       "    </tr>\n",
       "    <tr>\n",
       "      <td>Prensa</td>\n",
       "      <td></td>\n",
       "      <td>0.45</td>\n",
       "    </tr>\n",
       "    <tr>\n",
       "      <td>Television</td>\n",
       "      <td></td>\n",
       "      <td>0.83</td>\n",
       "    </tr>\n",
       "    <tr>\n",
       "      <td>Sindicatos</td>\n",
       "      <td>0.59</td>\n",
       "      <td></td>\n",
       "    </tr>\n",
       "    <tr>\n",
       "      <td>Carabineros</td>\n",
       "      <td></td>\n",
       "      <td>0.63</td>\n",
       "    </tr>\n",
       "    <tr>\n",
       "      <td>Gobierno</td>\n",
       "      <td>0.42</td>\n",
       "      <td></td>\n",
       "    </tr>\n",
       "    <tr>\n",
       "      <td>PartidosPol</td>\n",
       "      <td>0.74</td>\n",
       "      <td></td>\n",
       "    </tr>\n",
       "    <tr>\n",
       "      <td>Congreso</td>\n",
       "      <td>0.87</td>\n",
       "      <td></td>\n",
       "    </tr>\n",
       "    <tr>\n",
       "      <td>Empresas</td>\n",
       "      <td>0.59</td>\n",
       "      <td></td>\n",
       "    </tr>\n",
       "    <tr>\n",
       "      <td>Universidades</td>\n",
       "      <td>0.4</td>\n",
       "      <td></td>\n",
       "    </tr>\n",
       "    <tr>\n",
       "      <td>Radio</td>\n",
       "      <td></td>\n",
       "      <td>0.64</td>\n",
       "    </tr>\n",
       "  </tbody>\n",
       "</table>\n",
       "</div>"
      ],
      "text/plain": [
       "              Factor1 Factor2\n",
       "I.Catolica               0.53\n",
       "I.Evangelica                 \n",
       "FFAA                         \n",
       "Justicia         0.45        \n",
       "Prensa                   0.45\n",
       "Television               0.83\n",
       "Sindicatos       0.59        \n",
       "Carabineros              0.63\n",
       "Gobierno         0.42        \n",
       "PartidosPol      0.74        \n",
       "Congreso         0.87        \n",
       "Empresas         0.59        \n",
       "Universidades     0.4        \n",
       "Radio                    0.64"
      ]
     },
     "execution_count": 43,
     "metadata": {},
     "output_type": "execute_result"
    }
   ],
   "source": [
    "factorize.loadings.applymap(lambda x: np.where(x < .4,' ', round(x,2)))"
   ]
  },
  {
   "cell_type": "code",
   "execution_count": 48,
   "metadata": {},
   "outputs": [
    {
     "data": {
      "image/png": "[encoded data removed]",
      "text/plain": [
       "<Figure size 432x288 with 1 Axes>"
      ]
     },
     "metadata": {
      "needs_background": "light"
     },
     "output_type": "display_data"
    }
   ],
   "source": [
    "factor_loadings = factorize.loadings\n",
    "\n",
    "# cruzamos ambos factores\n",
    "plt.plot(factor_loadings.Factor1, factor_loadings.Factor2,'o',color='white')\n",
    "plt.xlim((-.2,1)) # definimos límites\n",
    "plt.ylim((-.4, 1))\n",
    "# Para cada elemento en los factores\n",
    "for i, txt in enumerate(factor_loadings.index):\n",
    "    # anotemos el nombre de la variable\n",
    "    plt.annotate(txt, (factor_loadings['Factor1'][i],\n",
    "    factor_loadings['Factor2'][i]))\n",
    "    # Grafiquemos la media de ambos factores\n",
    "    plt.axvline(factor_loadings['Factor1'].mean())\n",
    "    plt.axhline(factor_loadings['Factor2'].mean())\n",
    "    # Reportemos la varianza de cada dimensión\n",
    "    plt.xlabel('Factor 1: {}'.format(round(factor_var['Factor1'][1], 2)))\n",
    "    plt.ylabel('Factor 2: {}'.format(round(factor_var['Factor2'][1], 2)))"
   ]
  },
  {
   "cell_type": "code",
   "execution_count": 50,
   "metadata": {},
   "outputs": [
    {
     "data": {
      "text/html": [
       "<div>\n",
       "<style scoped>\n",
       "    .dataframe tbody tr th:only-of-type {\n",
       "        vertical-align: middle;\n",
       "    }\n",
       "\n",
       "    .dataframe tbody tr th {\n",
       "        vertical-align: top;\n",
       "    }\n",
       "\n",
       "    .dataframe thead th {\n",
       "        text-align: right;\n",
       "    }\n",
       "</style>\n",
       "<table border=\"1\" class=\"dataframe\">\n",
       "  <thead>\n",
       "    <tr style=\"text-align: right;\">\n",
       "      <th></th>\n",
       "      <th>Factor1</th>\n",
       "      <th>Factor2</th>\n",
       "    </tr>\n",
       "  </thead>\n",
       "  <tbody>\n",
       "    <tr>\n",
       "      <td>SS Loadings</td>\n",
       "      <td>2.740167</td>\n",
       "      <td>2.386112</td>\n",
       "    </tr>\n",
       "    <tr>\n",
       "      <td>Proportion Var</td>\n",
       "      <td>0.195726</td>\n",
       "      <td>0.170437</td>\n",
       "    </tr>\n",
       "    <tr>\n",
       "      <td>Cumulative Var</td>\n",
       "      <td>0.195726</td>\n",
       "      <td>0.366163</td>\n",
       "    </tr>\n",
       "  </tbody>\n",
       "</table>\n",
       "</div>"
      ],
      "text/plain": [
       "                 Factor1   Factor2\n",
       "SS Loadings     2.740167  2.386112\n",
       "Proportion Var  0.195726  0.170437\n",
       "Cumulative Var  0.195726  0.366163"
      ]
     },
     "execution_count": 50,
     "metadata": {},
     "output_type": "execute_result"
    }
   ],
   "source": [
    "factor_var = factorize.get_factor_variance()\n",
    "factor_var"
   ]
  },
  {
   "cell_type": "code",
   "execution_count": 51,
   "metadata": {},
   "outputs": [],
   "source": [
    "extract_factor_scores = factorize.get_scores(trust_df)"
   ]
  },
  {
   "cell_type": "code",
   "execution_count": 52,
   "metadata": {},
   "outputs": [
    {
     "data": {
      "text/html": [
       "<div>\n",
       "<style scoped>\n",
       "    .dataframe tbody tr th:only-of-type {\n",
       "        vertical-align: middle;\n",
       "    }\n",
       "\n",
       "    .dataframe tbody tr th {\n",
       "        vertical-align: top;\n",
       "    }\n",
       "\n",
       "    .dataframe thead th {\n",
       "        text-align: right;\n",
       "    }\n",
       "</style>\n",
       "<table border=\"1\" class=\"dataframe\">\n",
       "  <thead>\n",
       "    <tr style=\"text-align: right;\">\n",
       "      <th></th>\n",
       "      <th>Factor1</th>\n",
       "      <th>Factor2</th>\n",
       "    </tr>\n",
       "  </thead>\n",
       "  <tbody>\n",
       "    <tr>\n",
       "      <td>0</td>\n",
       "      <td>-0.477841</td>\n",
       "      <td>0.031113</td>\n",
       "    </tr>\n",
       "    <tr>\n",
       "      <td>1</td>\n",
       "      <td>-0.047859</td>\n",
       "      <td>-0.028650</td>\n",
       "    </tr>\n",
       "    <tr>\n",
       "      <td>2</td>\n",
       "      <td>0.668964</td>\n",
       "      <td>0.608992</td>\n",
       "    </tr>\n",
       "    <tr>\n",
       "      <td>3</td>\n",
       "      <td>-0.134620</td>\n",
       "      <td>-0.370780</td>\n",
       "    </tr>\n",
       "    <tr>\n",
       "      <td>4</td>\n",
       "      <td>-1.120615</td>\n",
       "      <td>-0.992430</td>\n",
       "    </tr>\n",
       "    <tr>\n",
       "      <td>...</td>\n",
       "      <td>...</td>\n",
       "      <td>...</td>\n",
       "    </tr>\n",
       "    <tr>\n",
       "      <td>1498</td>\n",
       "      <td>0.842018</td>\n",
       "      <td>1.246097</td>\n",
       "    </tr>\n",
       "    <tr>\n",
       "      <td>1499</td>\n",
       "      <td>-0.191467</td>\n",
       "      <td>0.349238</td>\n",
       "    </tr>\n",
       "    <tr>\n",
       "      <td>1500</td>\n",
       "      <td>-0.151731</td>\n",
       "      <td>0.030319</td>\n",
       "    </tr>\n",
       "    <tr>\n",
       "      <td>1501</td>\n",
       "      <td>-0.054305</td>\n",
       "      <td>-0.059881</td>\n",
       "    </tr>\n",
       "    <tr>\n",
       "      <td>1502</td>\n",
       "      <td>3.757591</td>\n",
       "      <td>1.681362</td>\n",
       "    </tr>\n",
       "  </tbody>\n",
       "</table>\n",
       "<p>1503 rows × 2 columns</p>\n",
       "</div>"
      ],
      "text/plain": [
       "       Factor1   Factor2\n",
       "0    -0.477841  0.031113\n",
       "1    -0.047859 -0.028650\n",
       "2     0.668964  0.608992\n",
       "3    -0.134620 -0.370780\n",
       "4    -1.120615 -0.992430\n",
       "...        ...       ...\n",
       "1498  0.842018  1.246097\n",
       "1499 -0.191467  0.349238\n",
       "1500 -0.151731  0.030319\n",
       "1501 -0.054305 -0.059881\n",
       "1502  3.757591  1.681362\n",
       "\n",
       "[1503 rows x 2 columns]"
      ]
     },
     "execution_count": 52,
     "metadata": {},
     "output_type": "execute_result"
    }
   ],
   "source": [
    "extract_factor_scores"
   ]
  },
  {
   "cell_type": "code",
   "execution_count": 53,
   "metadata": {},
   "outputs": [
    {
     "data": {
      "text/plain": [
       "<matplotlib.legend.Legend at 0x16edf18ada0>"
      ]
     },
     "execution_count": 53,
     "metadata": {},
     "output_type": "execute_result"
    },
    {
     "data": {
      "image/png": "[encoded data removed]",
      "text/plain": [
       "<Figure size 432x288 with 1 Axes>"
      ]
     },
     "metadata": {
      "needs_background": "light"
     },
     "output_type": "display_data"
    }
   ],
   "source": [
    "sns.distplot(extract_factor_scores.loc[:, 'Factor1'], label=\"Institucionalistas\")\n",
    "sns.distplot(extract_factor_scores.loc[:, 'Factor2'], label=\"Cotidianos\")\n",
    "plt.legend()"
   ]
  },
  {
   "cell_type": "code",
   "execution_count": null,
   "metadata": {},
   "outputs": [],
   "source": []
  }
 ],
 "metadata": {
  "kernelspec": {
   "display_name": "Python 3",
   "language": "python",
   "name": "python3"
  },
  "language_info": {
   "codemirror_mode": {
    "name": "ipython",
    "version": 3
   },
   "file_extension": ".py",
   "mimetype": "text/x-python",
   "name": "python",
   "nbconvert_exporter": "python",
   "pygments_lexer": "ipython3",
   "version": "3.6.9"
  }
 },
 "nbformat": 4,
 "nbformat_minor": 2
}
