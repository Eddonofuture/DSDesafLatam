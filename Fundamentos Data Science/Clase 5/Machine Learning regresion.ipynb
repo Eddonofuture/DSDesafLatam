{
 "cells": [
  {
   "cell_type": "code",
   "execution_count": 3,
   "metadata": {},
   "outputs": [],
   "source": [
    "import warnings\n",
    "warnings.filterwarnings('ignore')\n",
    "import pandas as pd\n",
    "import numpy as np\n",
    "from scipy import stats\n",
    "import matplotlib.pyplot as plt\n",
    "import seaborn as sns\n",
    "import lec5_graphs as gfx\n",
    "\n",
    "plt.style.use('seaborn-whitegrid')\n",
    "plt.rcParams['figure.figsize'] = (10,6)"
   ]
  },
  {
   "cell_type": "code",
   "execution_count": 4,
   "metadata": {},
   "outputs": [],
   "source": [
    "df = pd.read_csv('earnings.csv').drop('Unnamed: 0',axis=1)"
   ]
  },
  {
   "cell_type": "code",
   "execution_count": 5,
   "metadata": {},
   "outputs": [],
   "source": [
    "from sklearn.linear_model import LinearRegression\n",
    "from sklearn.metrics import mean_squared_error, r2_score"
   ]
  },
  {
   "cell_type": "code",
   "execution_count": 6,
   "metadata": {},
   "outputs": [],
   "source": [
    "attr_mat = df.drop(['earn'],axis=1)"
   ]
  },
  {
   "cell_type": "code",
   "execution_count": 8,
   "metadata": {},
   "outputs": [],
   "source": [
    "X_mat_train = attr_mat[:-30]\n",
    "X_mat_test = attr_mat[-30:]\n",
    "y_train = df['earn'][:-30]\n",
    "y_test = df['earn'][-30:]"
   ]
  },
  {
   "cell_type": "code",
   "execution_count": 11,
   "metadata": {},
   "outputs": [
    {
     "data": {
      "text/plain": [
       "(1344, 12)"
      ]
     },
     "execution_count": 11,
     "metadata": {},
     "output_type": "execute_result"
    }
   ],
   "source": [
    "X_mat_train.shape"
   ]
  },
  {
   "cell_type": "code",
   "execution_count": 12,
   "metadata": {},
   "outputs": [],
   "source": [
    "modelo_sklearn = LinearRegression().fit(X_mat_train,y_train)"
   ]
  },
  {
   "cell_type": "code",
   "execution_count": 13,
   "metadata": {},
   "outputs": [
    {
     "data": {
      "text/plain": [
       "array([   16.65006939,   135.46647227, -6029.31228857,  -749.4246293 ,\n",
       "        2285.85393581,  2729.51444336,   -33.23454676,   335.26730493,\n",
       "          33.23454676,  2215.35776999,    39.36492231,  6029.31228857])"
      ]
     },
     "execution_count": 13,
     "metadata": {},
     "output_type": "execute_result"
    }
   ],
   "source": [
    "modelo_sklearn.coef_"
   ]
  },
  {
   "cell_type": "code",
   "execution_count": 14,
   "metadata": {},
   "outputs": [
    {
     "data": {
      "text/plain": [
       "Index(['height1', 'height2', 'sex', 'race', 'hisp', 'ed', 'yearbn', 'height',\n",
       "       'age', 'age_category', 'eth', 'male'],\n",
       "      dtype='object')"
      ]
     },
     "execution_count": 14,
     "metadata": {},
     "output_type": "execute_result"
    }
   ],
   "source": [
    "attr_mat.columns"
   ]
  },
  {
   "cell_type": "code",
   "execution_count": 15,
   "metadata": {},
   "outputs": [
    {
     "data": {
      "text/plain": [
       "-39642.581649516185"
      ]
     },
     "execution_count": 15,
     "metadata": {},
     "output_type": "execute_result"
    }
   ],
   "source": [
    "modelo_sklearn.intercept_"
   ]
  },
  {
   "cell_type": "code",
   "execution_count": 16,
   "metadata": {},
   "outputs": [],
   "source": [
    "earn_yhat = modelo_sklearn.predict(X_mat_test)"
   ]
  },
  {
   "cell_type": "code",
   "execution_count": 17,
   "metadata": {},
   "outputs": [
    {
     "data": {
      "text/plain": [
       "array([26511.73480161, 29319.47906573, 23974.62377808,  5461.1796184 ,\n",
       "       15985.79575976, 22977.51018177, 18475.33784415, 27209.5700335 ,\n",
       "       25721.83159156, 40449.2596724 , 15625.03116587, 26637.97715915,\n",
       "       15569.38512397, 42983.40165038, 24283.30932393, 24379.19649299,\n",
       "       20999.99488436, 13071.09448075, 20433.10508368, -5401.27840521,\n",
       "       28178.80473294, 27564.76155343, 46239.21871922, 45513.50881321,\n",
       "       24650.52298965, 22442.96832539, 31145.8839531 ,  8493.2975025 ,\n",
       "       28269.5348291 , 22036.04262737])"
      ]
     },
     "execution_count": 17,
     "metadata": {},
     "output_type": "execute_result"
    }
   ],
   "source": [
    "earn_yhat"
   ]
  },
  {
   "cell_type": "code",
   "execution_count": 22,
   "metadata": {},
   "outputs": [],
   "source": [
    "mse_modelo = mean_squared_error(y_test,earn_yhat).round(1)\n",
    "r2_modelo = r2_score(y_test, earn_yhat).round(2)"
   ]
  },
  {
   "cell_type": "code",
   "execution_count": 23,
   "metadata": {},
   "outputs": [
    {
     "data": {
      "text/plain": [
       "(458564220.2, 0.19)"
      ]
     },
     "execution_count": 23,
     "metadata": {},
     "output_type": "execute_result"
    }
   ],
   "source": [
    "mse_modelo,r2_modelo"
   ]
  },
  {
   "cell_type": "code",
   "execution_count": 25,
   "metadata": {},
   "outputs": [],
   "source": [
    "#feature engineering, revisar las correlaciones"
   ]
  },
  {
   "cell_type": "code",
   "execution_count": 31,
   "metadata": {},
   "outputs": [
    {
     "data": {
      "text/html": [
       "<div>\n",
       "<style scoped>\n",
       "    .dataframe tbody tr th:only-of-type {\n",
       "        vertical-align: middle;\n",
       "    }\n",
       "\n",
       "    .dataframe tbody tr th {\n",
       "        vertical-align: top;\n",
       "    }\n",
       "\n",
       "    .dataframe thead th {\n",
       "        text-align: right;\n",
       "    }\n",
       "</style>\n",
       "<table border=\"1\" class=\"dataframe\">\n",
       "  <thead>\n",
       "    <tr style=\"text-align: right;\">\n",
       "      <th></th>\n",
       "      <th>attribute</th>\n",
       "      <th>corr</th>\n",
       "      <th>abs_corr</th>\n",
       "    </tr>\n",
       "  </thead>\n",
       "  <tbody>\n",
       "    <tr>\n",
       "      <th>2</th>\n",
       "      <td>sex</td>\n",
       "      <td>-0.352354</td>\n",
       "      <td>0.352354</td>\n",
       "    </tr>\n",
       "    <tr>\n",
       "      <th>11</th>\n",
       "      <td>male</td>\n",
       "      <td>0.352354</td>\n",
       "      <td>0.352354</td>\n",
       "    </tr>\n",
       "    <tr>\n",
       "      <th>5</th>\n",
       "      <td>ed</td>\n",
       "      <td>0.349334</td>\n",
       "      <td>0.349334</td>\n",
       "    </tr>\n",
       "    <tr>\n",
       "      <th>7</th>\n",
       "      <td>height</td>\n",
       "      <td>0.302707</td>\n",
       "      <td>0.302707</td>\n",
       "    </tr>\n",
       "    <tr>\n",
       "      <th>0</th>\n",
       "      <td>height1</td>\n",
       "      <td>0.188762</td>\n",
       "      <td>0.188762</td>\n",
       "    </tr>\n",
       "    <tr>\n",
       "      <th>1</th>\n",
       "      <td>height2</td>\n",
       "      <td>0.105633</td>\n",
       "      <td>0.105633</td>\n",
       "    </tr>\n",
       "    <tr>\n",
       "      <th>9</th>\n",
       "      <td>age_category</td>\n",
       "      <td>0.075321</td>\n",
       "      <td>0.075321</td>\n",
       "    </tr>\n",
       "    <tr>\n",
       "      <th>6</th>\n",
       "      <td>yearbn</td>\n",
       "      <td>-0.068475</td>\n",
       "      <td>0.068475</td>\n",
       "    </tr>\n",
       "    <tr>\n",
       "      <th>8</th>\n",
       "      <td>age</td>\n",
       "      <td>0.068475</td>\n",
       "      <td>0.068475</td>\n",
       "    </tr>\n",
       "    <tr>\n",
       "      <th>4</th>\n",
       "      <td>hisp</td>\n",
       "      <td>0.055187</td>\n",
       "      <td>0.055187</td>\n",
       "    </tr>\n",
       "    <tr>\n",
       "      <th>10</th>\n",
       "      <td>eth</td>\n",
       "      <td>0.055139</td>\n",
       "      <td>0.055139</td>\n",
       "    </tr>\n",
       "    <tr>\n",
       "      <th>3</th>\n",
       "      <td>race</td>\n",
       "      <td>-0.031410</td>\n",
       "      <td>0.031410</td>\n",
       "    </tr>\n",
       "  </tbody>\n",
       "</table>\n",
       "</div>"
      ],
      "text/plain": [
       "       attribute      corr  abs_corr\n",
       "2            sex -0.352354  0.352354\n",
       "11          male  0.352354  0.352354\n",
       "5             ed  0.349334  0.349334\n",
       "7         height  0.302707  0.302707\n",
       "0        height1  0.188762  0.188762\n",
       "1        height2  0.105633  0.105633\n",
       "9   age_category  0.075321  0.075321\n",
       "6         yearbn -0.068475  0.068475\n",
       "8            age  0.068475  0.068475\n",
       "4           hisp  0.055187  0.055187\n",
       "10           eth  0.055139  0.055139\n",
       "3           race -0.031410  0.031410"
      ]
     },
     "execution_count": 31,
     "metadata": {},
     "output_type": "execute_result"
    }
   ],
   "source": [
    "columns = df.columns\n",
    "\n",
    "attr_name , pearson_r , abs_pearson_r  = [], [], []\n",
    "\n",
    "for col in columns:\n",
    "    if col != 'earn':\n",
    "        attr_name.append(col)\n",
    "        pearson_r.append(df[col].corr(df['earn']))\n",
    "        abs_pearson_r.append(abs(df[col].corr(df['earn'])))\n",
    "\n",
    "features = pd.DataFrame({\n",
    "    'attribute': attr_name,\n",
    "    'corr': pearson_r,\n",
    "    'abs_corr': abs_pearson_r\n",
    "})\n",
    "\n",
    "feature = features.set_index('attribute')\n",
    "features.sort_values(by=['abs_corr'],ascending=False)"
   ]
  },
  {
   "cell_type": "code",
   "execution_count": 29,
   "metadata": {},
   "outputs": [],
   "source": [
    "def get_corrs_ml(df, attr):\n",
    "    '''\n",
    "    Obtiene la correlacion en base al vector objetivo\n",
    "    '''\n",
    "    columns = df.columns\n",
    "\n",
    "    attr_name , pearson_r , abs_pearson_r  = [], [], []\n",
    "\n",
    "    for col in columns:\n",
    "        if col != attr:\n",
    "            attr_name.append(col)\n",
    "            pearson_r.append(df[col].corr(df[attr]))\n",
    "            abs_pearson_r.append(abs(df[col].corr(df[attr])))\n",
    "\n",
    "    features = pd.DataFrame({\n",
    "        'attribute': attr_name,\n",
    "        'corr': pearson_r,\n",
    "        'abs_corr': abs_pearson_r\n",
    "    })\n",
    "\n",
    "    feature = features.set_index('attribute')\n",
    "    return features.sort_values(by=['abs_corr'],ascending=False)"
   ]
  },
  {
   "cell_type": "code",
   "execution_count": 30,
   "metadata": {},
   "outputs": [
    {
     "data": {
      "text/html": [
       "<div>\n",
       "<style scoped>\n",
       "    .dataframe tbody tr th:only-of-type {\n",
       "        vertical-align: middle;\n",
       "    }\n",
       "\n",
       "    .dataframe tbody tr th {\n",
       "        vertical-align: top;\n",
       "    }\n",
       "\n",
       "    .dataframe thead th {\n",
       "        text-align: right;\n",
       "    }\n",
       "</style>\n",
       "<table border=\"1\" class=\"dataframe\">\n",
       "  <thead>\n",
       "    <tr style=\"text-align: right;\">\n",
       "      <th></th>\n",
       "      <th>attribute</th>\n",
       "      <th>corr</th>\n",
       "      <th>abs_corr</th>\n",
       "    </tr>\n",
       "  </thead>\n",
       "  <tbody>\n",
       "    <tr>\n",
       "      <th>2</th>\n",
       "      <td>sex</td>\n",
       "      <td>-0.352354</td>\n",
       "      <td>0.352354</td>\n",
       "    </tr>\n",
       "    <tr>\n",
       "      <th>11</th>\n",
       "      <td>male</td>\n",
       "      <td>0.352354</td>\n",
       "      <td>0.352354</td>\n",
       "    </tr>\n",
       "    <tr>\n",
       "      <th>5</th>\n",
       "      <td>ed</td>\n",
       "      <td>0.349334</td>\n",
       "      <td>0.349334</td>\n",
       "    </tr>\n",
       "    <tr>\n",
       "      <th>7</th>\n",
       "      <td>height</td>\n",
       "      <td>0.302707</td>\n",
       "      <td>0.302707</td>\n",
       "    </tr>\n",
       "    <tr>\n",
       "      <th>0</th>\n",
       "      <td>height1</td>\n",
       "      <td>0.188762</td>\n",
       "      <td>0.188762</td>\n",
       "    </tr>\n",
       "    <tr>\n",
       "      <th>1</th>\n",
       "      <td>height2</td>\n",
       "      <td>0.105633</td>\n",
       "      <td>0.105633</td>\n",
       "    </tr>\n",
       "    <tr>\n",
       "      <th>9</th>\n",
       "      <td>age_category</td>\n",
       "      <td>0.075321</td>\n",
       "      <td>0.075321</td>\n",
       "    </tr>\n",
       "    <tr>\n",
       "      <th>6</th>\n",
       "      <td>yearbn</td>\n",
       "      <td>-0.068475</td>\n",
       "      <td>0.068475</td>\n",
       "    </tr>\n",
       "    <tr>\n",
       "      <th>8</th>\n",
       "      <td>age</td>\n",
       "      <td>0.068475</td>\n",
       "      <td>0.068475</td>\n",
       "    </tr>\n",
       "    <tr>\n",
       "      <th>4</th>\n",
       "      <td>hisp</td>\n",
       "      <td>0.055187</td>\n",
       "      <td>0.055187</td>\n",
       "    </tr>\n",
       "    <tr>\n",
       "      <th>10</th>\n",
       "      <td>eth</td>\n",
       "      <td>0.055139</td>\n",
       "      <td>0.055139</td>\n",
       "    </tr>\n",
       "    <tr>\n",
       "      <th>3</th>\n",
       "      <td>race</td>\n",
       "      <td>-0.031410</td>\n",
       "      <td>0.031410</td>\n",
       "    </tr>\n",
       "  </tbody>\n",
       "</table>\n",
       "</div>"
      ],
      "text/plain": [
       "       attribute      corr  abs_corr\n",
       "2            sex -0.352354  0.352354\n",
       "11          male  0.352354  0.352354\n",
       "5             ed  0.349334  0.349334\n",
       "7         height  0.302707  0.302707\n",
       "0        height1  0.188762  0.188762\n",
       "1        height2  0.105633  0.105633\n",
       "9   age_category  0.075321  0.075321\n",
       "6         yearbn -0.068475  0.068475\n",
       "8            age  0.068475  0.068475\n",
       "4           hisp  0.055187  0.055187\n",
       "10           eth  0.055139  0.055139\n",
       "3           race -0.031410  0.031410"
      ]
     },
     "execution_count": 30,
     "metadata": {},
     "output_type": "execute_result"
    }
   ],
   "source": [
    "get_corrs_ml(df,'earn')"
   ]
  },
  {
   "cell_type": "code",
   "execution_count": 32,
   "metadata": {},
   "outputs": [],
   "source": [
    "y_vec = df['earn']\n",
    "X_mat = df.loc[:, ['sex','male','ed','height']]"
   ]
  },
  {
   "cell_type": "code",
   "execution_count": 33,
   "metadata": {},
   "outputs": [],
   "source": [
    "from sklearn.model_selection import train_test_split"
   ]
  },
  {
   "cell_type": "code",
   "execution_count": 35,
   "metadata": {},
   "outputs": [],
   "source": [
    "X_train, X_test , y_train, y_test = train_test_split(X_mat, y_vec,test_size=.33, random_state = 11238)"
   ]
  },
  {
   "cell_type": "code",
   "execution_count": 36,
   "metadata": {},
   "outputs": [],
   "source": [
    "purge_model = LinearRegression().fit(X_train,y_train)"
   ]
  },
  {
   "cell_type": "code",
   "execution_count": 37,
   "metadata": {},
   "outputs": [],
   "source": [
    "purge_yhat = purge_model.predict(X_test)\n",
    "purge_model_mse = mean_squared_error(y_test,purge_yhat).round(2)\n",
    "purge_model_r2 = r2_score(y_test,purge_yhat).round(2)"
   ]
  },
  {
   "cell_type": "code",
   "execution_count": 38,
   "metadata": {},
   "outputs": [
    {
     "data": {
      "text/plain": [
       "(260123631.72, 0.17)"
      ]
     },
     "execution_count": 38,
     "metadata": {},
     "output_type": "execute_result"
    }
   ],
   "source": [
    "purge_model_mse,purge_model_r2"
   ]
  },
  {
   "cell_type": "code",
   "execution_count": 41,
   "metadata": {},
   "outputs": [
    {
     "data": {
      "image/png": "[encoded data removed]",
      "text/plain": [
       "<Figure size 432x288 with 2 Axes>"
      ]
     },
     "metadata": {
      "needs_background": "light"
     },
     "output_type": "display_data"
    }
   ],
   "source": [
    "labels = ['Modelo','Modelo 2']\n",
    "plt.subplot(2,1,1)\n",
    "plt.barh(labels, [mse_modelo, purge_model_mse])\n",
    "plt.title('Promedio Error Cuadratico')\n",
    "plt.subplot(2,1,2)\n",
    "plt.barh(labels, [r2_modelo, purge_model_r2])\n",
    "plt.title('R2')\n",
    "plt.tight_layout()"
   ]
  },
  {
   "cell_type": "code",
   "execution_count": 42,
   "metadata": {},
   "outputs": [],
   "source": [
    "# minimizar error cuadratico, buscamos error cuadratico promedio sea 0\n",
    "# en r2, buscamos maximar la variabilidad de mi modelo explica el modelo,  buscamos que sea cercano a 1"
   ]
  },
  {
   "cell_type": "code",
   "execution_count": null,
   "metadata": {},
   "outputs": [],
   "source": []
  }
 ],
 "metadata": {
  "kernelspec": {
   "display_name": "Python 3",
   "language": "python",
   "name": "python3"
  },
  "language_info": {
   "codemirror_mode": {
    "name": "ipython",
    "version": 3
   },
   "file_extension": ".py",
   "mimetype": "text/x-python",
   "name": "python",
   "nbconvert_exporter": "python",
   "pygments_lexer": "ipython3",
   "version": "3.6.9"
  }
 },
 "nbformat": 4,
 "nbformat_minor": 2
}
